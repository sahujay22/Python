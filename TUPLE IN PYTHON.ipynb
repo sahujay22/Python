{
 "cells": [
  {
   "cell_type": "markdown",
   "id": "2b9c7e16",
   "metadata": {},
   "source": [
    "# TUPLE"
   ]
  },
  {
   "cell_type": "markdown",
   "id": "25f87352",
   "metadata": {},
   "source": [
    "Tuples are used to store multiple items in a single variable.\n",
    "\n",
    "A tuple is a collection which is ordered and unchangeable. Tuples are written with round brackets ().\n",
    "\n",
    "Example:"
   ]
  },
  {
   "cell_type": "code",
   "execution_count": 1,
   "id": "a44df41e",
   "metadata": {},
   "outputs": [
    {
     "name": "stdout",
     "output_type": "stream",
     "text": [
      "('apple', 'banana', 'cherry')\n"
     ]
    }
   ],
   "source": [
    "tup1=(\"apple\",\"banana\",\"cherry\")\n",
    "print(tup1)"
   ]
  },
  {
   "cell_type": "code",
   "execution_count": 2,
   "id": "f6bd4dc2",
   "metadata": {},
   "outputs": [
    {
     "data": {
      "text/plain": [
       "()"
      ]
     },
     "execution_count": 2,
     "metadata": {},
     "output_type": "execute_result"
    }
   ],
   "source": [
    "a=( )       # empty tuple\n",
    "a"
   ]
  },
  {
   "cell_type": "code",
   "execution_count": 3,
   "id": "dfce3b70",
   "metadata": {},
   "outputs": [
    {
     "data": {
      "text/plain": [
       "(10,)"
      ]
     },
     "execution_count": 3,
     "metadata": {},
     "output_type": "execute_result"
    }
   ],
   "source": [
    "b=(10,)      # tuple with one item , after 10 is necessary\n",
    "b"
   ]
  },
  {
   "cell_type": "markdown",
   "id": "ccd5e6ad",
   "metadata": {},
   "source": [
    "NOTE:- While creating the tuple b, if we do not use the comma after 10, b is treated to be of type int."
   ]
  },
  {
   "cell_type": "code",
   "execution_count": 4,
   "id": "350c612f",
   "metadata": {},
   "outputs": [
    {
     "data": {
      "text/plain": [
       "('Sanjay', 25, 34555.5)"
      ]
     },
     "execution_count": 4,
     "metadata": {},
     "output_type": "execute_result"
    }
   ],
   "source": [
    "c=('Sanjay',25,34555.50)       # tuple with dissimilar items\n",
    "c"
   ]
  },
  {
   "cell_type": "code",
   "execution_count": 5,
   "id": "be6265d3",
   "metadata": {},
   "outputs": [
    {
     "data": {
      "text/plain": [
       "(10, 20, 30, 40)"
      ]
     },
     "execution_count": 5,
     "metadata": {},
     "output_type": "execute_result"
    }
   ],
   "source": [
    "d=(10,20,30,40)         # tuple with similar items\n",
    "d"
   ]
  },
  {
   "cell_type": "code",
   "execution_count": null,
   "id": "7a14a851",
   "metadata": {},
   "outputs": [],
   "source": []
  },
  {
   "cell_type": "markdown",
   "id": "22defeaa",
   "metadata": {},
   "source": [
    "### Tuple Items\n",
    "\n",
    "Tuple items are ordered, unchangeable, and allow duplicate values.\n",
    "\n",
    "Tuple items are indexed, the first item has index [0], the second item has index [1] etc.\n",
    "\n",
    "- When we say that tuples are ordered, it means that the items have a defined order, and that order will not change.\n",
    "- Tuples are unchangeable, meaning that we cannot change, add or remove items after the tuple has been created.\n",
    "- Since tuples are indexed, they can have items with the same value:"
   ]
  },
  {
   "cell_type": "code",
   "execution_count": 6,
   "id": "8eaccb9e",
   "metadata": {},
   "outputs": [
    {
     "name": "stdout",
     "output_type": "stream",
     "text": [
      "('apple', 'banana', 'cherry', 'apple', 'cherry')\n"
     ]
    }
   ],
   "source": [
    "tup2=(\"apple\",\"banana\",\"cherry\",\"apple\",\"cherry\")\n",
    "print(tup2)"
   ]
  },
  {
   "cell_type": "code",
   "execution_count": 7,
   "id": "6cd63b17",
   "metadata": {},
   "outputs": [
    {
     "data": {
      "text/plain": [
       "(10, 10, 10, 10, 10)"
      ]
     },
     "execution_count": 7,
     "metadata": {},
     "output_type": "execute_result"
    }
   ],
   "source": [
    "A=(10,)*5              # stores (10, 10, 10, 10, 10)\n",
    "A"
   ]
  },
  {
   "cell_type": "code",
   "execution_count": 10,
   "id": "11c18446",
   "metadata": {},
   "outputs": [
    {
     "name": "stdout",
     "output_type": "stream",
     "text": [
      "Exceptions a\n"
     ]
    }
   ],
   "source": [
    "tup4=('Handle','Exceptions','Like','a','boss')\n",
    "print(tup4[1],tup4[3])"
   ]
  },
  {
   "cell_type": "markdown",
   "id": "2ce652f2",
   "metadata": {},
   "source": [
    "### Length\n",
    "\n",
    "To determine how many items a tuple has, use the len() function:\n",
    "\n",
    "Example:"
   ]
  },
  {
   "cell_type": "code",
   "execution_count": 11,
   "id": "9bbde3f0",
   "metadata": {},
   "outputs": [
    {
     "data": {
      "text/plain": [
       "3"
      ]
     },
     "execution_count": 11,
     "metadata": {},
     "output_type": "execute_result"
    }
   ],
   "source": [
    "tup5=(\"apple\",\"banana\",\"cherry\")\n",
    "len(tup5)"
   ]
  },
  {
   "cell_type": "markdown",
   "id": "92313966",
   "metadata": {},
   "source": [
    "### type()\n",
    "\n",
    "Tuples are defined as objects with the data type 'tuple':\n",
    "    \n",
    "<class 'tuple'>\n",
    "\n",
    "Example:\n",
    "    \n",
    "What is the data type of a tuple?"
   ]
  },
  {
   "cell_type": "code",
   "execution_count": 12,
   "id": "cae561ff",
   "metadata": {
    "scrolled": true
   },
   "outputs": [
    {
     "data": {
      "text/plain": [
       "tuple"
      ]
     },
     "execution_count": 12,
     "metadata": {},
     "output_type": "execute_result"
    }
   ],
   "source": [
    "tup6=(\"apple\",\"banana\",\"cherry\")\n",
    "type(tup6)"
   ]
  },
  {
   "cell_type": "code",
   "execution_count": 19,
   "id": "843fea57",
   "metadata": {},
   "outputs": [
    {
     "data": {
      "text/plain": [
       "tuple"
      ]
     },
     "execution_count": 19,
     "metadata": {},
     "output_type": "execute_result"
    }
   ],
   "source": [
    "tupl6=(10,)\n",
    "type(tupl6)"
   ]
  },
  {
   "cell_type": "markdown",
   "id": "396f93b9",
   "metadata": {},
   "source": [
    "### Negative Indexing\n",
    "\n",
    "Negative indexing means start from the end.\n",
    "\n",
    "-1 refers to the last item, -2 refers to the second last item etc.\n",
    "\n",
    "Example:\n",
    "    \n",
    "Print the last item of the tuple:"
   ]
  },
  {
   "cell_type": "code",
   "execution_count": 13,
   "id": "3c2ff296",
   "metadata": {},
   "outputs": [
    {
     "data": {
      "text/plain": [
       "'cherry'"
      ]
     },
     "execution_count": 13,
     "metadata": {},
     "output_type": "execute_result"
    }
   ],
   "source": [
    "tup7=(\"apple\", \"banana\", \"cherry\")\n",
    "tup7[-1]"
   ]
  },
  {
   "cell_type": "markdown",
   "id": "e8b1d105",
   "metadata": {},
   "source": [
    "### Range of Indexes\n",
    "\n",
    "You can specify a range of indexes by specifying where to start and where to end the range.\n",
    "\n",
    "When specifying a range, the return value will be a new tuple with the specified items.\n",
    "\n",
    "Example:\n",
    "    \n",
    "Return the third, fourth, and fifth item,"
   ]
  },
  {
   "cell_type": "code",
   "execution_count": 14,
   "id": "4d1809e8",
   "metadata": {},
   "outputs": [
    {
     "data": {
      "text/plain": [
       "('cherry', 'orange', 'kiwi')"
      ]
     },
     "execution_count": 14,
     "metadata": {},
     "output_type": "execute_result"
    }
   ],
   "source": [
    "tup8=(\"apple\", \"banana\", \"cherry\", \"orange\", \"kiwi\", \"melon\", \"mango\")\n",
    "tup8[2:5]\n",
    "\n",
    "# Note: The search will start at index 2 (included) and end at index 5 (not included)."
   ]
  },
  {
   "cell_type": "markdown",
   "id": "56621008",
   "metadata": {},
   "source": [
    "By leaving out the start value, the range will start at the first item.\n",
    "\n",
    "Example:"
   ]
  },
  {
   "cell_type": "code",
   "execution_count": 15,
   "id": "f613f383",
   "metadata": {},
   "outputs": [
    {
     "data": {
      "text/plain": [
       "('apple', 'banana', 'cherry', 'orange')"
      ]
     },
     "execution_count": 15,
     "metadata": {},
     "output_type": "execute_result"
    }
   ],
   "source": [
    "tup9=(\"apple\", \"banana\", \"cherry\", \"orange\", \"kiwi\", \"melon\", \"mango\")\n",
    "tup9[:4]"
   ]
  },
  {
   "cell_type": "markdown",
   "id": "cc4531ab",
   "metadata": {},
   "source": [
    "By leaving out the end value, the range will go on to the end of the tuple.\n",
    "\n",
    "Example:"
   ]
  },
  {
   "cell_type": "code",
   "execution_count": 16,
   "id": "76e81875",
   "metadata": {},
   "outputs": [
    {
     "data": {
      "text/plain": [
       "('cherry', 'orange', 'kiwi', 'melon', 'mango')"
      ]
     },
     "execution_count": 16,
     "metadata": {},
     "output_type": "execute_result"
    }
   ],
   "source": [
    "tup9=(\"apple\", \"banana\", \"cherry\", \"orange\", \"kiwi\", \"melon\", \"mango\")\n",
    "tup9[2:]"
   ]
  },
  {
   "cell_type": "markdown",
   "id": "2573e369",
   "metadata": {},
   "source": [
    "#### Range of Negative Indexes\n",
    "\n",
    "Specify negative indexes if you want to start the search from the end of the tuple.\n",
    "\n",
    "Example:"
   ]
  },
  {
   "cell_type": "code",
   "execution_count": 17,
   "id": "8d041100",
   "metadata": {},
   "outputs": [
    {
     "data": {
      "text/plain": [
       "('orange', 'kiwi', 'melon')"
      ]
     },
     "execution_count": 17,
     "metadata": {},
     "output_type": "execute_result"
    }
   ],
   "source": [
    "tup10=(\"apple\", \"banana\", \"cherry\", \"orange\", \"kiwi\", \"melon\", \"mango\")\n",
    "tup10[-4:-1]\n",
    "\n",
    "# returns the items from index -4 (included) to index -1 (excluded)"
   ]
  },
  {
   "cell_type": "code",
   "execution_count": 15,
   "id": "1a1f8bc3",
   "metadata": {},
   "outputs": [
    {
     "data": {
      "text/plain": [
       "('Sanjay', 23, 23000, 1760, 2040, 135.7, True)"
      ]
     },
     "execution_count": 15,
     "metadata": {},
     "output_type": "execute_result"
    }
   ],
   "source": [
    "tuple11=('Sanjay',23,23000,1760,2040,135.7,True)\n",
    "tuple11"
   ]
  },
  {
   "cell_type": "code",
   "execution_count": 16,
   "id": "fe59c117",
   "metadata": {},
   "outputs": [
    {
     "data": {
      "text/plain": [
       "('Sanjay', 23000, 2040, True)"
      ]
     },
     "execution_count": 16,
     "metadata": {},
     "output_type": "execute_result"
    }
   ],
   "source": [
    "tuple11[::2]"
   ]
  },
  {
   "cell_type": "code",
   "execution_count": 17,
   "id": "600344e0",
   "metadata": {},
   "outputs": [
    {
     "data": {
      "text/plain": [
       "(True, 135.7, 2040, 1760, 23000, 23)"
      ]
     },
     "execution_count": 17,
     "metadata": {},
     "output_type": "execute_result"
    }
   ],
   "source": [
    "tuple11[-1:-len(tuple11):-1]"
   ]
  },
  {
   "cell_type": "code",
   "execution_count": 18,
   "id": "3ef4c1b8",
   "metadata": {},
   "outputs": [
    {
     "data": {
      "text/plain": [
       "(True, 2040, 23000, 'Sanjay')"
      ]
     },
     "execution_count": 18,
     "metadata": {},
     "output_type": "execute_result"
    }
   ],
   "source": [
    "tuple11[-1::-2]"
   ]
  },
  {
   "cell_type": "markdown",
   "id": "2bed0ead",
   "metadata": {},
   "source": [
    "### IN\n",
    "\n",
    "To determine if a specified item is present in a tuple use the in keyword.\n",
    "\n",
    "Example:\n",
    "\n",
    "Check if \"apple\" is present in the tuple."
   ]
  },
  {
   "cell_type": "code",
   "execution_count": 18,
   "id": "ab60cd97",
   "metadata": {},
   "outputs": [
    {
     "name": "stdout",
     "output_type": "stream",
     "text": [
      "Yes, 'apple' is in tup11\n"
     ]
    }
   ],
   "source": [
    "tup11=(\"apple\",\"banana\",\"cherry\")\n",
    "if \"apple\" in tup11:\n",
    "    print(\"Yes, 'apple' is in tup11\")"
   ]
  },
  {
   "cell_type": "markdown",
   "id": "27e5dfc8",
   "metadata": {},
   "source": [
    "##  Mutability \n",
    "\n",
    "A tuple is immutable, i.e. it cannot be modified."
   ]
  },
  {
   "cell_type": "code",
   "execution_count": 19,
   "id": "644a98b8",
   "metadata": {},
   "outputs": [
    {
     "ename": "TypeError",
     "evalue": "'tuple' object does not support item assignment",
     "output_type": "error",
     "traceback": [
      "\u001b[1;31m---------------------------------------------------------------------------\u001b[0m",
      "\u001b[1;31mTypeError\u001b[0m                                 Traceback (most recent call last)",
      "Cell \u001b[1;32mIn[19], line 2\u001b[0m\n\u001b[0;32m      1\u001b[0m tup\u001b[38;5;241m=\u001b[39m(\u001b[38;5;124m'\u001b[39m\u001b[38;5;124mFall\u001b[39m\u001b[38;5;124m'\u001b[39m, \u001b[38;5;124m'\u001b[39m\u001b[38;5;124mIn\u001b[39m\u001b[38;5;124m'\u001b[39m, \u001b[38;5;124m'\u001b[39m\u001b[38;5;124mLine\u001b[39m\u001b[38;5;124m'\u001b[39m)\n\u001b[1;32m----> 2\u001b[0m tup[\u001b[38;5;241m0\u001b[39m]\u001b[38;5;241m=\u001b[39m\u001b[38;5;124m'\u001b[39m\u001b[38;5;124mFALL\u001b[39m\u001b[38;5;124m'\u001b[39m               \u001b[38;5;66;03m# error\u001b[39;00m\n\u001b[0;32m      3\u001b[0m tup\n",
      "\u001b[1;31mTypeError\u001b[0m: 'tuple' object does not support item assignment"
     ]
    }
   ],
   "source": [
    "tup=('Fall', 'In', 'Line')\n",
    "tup[0]='FALL'               # error\n",
    "tup"
   ]
  },
  {
   "cell_type": "code",
   "execution_count": 20,
   "id": "7dc8e244",
   "metadata": {},
   "outputs": [
    {
     "ename": "TypeError",
     "evalue": "'tuple' object does not support item assignment",
     "output_type": "error",
     "traceback": [
      "\u001b[1;31m---------------------------------------------------------------------------\u001b[0m",
      "\u001b[1;31mTypeError\u001b[0m                                 Traceback (most recent call last)",
      "Cell \u001b[1;32mIn[20], line 1\u001b[0m\n\u001b[1;32m----> 1\u001b[0m tup[\u001b[38;5;241m1\u001b[39m:\u001b[38;5;241m3\u001b[39m]\u001b[38;5;241m=\u001b[39m(\u001b[38;5;124m'\u001b[39m\u001b[38;5;124mAbove\u001b[39m\u001b[38;5;124m'\u001b[39m,\u001b[38;5;124m'\u001b[39m\u001b[38;5;124mMark\u001b[39m\u001b[38;5;124m'\u001b[39m)      \u001b[38;5;66;03m# error\u001b[39;00m\n\u001b[0;32m      2\u001b[0m tup\n",
      "\u001b[1;31mTypeError\u001b[0m: 'tuple' object does not support item assignment"
     ]
    }
   ],
   "source": [
    "tup[1:3]=('Above','Mark')      # error\n",
    "tup"
   ]
  },
  {
   "cell_type": "markdown",
   "id": "a6e9dae4",
   "metadata": {},
   "source": [
    "Though a tuple itself is immutable, it can contain mutable objects like lists.\n",
    "\n",
    "If a tuple contains a list, the list can be modified since list is a mutable object."
   ]
  },
  {
   "cell_type": "code",
   "execution_count": 21,
   "id": "3a32e03d",
   "metadata": {},
   "outputs": [
    {
     "name": "stdout",
     "output_type": "stream",
     "text": [
      "([1, 2, 3, 4], [10, 45], 'Oynx')\n"
     ]
    }
   ],
   "source": [
    "tup12=([1,2,3,4],[10,20],'Oynx')\n",
    "tup12[1][1]=45          # changes first item of first list, i.e. 20\n",
    "print(tup12)"
   ]
  },
  {
   "cell_type": "markdown",
   "id": "8f97c0df",
   "metadata": {},
   "source": [
    "But there is a workaround. You can convert the tuple into a list, change the list, and convert the list back into a tuple.\n",
    "\n",
    "Example:"
   ]
  },
  {
   "cell_type": "code",
   "execution_count": 22,
   "id": "29ccc2f5",
   "metadata": {},
   "outputs": [
    {
     "name": "stdout",
     "output_type": "stream",
     "text": [
      "('apple', 'kiwi', 'cherry')\n"
     ]
    }
   ],
   "source": [
    "x=(\"apple\",\"banana\",\"cherry\")\n",
    "y=list(x)\n",
    "y[1]=\"kiwi\"\n",
    "x=tuple(y)\n",
    "\n",
    "print(x)"
   ]
  },
  {
   "cell_type": "markdown",
   "id": "cfa04d7d",
   "metadata": {},
   "source": [
    "## Loop"
   ]
  },
  {
   "cell_type": "code",
   "execution_count": null,
   "id": "dfb03d62",
   "metadata": {},
   "outputs": [],
   "source": [
    "You can loop through the tuple items by using a for loop.\n",
    "\n",
    "Example:"
   ]
  },
  {
   "cell_type": "code",
   "execution_count": 23,
   "id": "23a783ce",
   "metadata": {},
   "outputs": [
    {
     "name": "stdout",
     "output_type": "stream",
     "text": [
      "apple\n",
      "banana\n",
      "cherry\n"
     ]
    }
   ],
   "source": [
    "tup=(\"apple\",\"banana\",\"cherry\")\n",
    "for i in tup:\n",
    "    print(i)"
   ]
  },
  {
   "cell_type": "code",
   "execution_count": 24,
   "id": "d8658c17",
   "metadata": {},
   "outputs": [
    {
     "name": "stdout",
     "output_type": "stream",
     "text": [
      "apple\n",
      "banana\n",
      "cherry\n"
     ]
    }
   ],
   "source": [
    "tup=(\"apple\",\"banana\",\"cherry\")\n",
    "for i in range(len(tup)):\n",
    "    print(tup[i])"
   ]
  },
  {
   "cell_type": "code",
   "execution_count": 25,
   "id": "9650df0c",
   "metadata": {},
   "outputs": [
    {
     "name": "stdout",
     "output_type": "stream",
     "text": [
      "apple\n",
      "banana\n",
      "cherry\n"
     ]
    }
   ],
   "source": [
    "tup=(\"apple\",\"banana\",\"cherry\")\n",
    "i=0\n",
    "while i< len(tup):\n",
    "    print(tup[i])\n",
    "    i=i+1"
   ]
  },
  {
   "cell_type": "markdown",
   "id": "0d068ec8",
   "metadata": {},
   "source": [
    "## Concatenation"
   ]
  },
  {
   "cell_type": "markdown",
   "id": "0821b215",
   "metadata": {},
   "source": [
    "#### Join Two Tuples\n",
    "\n",
    "To join two or more tuples you can use the + operator.\n",
    "\n",
    "Example:"
   ]
  },
  {
   "cell_type": "code",
   "execution_count": 26,
   "id": "f5269d52",
   "metadata": {},
   "outputs": [
    {
     "name": "stdout",
     "output_type": "stream",
     "text": [
      "('a', 'b', 'c', 1, 2, 3)\n"
     ]
    }
   ],
   "source": [
    "tuple1=(\"a\",\"b\",\"c\")\n",
    "tuple2=(1,2,3)\n",
    "\n",
    "tuple3=tuple1+tuple2\n",
    "print(tuple3)"
   ]
  },
  {
   "cell_type": "markdown",
   "id": "7260d5c1",
   "metadata": {},
   "source": [
    "#### Multiply Tuples\n",
    "\n",
    "If you want to multiply the content of a tuple a given number of times, you can use the * operator.\n",
    "\n",
    "Example:"
   ]
  },
  {
   "cell_type": "code",
   "execution_count": 27,
   "id": "1788632f",
   "metadata": {},
   "outputs": [
    {
     "name": "stdout",
     "output_type": "stream",
     "text": [
      "('apple', 'banana', 'cherry', 'apple', 'banana', 'cherry')\n"
     ]
    }
   ],
   "source": [
    "tuple3=(\"apple\", \"banana\", \"cherry\")\n",
    "mul=tuple3*2\n",
    "\n",
    "print(mul)"
   ]
  },
  {
   "cell_type": "markdown",
   "id": "228e9288",
   "metadata": {},
   "source": [
    "## Tuple method\n",
    "\n",
    "Many built-in functions can be used with tuples."
   ]
  },
  {
   "cell_type": "code",
   "execution_count": 1,
   "id": "33de9e31",
   "metadata": {},
   "outputs": [],
   "source": [
    "t = (12, 15, 13, 23, 22, 16, 17)"
   ]
  },
  {
   "cell_type": "markdown",
   "id": "5fde5cb5",
   "metadata": {},
   "source": [
    "#### max() and min()\n"
   ]
  },
  {
   "cell_type": "code",
   "execution_count": 2,
   "id": "962e7093",
   "metadata": {},
   "outputs": [
    {
     "data": {
      "text/plain": [
       "23"
      ]
     },
     "execution_count": 2,
     "metadata": {},
     "output_type": "execute_result"
    }
   ],
   "source": [
    "max(t) # return maximum element in tuple t\n"
   ]
  },
  {
   "cell_type": "code",
   "execution_count": 3,
   "id": "e692a8a0",
   "metadata": {},
   "outputs": [
    {
     "data": {
      "text/plain": [
       "12"
      ]
     },
     "execution_count": 3,
     "metadata": {},
     "output_type": "execute_result"
    }
   ],
   "source": [
    "min(t) # return minimum element in tuple t\n"
   ]
  },
  {
   "cell_type": "markdown",
   "id": "2bcc995b",
   "metadata": {},
   "source": [
    "#### sum"
   ]
  },
  {
   "cell_type": "code",
   "execution_count": 4,
   "id": "819d1436",
   "metadata": {},
   "outputs": [
    {
     "data": {
      "text/plain": [
       "118"
      ]
     },
     "execution_count": 4,
     "metadata": {},
     "output_type": "execute_result"
    }
   ],
   "source": [
    "sum(t) # return sum of all elements in tuple t\n"
   ]
  },
  {
   "cell_type": "markdown",
   "id": "88db59f0",
   "metadata": {},
   "source": [
    "#### any"
   ]
  },
  {
   "cell_type": "code",
   "execution_count": 5,
   "id": "24b3aa99",
   "metadata": {},
   "outputs": [
    {
     "data": {
      "text/plain": [
       "True"
      ]
     },
     "execution_count": 5,
     "metadata": {},
     "output_type": "execute_result"
    }
   ],
   "source": [
    "any(t)   # return True if any element of tpl is True\n"
   ]
  },
  {
   "cell_type": "markdown",
   "id": "9d5fb55d",
   "metadata": {},
   "source": [
    "#### all"
   ]
  },
  {
   "cell_type": "code",
   "execution_count": 6,
   "id": "465f89c1",
   "metadata": {},
   "outputs": [
    {
     "data": {
      "text/plain": [
       "True"
      ]
     },
     "execution_count": 6,
     "metadata": {},
     "output_type": "execute_result"
    }
   ],
   "source": [
    "all(t) # return True if all elements of tpl are True"
   ]
  },
  {
   "cell_type": "markdown",
   "id": "5d0ccb5c",
   "metadata": {},
   "source": [
    "#### sorted"
   ]
  },
  {
   "cell_type": "code",
   "execution_count": 7,
   "id": "22958129",
   "metadata": {},
   "outputs": [
    {
     "data": {
      "text/plain": [
       "[12, 13, 15, 16, 17, 22, 23]"
      ]
     },
     "execution_count": 7,
     "metadata": {},
     "output_type": "execute_result"
    }
   ],
   "source": [
    "sorted(t)      # return sorted list (not sorted tuple)"
   ]
  },
  {
   "cell_type": "markdown",
   "id": "8d9ef39e",
   "metadata": {},
   "source": [
    "#### reversed"
   ]
  },
  {
   "cell_type": "code",
   "execution_count": 8,
   "id": "574147b7",
   "metadata": {},
   "outputs": [
    {
     "data": {
      "text/plain": [
       "<reversed at 0x14d06c9d2d0>"
      ]
     },
     "execution_count": 8,
     "metadata": {},
     "output_type": "execute_result"
    }
   ],
   "source": [
    "reversed(t)       # used for reversing t"
   ]
  },
  {
   "cell_type": "markdown",
   "id": "33e59df3",
   "metadata": {},
   "source": [
    "#### append"
   ]
  },
  {
   "cell_type": "markdown",
   "id": "18742918",
   "metadata": {},
   "source": [
    "Since tuples are immutable, they do not have a built-in append() method."
   ]
  },
  {
   "cell_type": "markdown",
   "id": "79d38eab",
   "metadata": {},
   "source": [
    "#### count()\n",
    "\n",
    "Returns the number of times a specified value occurs in a tuple"
   ]
  },
  {
   "cell_type": "code",
   "execution_count": 9,
   "id": "f716ebb2",
   "metadata": {},
   "outputs": [
    {
     "data": {
      "text/plain": [
       "1"
      ]
     },
     "execution_count": 9,
     "metadata": {},
     "output_type": "execute_result"
    }
   ],
   "source": [
    "t.count(22)"
   ]
  },
  {
   "cell_type": "markdown",
   "id": "bda8259f",
   "metadata": {},
   "source": [
    "#### Index"
   ]
  },
  {
   "cell_type": "code",
   "execution_count": 10,
   "id": "a5a8894c",
   "metadata": {},
   "outputs": [
    {
     "data": {
      "text/plain": [
       "4"
      ]
     },
     "execution_count": 10,
     "metadata": {},
     "output_type": "execute_result"
    }
   ],
   "source": [
    "t.index(22)"
   ]
  },
  {
   "cell_type": "markdown",
   "id": "50491981",
   "metadata": {},
   "source": [
    "#### del"
   ]
  },
  {
   "cell_type": "code",
   "execution_count": 11,
   "id": "85e9dec2",
   "metadata": {},
   "outputs": [],
   "source": [
    "del t"
   ]
  },
  {
   "cell_type": "code",
   "execution_count": 12,
   "id": "942f3095",
   "metadata": {},
   "outputs": [
    {
     "ename": "NameError",
     "evalue": "name 't' is not defined",
     "output_type": "error",
     "traceback": [
      "\u001b[1;31m---------------------------------------------------------------------------\u001b[0m",
      "\u001b[1;31mNameError\u001b[0m                                 Traceback (most recent call last)",
      "Cell \u001b[1;32mIn[12], line 1\u001b[0m\n\u001b[1;32m----> 1\u001b[0m t\n",
      "\u001b[1;31mNameError\u001b[0m: name 't' is not defined"
     ]
    }
   ],
   "source": [
    "t"
   ]
  },
  {
   "cell_type": "code",
   "execution_count": null,
   "id": "178cc540",
   "metadata": {},
   "outputs": [],
   "source": []
  },
  {
   "cell_type": "code",
   "execution_count": null,
   "id": "adaf5ec7",
   "metadata": {},
   "outputs": [],
   "source": []
  },
  {
   "cell_type": "code",
   "execution_count": null,
   "id": "443d2c6c",
   "metadata": {},
   "outputs": [],
   "source": []
  },
  {
   "cell_type": "code",
   "execution_count": 13,
   "id": "1437af88",
   "metadata": {},
   "outputs": [
    {
     "data": {
      "text/plain": [
       "['__add__',\n",
       " '__class__',\n",
       " '__class_getitem__',\n",
       " '__contains__',\n",
       " '__delattr__',\n",
       " '__dir__',\n",
       " '__doc__',\n",
       " '__eq__',\n",
       " '__format__',\n",
       " '__ge__',\n",
       " '__getattribute__',\n",
       " '__getitem__',\n",
       " '__getnewargs__',\n",
       " '__getstate__',\n",
       " '__gt__',\n",
       " '__hash__',\n",
       " '__init__',\n",
       " '__init_subclass__',\n",
       " '__iter__',\n",
       " '__le__',\n",
       " '__len__',\n",
       " '__lt__',\n",
       " '__mul__',\n",
       " '__ne__',\n",
       " '__new__',\n",
       " '__reduce__',\n",
       " '__reduce_ex__',\n",
       " '__repr__',\n",
       " '__rmul__',\n",
       " '__setattr__',\n",
       " '__sizeof__',\n",
       " '__str__',\n",
       " '__subclasshook__',\n",
       " 'count',\n",
       " 'index']"
      ]
     },
     "execution_count": 13,
     "metadata": {},
     "output_type": "execute_result"
    }
   ],
   "source": [
    "dir(tuple)"
   ]
  },
  {
   "cell_type": "code",
   "execution_count": null,
   "id": "6cf8fdc4",
   "metadata": {},
   "outputs": [],
   "source": []
  }
 ],
 "metadata": {
  "kernelspec": {
   "display_name": "Python 3 (ipykernel)",
   "language": "python",
   "name": "python3"
  },
  "language_info": {
   "codemirror_mode": {
    "name": "ipython",
    "version": 3
   },
   "file_extension": ".py",
   "mimetype": "text/x-python",
   "name": "python",
   "nbconvert_exporter": "python",
   "pygments_lexer": "ipython3",
   "version": "3.11.5"
  }
 },
 "nbformat": 4,
 "nbformat_minor": 5
}
