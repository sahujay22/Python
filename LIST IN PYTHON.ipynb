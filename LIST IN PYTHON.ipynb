{
 "cells": [
  {
   "cell_type": "markdown",
   "id": "b3f2c391",
   "metadata": {},
   "source": [
    "# LIST"
   ]
  },
  {
   "cell_type": "markdown",
   "id": "1f2c707d",
   "metadata": {},
   "source": [
    "Lists are used to store multiple items in a single variable.\n",
    "\n",
    "Lists are one of 4 built-in data types in Python used to store collections of data.\n",
    "\n",
    "Lists are created using square brackets."
   ]
  },
  {
   "cell_type": "markdown",
   "id": "cf66826f",
   "metadata": {},
   "source": [
    "List is an array of elements.\n",
    "\n",
    "List elements heterogeneous(different) data types are allowed.\n",
    "\n",
    "Duplicates are allowed.\n",
    "\n",
    "List in list also works."
   ]
  },
  {
   "cell_type": "code",
   "execution_count": 1,
   "id": "674d8ec8",
   "metadata": {},
   "outputs": [
    {
     "data": {
      "text/plain": [
       "[1, 2, 3, 4]"
      ]
     },
     "execution_count": 1,
     "metadata": {},
     "output_type": "execute_result"
    }
   ],
   "source": [
    "list1=[1,2,3,4]\n",
    "list1          # You can write numbers "
   ]
  },
  {
   "cell_type": "code",
   "execution_count": 2,
   "id": "b69c5ae9",
   "metadata": {},
   "outputs": [
    {
     "data": {
      "text/plain": [
       "['A', 'B', 'C', 'D']"
      ]
     },
     "execution_count": 2,
     "metadata": {},
     "output_type": "execute_result"
    }
   ],
   "source": [
    "list2=['A','B','C','D']\n",
    "list2       # you can write strings"
   ]
  },
  {
   "cell_type": "code",
   "execution_count": 3,
   "id": "559e7f1b",
   "metadata": {},
   "outputs": [
    {
     "data": {
      "text/plain": [
       "[1, 2, 3, 4, 'A', 'B', 'C', 'D']"
      ]
     },
     "execution_count": 3,
     "metadata": {},
     "output_type": "execute_result"
    }
   ],
   "source": [
    "list3=[1,2,3,4,'A','B','C','D']\n",
    "list3"
   ]
  },
  {
   "cell_type": "code",
   "execution_count": 4,
   "id": "7b9df186",
   "metadata": {},
   "outputs": [
    {
     "data": {
      "text/plain": [
       "[1, 'Apple', 10.5, (10+20j), True]"
      ]
     },
     "execution_count": 4,
     "metadata": {},
     "output_type": "execute_result"
    }
   ],
   "source": [
    "list4=[1,'Apple',10.5,10+20j,True]\n",
    "list4"
   ]
  },
  {
   "cell_type": "code",
   "execution_count": 5,
   "id": "15b9c830",
   "metadata": {},
   "outputs": [
    {
     "data": {
      "text/plain": [
       "[100, 100, 100]"
      ]
     },
     "execution_count": 5,
     "metadata": {},
     "output_type": "execute_result"
    }
   ],
   "source": [
    "list5=[100,100,100]\n",
    "list5"
   ]
  },
  {
   "cell_type": "code",
   "execution_count": 6,
   "id": "f326ba34",
   "metadata": {},
   "outputs": [
    {
     "data": {
      "text/plain": [
       "[[1, 2, 3, 4]]"
      ]
     },
     "execution_count": 6,
     "metadata": {},
     "output_type": "execute_result"
    }
   ],
   "source": [
    "list6=[[1,2,3,4]]\n",
    "list6"
   ]
  },
  {
   "cell_type": "markdown",
   "id": "7b36a2c8",
   "metadata": {},
   "source": [
    "### type()\n",
    "\n",
    "Lists are defined as objects with the data type 'list':\n",
    "\n",
    "<class 'list'>"
   ]
  },
  {
   "cell_type": "code",
   "execution_count": 7,
   "id": "077408f2",
   "metadata": {},
   "outputs": [
    {
     "data": {
      "text/plain": [
       "list"
      ]
     },
     "execution_count": 7,
     "metadata": {},
     "output_type": "execute_result"
    }
   ],
   "source": [
    "list4=[1,'Apple',10.5,10+20j,True]\n",
    "type(list4)"
   ]
  },
  {
   "cell_type": "code",
   "execution_count": 8,
   "id": "cfbce4e9",
   "metadata": {},
   "outputs": [
    {
     "data": {
      "text/plain": [
       "list"
      ]
     },
     "execution_count": 8,
     "metadata": {},
     "output_type": "execute_result"
    }
   ],
   "source": [
    "list5=[[100,100,100]]\n",
    "type(list5)"
   ]
  },
  {
   "cell_type": "markdown",
   "id": "7bd2a2d2",
   "metadata": {},
   "source": [
    "### Length\n",
    "\n",
    "To determine how many items a list has, use the len() function."
   ]
  },
  {
   "cell_type": "code",
   "execution_count": 9,
   "id": "325923b3",
   "metadata": {},
   "outputs": [
    {
     "data": {
      "text/plain": [
       "5"
      ]
     },
     "execution_count": 9,
     "metadata": {},
     "output_type": "execute_result"
    }
   ],
   "source": [
    "list4=[1,'Apple',10.5,10+20j,True]\n",
    "len(list4)"
   ]
  },
  {
   "cell_type": "code",
   "execution_count": 10,
   "id": "3af72c16",
   "metadata": {},
   "outputs": [
    {
     "data": {
      "text/plain": [
       "3"
      ]
     },
     "execution_count": 10,
     "metadata": {},
     "output_type": "execute_result"
    }
   ],
   "source": [
    "list5=[100,100,100]\n",
    "len(list5)"
   ]
  },
  {
   "cell_type": "code",
   "execution_count": 11,
   "id": "c5fc1173",
   "metadata": {},
   "outputs": [
    {
     "data": {
      "text/plain": [
       "1"
      ]
     },
     "execution_count": 11,
     "metadata": {},
     "output_type": "execute_result"
    }
   ],
   "source": [
    "list6=[[100,100,100]]\n",
    "len(list6)"
   ]
  },
  {
   "cell_type": "markdown",
   "id": "f7b46247",
   "metadata": {},
   "source": [
    "### Index\n",
    "\n",
    "List items are indexed and you can access them by referring to the index number.\n",
    "\n",
    "Note: The first item has index 0."
   ]
  },
  {
   "cell_type": "code",
   "execution_count": 12,
   "id": "17977236",
   "metadata": {},
   "outputs": [
    {
     "data": {
      "text/plain": [
       "10.5"
      ]
     },
     "execution_count": 12,
     "metadata": {},
     "output_type": "execute_result"
    }
   ],
   "source": [
    "list4=[1,'Apple',10.5,10+20j,True]\n",
    "list4[2]"
   ]
  },
  {
   "cell_type": "code",
   "execution_count": 13,
   "id": "9ddfb871",
   "metadata": {},
   "outputs": [
    {
     "data": {
      "text/plain": [
       "(10+20j)"
      ]
     },
     "execution_count": 13,
     "metadata": {},
     "output_type": "execute_result"
    }
   ],
   "source": [
    "list4[3]"
   ]
  },
  {
   "cell_type": "markdown",
   "id": "adfd2d94",
   "metadata": {},
   "source": [
    "### Negative Indexing\n",
    "\n",
    "Negative indexing means start from the end\n",
    "\n",
    "-1 refers to the last item, -2 refers to the second last item etc."
   ]
  },
  {
   "cell_type": "code",
   "execution_count": 14,
   "id": "70290ebc",
   "metadata": {},
   "outputs": [
    {
     "data": {
      "text/plain": [
       "10.5"
      ]
     },
     "execution_count": 14,
     "metadata": {},
     "output_type": "execute_result"
    }
   ],
   "source": [
    "list4=[1,'Apple',10.5,10+20j,True]\n",
    "list4[-3]"
   ]
  },
  {
   "cell_type": "code",
   "execution_count": 15,
   "id": "ec357cf7",
   "metadata": {},
   "outputs": [
    {
     "data": {
      "text/plain": [
       "True"
      ]
     },
     "execution_count": 15,
     "metadata": {},
     "output_type": "execute_result"
    }
   ],
   "source": [
    "list4=[1,'Apple',10.5,10+20j,True]\n",
    "list4[-1]"
   ]
  },
  {
   "cell_type": "code",
   "execution_count": 16,
   "id": "b45ab266",
   "metadata": {},
   "outputs": [
    {
     "data": {
      "text/plain": [
       "1"
      ]
     },
     "execution_count": 16,
     "metadata": {},
     "output_type": "execute_result"
    }
   ],
   "source": [
    "list4=[1,'Apple',10.5,10+20j,True]\n",
    "list4[-len(list4)]"
   ]
  },
  {
   "cell_type": "markdown",
   "id": "d2bf5808",
   "metadata": {},
   "source": [
    "### Range of Indexes\n",
    "\n",
    "You can specify a range of indexes by specifying where to start and where to end the range.\n",
    "\n",
    "When specifying a range, the return value will be a new list with the specified items.\n",
    "\n",
    "Example:"
   ]
  },
  {
   "cell_type": "code",
   "execution_count": 17,
   "id": "306e17de",
   "metadata": {},
   "outputs": [
    {
     "data": {
      "text/plain": [
       "['Apple', 10.5, (10+20j), True]"
      ]
     },
     "execution_count": 17,
     "metadata": {},
     "output_type": "execute_result"
    }
   ],
   "source": [
    "list4=[1,'Apple',10.5,10+20j,True]\n",
    "list4[1:]"
   ]
  },
  {
   "cell_type": "code",
   "execution_count": 18,
   "id": "d5392a55",
   "metadata": {},
   "outputs": [
    {
     "data": {
      "text/plain": [
       "['Apple', 10.5, (10+20j)]"
      ]
     },
     "execution_count": 18,
     "metadata": {},
     "output_type": "execute_result"
    }
   ],
   "source": [
    "list4=[1,'Apple',10.5,10+20j,True]\n",
    "list4[1:4]"
   ]
  },
  {
   "cell_type": "code",
   "execution_count": 19,
   "id": "304d3bd0",
   "metadata": {},
   "outputs": [
    {
     "data": {
      "text/plain": [
       "[1, 'Apple', 10.5, (10+20j), True]"
      ]
     },
     "execution_count": 19,
     "metadata": {},
     "output_type": "execute_result"
    }
   ],
   "source": [
    "list4=[1,'Apple',10.5,10+20j,True]\n",
    "list4[:5]"
   ]
  },
  {
   "cell_type": "markdown",
   "id": "ab78f618",
   "metadata": {},
   "source": [
    "### slice"
   ]
  },
  {
   "cell_type": "code",
   "execution_count": 20,
   "id": "39b1757b",
   "metadata": {},
   "outputs": [
    {
     "data": {
      "text/plain": [
       "[1, 'Apple', 10.5, (10+20j), True]"
      ]
     },
     "execution_count": 20,
     "metadata": {},
     "output_type": "execute_result"
    }
   ],
   "source": [
    "list4=[1,'Apple',10.5,10+20j,True]\n",
    "list4[::1]"
   ]
  },
  {
   "cell_type": "code",
   "execution_count": 21,
   "id": "f837431b",
   "metadata": {},
   "outputs": [
    {
     "data": {
      "text/plain": [
       "['Apple', True]"
      ]
     },
     "execution_count": 21,
     "metadata": {},
     "output_type": "execute_result"
    }
   ],
   "source": [
    "list4=[1,'Apple',10.5,10+20j,True]\n",
    "list4[1:len(list4):3]"
   ]
  },
  {
   "cell_type": "code",
   "execution_count": 22,
   "id": "5d233ee9",
   "metadata": {},
   "outputs": [
    {
     "data": {
      "text/plain": [
       "[1, 10.5, True]"
      ]
     },
     "execution_count": 22,
     "metadata": {},
     "output_type": "execute_result"
    }
   ],
   "source": [
    "list4=[1,'Apple',10.5,10+20j,True]\n",
    "list4[::2]"
   ]
  },
  {
   "cell_type": "markdown",
   "id": "672eee4c",
   "metadata": {},
   "source": [
    "### Range of Negative Indexes\n",
    "\n",
    "Specify negative indexes if you want to start the search from the end of the list."
   ]
  },
  {
   "cell_type": "code",
   "execution_count": 23,
   "id": "86553139",
   "metadata": {},
   "outputs": [
    {
     "data": {
      "text/plain": [
       "['Apple', 10.5, (10+20j)]"
      ]
     },
     "execution_count": 23,
     "metadata": {},
     "output_type": "execute_result"
    }
   ],
   "source": [
    "list4=[1,'Apple',10.5,10+20j,True]\n",
    "list4[-4:-1]"
   ]
  },
  {
   "cell_type": "code",
   "execution_count": 24,
   "id": "a3c153e1",
   "metadata": {},
   "outputs": [
    {
     "data": {
      "text/plain": [
       "[]"
      ]
     },
     "execution_count": 24,
     "metadata": {},
     "output_type": "execute_result"
    }
   ],
   "source": [
    "list4=[1,'Apple',10.5,10+20j,True]\n",
    "list4[-1:-4]"
   ]
  },
  {
   "cell_type": "markdown",
   "id": "457087b6",
   "metadata": {},
   "source": [
    "### slice"
   ]
  },
  {
   "cell_type": "code",
   "execution_count": 25,
   "id": "5446100b",
   "metadata": {},
   "outputs": [
    {
     "data": {
      "text/plain": [
       "[]"
      ]
     },
     "execution_count": 25,
     "metadata": {},
     "output_type": "execute_result"
    }
   ],
   "source": [
    "list4=[1,'Apple',10.5,10+20j,True]\n",
    "list4[-1:-4:1]"
   ]
  },
  {
   "cell_type": "code",
   "execution_count": 26,
   "id": "5decbda8",
   "metadata": {},
   "outputs": [
    {
     "data": {
      "text/plain": [
       "[True, (10+20j), 10.5]"
      ]
     },
     "execution_count": 26,
     "metadata": {},
     "output_type": "execute_result"
    }
   ],
   "source": [
    "list4=[1,'Apple',10.5,10+20j,True]\n",
    "list4[-1:-4:-1]"
   ]
  },
  {
   "cell_type": "code",
   "execution_count": 27,
   "id": "5ef9f953",
   "metadata": {},
   "outputs": [
    {
     "data": {
      "text/plain": [
       "[10.5, (10+20j), True]"
      ]
     },
     "execution_count": 27,
     "metadata": {},
     "output_type": "execute_result"
    }
   ],
   "source": [
    "list4=[1,'Apple',10.5,10+20j,True]\n",
    "list4[2:len(list4):1]"
   ]
  },
  {
   "cell_type": "code",
   "execution_count": 28,
   "id": "299f4fec",
   "metadata": {},
   "outputs": [
    {
     "data": {
      "text/plain": [
       "[]"
      ]
     },
     "execution_count": 28,
     "metadata": {},
     "output_type": "execute_result"
    }
   ],
   "source": [
    "list4=[1,'Apple',10.5,10+20j,True]\n",
    "list4[2:len(list4):-1]"
   ]
  },
  {
   "cell_type": "code",
   "execution_count": 29,
   "id": "2bea30a3",
   "metadata": {},
   "outputs": [
    {
     "data": {
      "text/plain": [
       "[10.5, 'Apple']"
      ]
     },
     "execution_count": 29,
     "metadata": {},
     "output_type": "execute_result"
    }
   ],
   "source": [
    "list4=[1,'Apple',10.5,10+20j,True]\n",
    "list4[2:-len(list4):-1]"
   ]
  },
  {
   "cell_type": "code",
   "execution_count": 30,
   "id": "7bef5dc4",
   "metadata": {},
   "outputs": [
    {
     "data": {
      "text/plain": [
       "[True, (10+20j), 10.5, 'Apple', 1]"
      ]
     },
     "execution_count": 30,
     "metadata": {},
     "output_type": "execute_result"
    }
   ],
   "source": [
    "list4=[1,'Apple',10.5,10+20j,True]\n",
    "list4[-1::-1]"
   ]
  },
  {
   "cell_type": "markdown",
   "id": "5bbd18a8",
   "metadata": {},
   "source": [
    "### IN\n",
    "\n",
    "To determine if a specified item is present in a list use the in keyword"
   ]
  },
  {
   "cell_type": "code",
   "execution_count": 31,
   "id": "475221a5",
   "metadata": {},
   "outputs": [
    {
     "data": {
      "text/plain": [
       "[1, 'a', 5, [1, 'b'], 10]"
      ]
     },
     "execution_count": 31,
     "metadata": {},
     "output_type": "execute_result"
    }
   ],
   "source": [
    "list1=[1,'a',5,[1,'b'],10]\n",
    "list1"
   ]
  },
  {
   "cell_type": "code",
   "execution_count": 32,
   "id": "d2f70059",
   "metadata": {},
   "outputs": [
    {
     "data": {
      "text/plain": [
       "True"
      ]
     },
     "execution_count": 32,
     "metadata": {},
     "output_type": "execute_result"
    }
   ],
   "source": [
    "[1,'b'] in list1"
   ]
  },
  {
   "cell_type": "markdown",
   "id": "a7eaf638",
   "metadata": {},
   "source": [
    "### Loop"
   ]
  },
  {
   "cell_type": "code",
   "execution_count": 33,
   "id": "e05c04d1",
   "metadata": {},
   "outputs": [
    {
     "name": "stdout",
     "output_type": "stream",
     "text": [
      "1\n",
      "a\n",
      "5\n",
      "[1, 'b']\n",
      "10\n"
     ]
    }
   ],
   "source": [
    "list1=[1,'a',5,[1,'b'],10]\n",
    "for i in list1:\n",
    "    print(i)"
   ]
  },
  {
   "cell_type": "markdown",
   "id": "bd21d7f7",
   "metadata": {},
   "source": [
    "Loop Through the Index Numbers:\n",
    "\n",
    "You can also loop through the list items by referring to their index number.\n",
    "\n",
    "Use the range() and len() functions to create a suitable iterable."
   ]
  },
  {
   "cell_type": "code",
   "execution_count": 35,
   "id": "0b6f8f4f",
   "metadata": {},
   "outputs": [
    {
     "name": "stdout",
     "output_type": "stream",
     "text": [
      "1\n",
      "a\n",
      "5\n",
      "[1, 'b']\n",
      "10\n"
     ]
    }
   ],
   "source": [
    "list1=[1,'a',5,[1,'b'],10]\n",
    "for i in range(len(list1)):\n",
    "    print(list1[i])"
   ]
  },
  {
   "cell_type": "markdown",
   "id": "b45b8161",
   "metadata": {},
   "source": [
    "You can loop through the list items by using a while loop.\n",
    "\n",
    "Use the len() function to determine the length of the list, then start at 0 and loop your way through the list items by referring to their indexes.\n",
    "\n",
    "Remember to increase the index by 1 after each iteration."
   ]
  },
  {
   "cell_type": "code",
   "execution_count": 36,
   "id": "18a10419",
   "metadata": {},
   "outputs": [
    {
     "name": "stdout",
     "output_type": "stream",
     "text": [
      "1\n",
      "a\n",
      "5\n",
      "[1, 'b']\n",
      "10\n"
     ]
    }
   ],
   "source": [
    "list1=[1,'a',5,[1,'b'],10]\n",
    "i=0\n",
    "while i<len(list1):\n",
    "    print(list1[i])\n",
    "    i=i+1"
   ]
  },
  {
   "cell_type": "markdown",
   "id": "116b10c0",
   "metadata": {},
   "source": [
    "### Looping Using List Comprehension\n",
    "\n",
    "List Comprehension offers the shortest syntax for looping through lists.\n",
    "\n",
    "Example:\n",
    "\n",
    "A short hand for loop that will print all items in a list;"
   ]
  },
  {
   "cell_type": "code",
   "execution_count": 37,
   "id": "5e938f26",
   "metadata": {},
   "outputs": [
    {
     "name": "stdout",
     "output_type": "stream",
     "text": [
      "1\n",
      "a\n",
      "5\n",
      "[1, 'b']\n",
      "10\n"
     ]
    },
    {
     "data": {
      "text/plain": [
       "[None, None, None, None, None]"
      ]
     },
     "execution_count": 37,
     "metadata": {},
     "output_type": "execute_result"
    }
   ],
   "source": [
    "list1=[1,'a',5,[1,'b'],10]\n",
    "[print(i) for i in list1]"
   ]
  },
  {
   "cell_type": "markdown",
   "id": "fe928eb7",
   "metadata": {},
   "source": [
    "### List Comprehension\n",
    "\n",
    "List comprehension offers a shorter syntax when you want to create a new list based on the values of an existing list.\n",
    "\n",
    "Example:\n",
    "\n",
    "Based on a list of fruits, you want a new list, containing only the fruits with the letter \"a\" in the name.\n",
    "\n",
    "Without list comprehension you will have to write a for statement with a conditional test inside."
   ]
  },
  {
   "cell_type": "markdown",
   "id": "14a0db7c",
   "metadata": {},
   "source": [
    "#### The Syntax\n",
    "\n",
    "newlist=[expression for item in iterable if condition == True]\n",
    "\n",
    "The return value is a new list, leaving the old list unchanged.\n",
    "\n",
    "The condition is like a filter that only accepts the items that valuate to True."
   ]
  },
  {
   "cell_type": "code",
   "execution_count": 39,
   "id": "2da23704",
   "metadata": {},
   "outputs": [
    {
     "name": "stdout",
     "output_type": "stream",
     "text": [
      "['apple', 'banana', 'mango']\n"
     ]
    }
   ],
   "source": [
    "fruits=[\"apple\",\"banana\",\"cherry\",\"kiwi\",\"mango\"]\n",
    "newlist=[]\n",
    "for x in fruits:\n",
    "    if \"a\" in x:\n",
    "        newlist.append(x)\n",
    "print(newlist)"
   ]
  },
  {
   "cell_type": "code",
   "execution_count": 40,
   "id": "41760abf",
   "metadata": {},
   "outputs": [
    {
     "name": "stdout",
     "output_type": "stream",
     "text": [
      "['apple', 'banana', 'mango']\n"
     ]
    }
   ],
   "source": [
    "fruits=[\"apple\",\"banana\",\"cherry\",\"kiwi\",\"mango\"]\n",
    "newlist=[x for x in fruits if \"a\" in x]\n",
    "print(newlist)"
   ]
  },
  {
   "cell_type": "markdown",
   "id": "42d91719",
   "metadata": {},
   "source": [
    "## 𝑀𝑢𝑡𝑎𝑏𝑒𝑙"
   ]
  },
  {
   "cell_type": "code",
   "execution_count": 60,
   "id": "d24009c7",
   "metadata": {},
   "outputs": [
    {
     "data": {
      "text/plain": [
       "[100, 'B', 'C']"
      ]
     },
     "execution_count": 60,
     "metadata": {},
     "output_type": "execute_result"
    }
   ],
   "source": [
    "list1=['A','B','C']\n",
    "list1[0]=100\n",
    "list1"
   ]
  },
  {
   "cell_type": "markdown",
   "id": "7f344231",
   "metadata": {},
   "source": [
    "## Built-in Functions on Lists\n",
    "\n",
    "Many built-in functions can be used with lists.\n",
    "\n",
    "- max()         # return maximum element in the list\n",
    "\n",
    "- min()         # return minimum element in the list\n",
    "\n",
    "- sum()         # return sum of all elementsin the list\n",
    "\n",
    "- any()         # return True if any element of list is True\n",
    "\n",
    "- all()         # return True if all elements of list are True\n",
    "\n",
    "- del()         # deletes element or slice or entire list\n",
    "\n",
    "- sorted()      # return sorted list, list remains unchanged\n",
    "\n",
    "- reversed()    # used forreversing list"
   ]
  },
  {
   "cell_type": "markdown",
   "id": "7d50892c",
   "metadata": {},
   "source": [
    "### max()"
   ]
  },
  {
   "cell_type": "code",
   "execution_count": 41,
   "id": "9a6a8833",
   "metadata": {},
   "outputs": [],
   "source": [
    "list1=[1,2,3,4]\n",
    "list2=['A','B','C','D']\n",
    "list3=[1,2,3,4,'A','B','C','D']"
   ]
  },
  {
   "cell_type": "code",
   "execution_count": 42,
   "id": "165f1f93",
   "metadata": {},
   "outputs": [
    {
     "name": "stdout",
     "output_type": "stream",
     "text": [
      "4\n"
     ]
    }
   ],
   "source": [
    "print(max(list1))      # 4"
   ]
  },
  {
   "cell_type": "code",
   "execution_count": 43,
   "id": "ab456444",
   "metadata": {},
   "outputs": [
    {
     "name": "stdout",
     "output_type": "stream",
     "text": [
      "D\n"
     ]
    }
   ],
   "source": [
    "print(max(list2))      # D ====== > ascii ord"
   ]
  },
  {
   "cell_type": "code",
   "execution_count": 44,
   "id": "9ec912a7",
   "metadata": {},
   "outputs": [
    {
     "ename": "TypeError",
     "evalue": "'>' not supported between instances of 'str' and 'int'",
     "output_type": "error",
     "traceback": [
      "\u001b[1;31m---------------------------------------------------------------------------\u001b[0m",
      "\u001b[1;31mTypeError\u001b[0m                                 Traceback (most recent call last)",
      "Cell \u001b[1;32mIn[44], line 1\u001b[0m\n\u001b[1;32m----> 1\u001b[0m \u001b[38;5;28mprint\u001b[39m(\u001b[38;5;28mmax\u001b[39m(list3))\n",
      "\u001b[1;31mTypeError\u001b[0m: '>' not supported between instances of 'str' and 'int'"
     ]
    }
   ],
   "source": [
    "print(max(list3))      # error we cant compare different data types"
   ]
  },
  {
   "cell_type": "markdown",
   "id": "0408cdf9",
   "metadata": {},
   "source": [
    "### min()"
   ]
  },
  {
   "cell_type": "code",
   "execution_count": 45,
   "id": "8476c503",
   "metadata": {},
   "outputs": [],
   "source": [
    "list1=[1,2,3,4]\n",
    "list2=['A','B','C','D']\n",
    "list3=[1,2,3,4,'A','B','C','D']"
   ]
  },
  {
   "cell_type": "code",
   "execution_count": 46,
   "id": "1779a3f5",
   "metadata": {},
   "outputs": [
    {
     "name": "stdout",
     "output_type": "stream",
     "text": [
      "1\n"
     ]
    }
   ],
   "source": [
    "print(min(list1))      # 1"
   ]
  },
  {
   "cell_type": "code",
   "execution_count": 47,
   "id": "38f4e8a8",
   "metadata": {},
   "outputs": [
    {
     "name": "stdout",
     "output_type": "stream",
     "text": [
      "A\n"
     ]
    }
   ],
   "source": [
    "print(min(list2))      # A ====== > ascii ord"
   ]
  },
  {
   "cell_type": "code",
   "execution_count": 48,
   "id": "cae2b4e7",
   "metadata": {},
   "outputs": [
    {
     "ename": "TypeError",
     "evalue": "'<' not supported between instances of 'str' and 'int'",
     "output_type": "error",
     "traceback": [
      "\u001b[1;31m---------------------------------------------------------------------------\u001b[0m",
      "\u001b[1;31mTypeError\u001b[0m                                 Traceback (most recent call last)",
      "Cell \u001b[1;32mIn[48], line 1\u001b[0m\n\u001b[1;32m----> 1\u001b[0m \u001b[38;5;28mprint\u001b[39m(\u001b[38;5;28mmin\u001b[39m(list3))\n",
      "\u001b[1;31mTypeError\u001b[0m: '<' not supported between instances of 'str' and 'int'"
     ]
    }
   ],
   "source": [
    "print(min(list3))      # error we cant compare different data types"
   ]
  },
  {
   "cell_type": "markdown",
   "id": "c74e599f",
   "metadata": {},
   "source": [
    "### sum()"
   ]
  },
  {
   "cell_type": "code",
   "execution_count": 49,
   "id": "460c6bcf",
   "metadata": {},
   "outputs": [],
   "source": [
    "list1=[1,2,3,4]\n",
    "list2=['A','B','C','D']"
   ]
  },
  {
   "cell_type": "code",
   "execution_count": 50,
   "id": "e667b09b",
   "metadata": {},
   "outputs": [
    {
     "name": "stdout",
     "output_type": "stream",
     "text": [
      "10\n"
     ]
    }
   ],
   "source": [
    "print(sum(list1))"
   ]
  },
  {
   "cell_type": "code",
   "execution_count": 51,
   "id": "9cdc371d",
   "metadata": {},
   "outputs": [
    {
     "ename": "TypeError",
     "evalue": "unsupported operand type(s) for +: 'int' and 'str'",
     "output_type": "error",
     "traceback": [
      "\u001b[1;31m---------------------------------------------------------------------------\u001b[0m",
      "\u001b[1;31mTypeError\u001b[0m                                 Traceback (most recent call last)",
      "Cell \u001b[1;32mIn[51], line 1\u001b[0m\n\u001b[1;32m----> 1\u001b[0m \u001b[38;5;28mprint\u001b[39m(\u001b[38;5;28msum\u001b[39m(list2))\n",
      "\u001b[1;31mTypeError\u001b[0m: unsupported operand type(s) for +: 'int' and 'str'"
     ]
    }
   ],
   "source": [
    "print(sum(list2))"
   ]
  },
  {
   "cell_type": "markdown",
   "id": "a9d412ea",
   "metadata": {},
   "source": [
    "### any()"
   ]
  },
  {
   "cell_type": "code",
   "execution_count": 52,
   "id": "ed2cc4b4",
   "metadata": {},
   "outputs": [
    {
     "data": {
      "text/plain": [
       "True"
      ]
     },
     "execution_count": 52,
     "metadata": {},
     "output_type": "execute_result"
    }
   ],
   "source": [
    "list3=[1,2,3,4,'A','B','C','D']\n",
    "any(list3)"
   ]
  },
  {
   "cell_type": "markdown",
   "id": "09416cc7",
   "metadata": {},
   "source": [
    "### all()"
   ]
  },
  {
   "cell_type": "code",
   "execution_count": 53,
   "id": "665803a2",
   "metadata": {},
   "outputs": [
    {
     "data": {
      "text/plain": [
       "True"
      ]
     },
     "execution_count": 53,
     "metadata": {},
     "output_type": "execute_result"
    }
   ],
   "source": [
    "list3=[1,2,3,4,'A','B','C','D']\n",
    "all(list3)"
   ]
  },
  {
   "cell_type": "markdown",
   "id": "e715d0c0",
   "metadata": {},
   "source": [
    "### del()"
   ]
  },
  {
   "cell_type": "code",
   "execution_count": 54,
   "id": "5b37c0b5",
   "metadata": {},
   "outputs": [],
   "source": [
    "list3=[1,2,3,4,'A','B','C','D']\n",
    "del(list3)"
   ]
  },
  {
   "cell_type": "code",
   "execution_count": 55,
   "id": "39ea8799",
   "metadata": {
    "scrolled": true
   },
   "outputs": [
    {
     "ename": "NameError",
     "evalue": "name 'list3' is not defined",
     "output_type": "error",
     "traceback": [
      "\u001b[1;31m---------------------------------------------------------------------------\u001b[0m",
      "\u001b[1;31mNameError\u001b[0m                                 Traceback (most recent call last)",
      "Cell \u001b[1;32mIn[55], line 1\u001b[0m\n\u001b[1;32m----> 1\u001b[0m list3\n",
      "\u001b[1;31mNameError\u001b[0m: name 'list3' is not defined"
     ]
    }
   ],
   "source": [
    "list3"
   ]
  },
  {
   "cell_type": "code",
   "execution_count": 83,
   "id": "7235de4c",
   "metadata": {},
   "outputs": [
    {
     "data": {
      "text/plain": [
       "[1, 2, 4, 'A', 'B', 'C', 'D']"
      ]
     },
     "execution_count": 83,
     "metadata": {},
     "output_type": "execute_result"
    }
   ],
   "source": [
    "list3=[1,2,3,4,'A','B','C','D']\n",
    "del(list3[2])\n",
    "list3"
   ]
  },
  {
   "cell_type": "markdown",
   "id": "7d891fff",
   "metadata": {},
   "source": [
    "### sorted() "
   ]
  },
  {
   "cell_type": "code",
   "execution_count": 56,
   "id": "ca2b8c1f",
   "metadata": {
    "scrolled": false
   },
   "outputs": [
    {
     "ename": "TypeError",
     "evalue": "'<' not supported between instances of 'str' and 'int'",
     "output_type": "error",
     "traceback": [
      "\u001b[1;31m---------------------------------------------------------------------------\u001b[0m",
      "\u001b[1;31mTypeError\u001b[0m                                 Traceback (most recent call last)",
      "Cell \u001b[1;32mIn[56], line 2\u001b[0m\n\u001b[0;32m      1\u001b[0m list1\u001b[38;5;241m=\u001b[39m[\u001b[38;5;241m35\u001b[39m,\u001b[38;5;241m97\u001b[39m,\u001b[38;5;241m1\u001b[39m,\u001b[38;5;241m76\u001b[39m,\u001b[38;5;241m34\u001b[39m,\u001b[38;5;124m'\u001b[39m\u001b[38;5;124mA\u001b[39m\u001b[38;5;124m'\u001b[39m]\n\u001b[1;32m----> 2\u001b[0m \u001b[38;5;28msorted\u001b[39m(list1)\n",
      "\u001b[1;31mTypeError\u001b[0m: '<' not supported between instances of 'str' and 'int'"
     ]
    }
   ],
   "source": [
    "list1=[35,97,1,76,34,'A']\n",
    "sorted(list1)"
   ]
  },
  {
   "cell_type": "code",
   "execution_count": 57,
   "id": "a94da35d",
   "metadata": {},
   "outputs": [
    {
     "data": {
      "text/plain": [
       "[1, 34, 35, 76, 97]"
      ]
     },
     "execution_count": 57,
     "metadata": {},
     "output_type": "execute_result"
    }
   ],
   "source": [
    "list1=[35,97,1,76,34]\n",
    "sorted(list1)"
   ]
  },
  {
   "cell_type": "markdown",
   "id": "253a671b",
   "metadata": {},
   "source": [
    "### reversed()"
   ]
  },
  {
   "cell_type": "code",
   "execution_count": 58,
   "id": "55332894",
   "metadata": {},
   "outputs": [
    {
     "data": {
      "text/plain": [
       "<list_reverseiterator at 0x1ee6e12ded0>"
      ]
     },
     "execution_count": 58,
     "metadata": {},
     "output_type": "execute_result"
    }
   ],
   "source": [
    "list1=[35,97,1,76,34]\n",
    "reversed(list1)"
   ]
  },
  {
   "cell_type": "markdown",
   "id": "f3c92178",
   "metadata": {},
   "source": [
    "## list method"
   ]
  },
  {
   "cell_type": "code",
   "execution_count": 66,
   "id": "b0cf9e42",
   "metadata": {},
   "outputs": [
    {
     "data": {
      "text/plain": [
       "['__add__',\n",
       " '__class__',\n",
       " '__class_getitem__',\n",
       " '__contains__',\n",
       " '__delattr__',\n",
       " '__delitem__',\n",
       " '__dir__',\n",
       " '__doc__',\n",
       " '__eq__',\n",
       " '__format__',\n",
       " '__ge__',\n",
       " '__getattribute__',\n",
       " '__getitem__',\n",
       " '__getstate__',\n",
       " '__gt__',\n",
       " '__hash__',\n",
       " '__iadd__',\n",
       " '__imul__',\n",
       " '__init__',\n",
       " '__init_subclass__',\n",
       " '__iter__',\n",
       " '__le__',\n",
       " '__len__',\n",
       " '__lt__',\n",
       " '__mul__',\n",
       " '__ne__',\n",
       " '__new__',\n",
       " '__reduce__',\n",
       " '__reduce_ex__',\n",
       " '__repr__',\n",
       " '__reversed__',\n",
       " '__rmul__',\n",
       " '__setattr__',\n",
       " '__setitem__',\n",
       " '__sizeof__',\n",
       " '__str__',\n",
       " '__subclasshook__',\n",
       " 'append',\n",
       " 'clear',\n",
       " 'copy',\n",
       " 'count',\n",
       " 'extend',\n",
       " 'index',\n",
       " 'insert',\n",
       " 'pop',\n",
       " 'remove',\n",
       " 'reverse',\n",
       " 'sort']"
      ]
     },
     "execution_count": 66,
     "metadata": {},
     "output_type": "execute_result"
    }
   ],
   "source": [
    "dir(list)"
   ]
  },
  {
   "cell_type": "markdown",
   "id": "d771bd66",
   "metadata": {},
   "source": [
    "### append\n",
    "\n",
    " add (something) to the end of a written document."
   ]
  },
  {
   "cell_type": "code",
   "execution_count": 61,
   "id": "87ee3022",
   "metadata": {},
   "outputs": [
    {
     "data": {
      "text/plain": [
       "[100, 200, 300]"
      ]
     },
     "execution_count": 61,
     "metadata": {},
     "output_type": "execute_result"
    }
   ],
   "source": [
    "list1=[100,200]\n",
    "list1.append(300)\n",
    "list1"
   ]
  },
  {
   "cell_type": "code",
   "execution_count": 62,
   "id": "2ead699f",
   "metadata": {},
   "outputs": [
    {
     "data": {
      "text/plain": [
       "[1, 4, 9, 16, 25]"
      ]
     },
     "execution_count": 62,
     "metadata": {},
     "output_type": "execute_result"
    }
   ],
   "source": [
    "list1=[1,2,3,4,5]\n",
    "output=[]\n",
    "for i in list1:\n",
    "    output.append(i*i)\n",
    "        \n",
    "output"
   ]
  },
  {
   "cell_type": "code",
   "execution_count": 63,
   "id": "a8937169",
   "metadata": {},
   "outputs": [
    {
     "data": {
      "text/plain": [
       "['Hyd', 'Bengaluru', 'Delhi']"
      ]
     },
     "execution_count": 63,
     "metadata": {},
     "output_type": "execute_result"
    }
   ],
   "source": [
    "list2=['hyd','bengaluru','delhi']          # output=['Hyd','Bengaluru','Delhi']\n",
    "output=[]\n",
    "for i in list2:\n",
    "    output.append(i.capitalize())\n",
    "    \n",
    "output"
   ]
  },
  {
   "cell_type": "markdown",
   "id": "8803d8b9",
   "metadata": {},
   "source": [
    "### copy"
   ]
  },
  {
   "cell_type": "code",
   "execution_count": 64,
   "id": "92aa0712",
   "metadata": {},
   "outputs": [
    {
     "name": "stdout",
     "output_type": "stream",
     "text": [
      "list2: [1, 2, 3, 4]\n"
     ]
    }
   ],
   "source": [
    "list1=[1,2,3,4]                     # I wanat copy these elements in a list2\n",
    "\n",
    "list2=list1.copy()\n",
    "\n",
    "print('list2:',list2)                     # [1,2,3,4]"
   ]
  },
  {
   "cell_type": "markdown",
   "id": "b2f70385",
   "metadata": {},
   "source": [
    "### clear"
   ]
  },
  {
   "cell_type": "code",
   "execution_count": 65,
   "id": "399b9269",
   "metadata": {},
   "outputs": [
    {
     "name": "stdout",
     "output_type": "stream",
     "text": [
      "list1: []\n"
     ]
    }
   ],
   "source": [
    "list1=[1,2,3,4]\n",
    "list1.clear()\n",
    "print('list1:',list1)             # []"
   ]
  },
  {
   "cell_type": "markdown",
   "id": "3f0bac86",
   "metadata": {},
   "source": [
    "### count"
   ]
  },
  {
   "cell_type": "code",
   "execution_count": 67,
   "id": "c1ec073f",
   "metadata": {},
   "outputs": [
    {
     "data": {
      "text/plain": [
       "3"
      ]
     },
     "execution_count": 67,
     "metadata": {},
     "output_type": "execute_result"
    }
   ],
   "source": [
    "list1=[1,2,3,'A','B','B','B','C']\n",
    "list1.count('B')"
   ]
  },
  {
   "cell_type": "code",
   "execution_count": 68,
   "id": "0f155ce9",
   "metadata": {},
   "outputs": [
    {
     "name": "stdout",
     "output_type": "stream",
     "text": [
      "3\n"
     ]
    }
   ],
   "source": [
    "count=0\n",
    "for i in list1:\n",
    "    if i=='B':\n",
    "        count=count+1\n",
    "        \n",
    "print(count)"
   ]
  },
  {
   "cell_type": "markdown",
   "id": "19f12aa0",
   "metadata": {},
   "source": [
    "### extend"
   ]
  },
  {
   "cell_type": "code",
   "execution_count": 70,
   "id": "208342c0",
   "metadata": {
    "scrolled": true
   },
   "outputs": [
    {
     "data": {
      "text/plain": [
       "['A', 'B', 'C', 1, 2, 3]"
      ]
     },
     "execution_count": 70,
     "metadata": {},
     "output_type": "execute_result"
    }
   ],
   "source": [
    "list1=['A','B','C']\n",
    "list2=[1,2,3]\n",
    "\n",
    "list1.extend(list2)\n",
    "list1 \n",
    "\n",
    "# here the list1 will be updated with list2 values"
   ]
  },
  {
   "cell_type": "code",
   "execution_count": 71,
   "id": "924bbf67",
   "metadata": {
    "scrolled": true
   },
   "outputs": [
    {
     "data": {
      "text/plain": [
       "['A', 'B', 'C', [1, 2, 3]]"
      ]
     },
     "execution_count": 71,
     "metadata": {},
     "output_type": "execute_result"
    }
   ],
   "source": [
    "list1=['A','B','C']               # ['A','B','C',[1,2,3]]\n",
    "list2=[1,2,3]\n",
    "list1.append(list2) \n",
    "list1"
   ]
  },
  {
   "cell_type": "markdown",
   "id": "eb38becd",
   "metadata": {},
   "source": [
    "### concatenation"
   ]
  },
  {
   "cell_type": "code",
   "execution_count": 72,
   "id": "4e69b3c1",
   "metadata": {},
   "outputs": [
    {
     "name": "stdout",
     "output_type": "stream",
     "text": [
      "['A', 'B', 'C', 1, 2, 3]\n"
     ]
    }
   ],
   "source": [
    "list1=['A','B','C']\n",
    "list2=[1,2,3]\n",
    "list1=list1+list2\n",
    "\n",
    "print(list1)"
   ]
  },
  {
   "cell_type": "code",
   "execution_count": 73,
   "id": "9b610266",
   "metadata": {},
   "outputs": [
    {
     "data": {
      "text/plain": [
       "[1, 2, 3, 'p', 'y', 't', 'h', 'o', 'n', 'python']"
      ]
     },
     "execution_count": 73,
     "metadata": {},
     "output_type": "execute_result"
    }
   ],
   "source": [
    "list1=[1,2,3]\n",
    "list1.extend('python')\n",
    "list1.append('python')\n",
    "list1"
   ]
  },
  {
   "cell_type": "markdown",
   "id": "a6ed54fc",
   "metadata": {},
   "source": [
    "### pop"
   ]
  },
  {
   "cell_type": "code",
   "execution_count": 74,
   "id": "a3961078",
   "metadata": {},
   "outputs": [
    {
     "data": {
      "text/plain": [
       "[1, 2, 3, 'p', 'y', 't', 'h', 'o', 'n', 'python']"
      ]
     },
     "execution_count": 74,
     "metadata": {},
     "output_type": "execute_result"
    }
   ],
   "source": [
    "list1=[1,2,3,'p','y','t','h','o','n','python']\n",
    "list1"
   ]
  },
  {
   "cell_type": "code",
   "execution_count": 75,
   "id": "af07cbae",
   "metadata": {},
   "outputs": [
    {
     "data": {
      "text/plain": [
       "'python'"
      ]
     },
     "execution_count": 75,
     "metadata": {},
     "output_type": "execute_result"
    }
   ],
   "source": [
    "list1.pop()"
   ]
  },
  {
   "cell_type": "code",
   "execution_count": 76,
   "id": "0e7c42c7",
   "metadata": {},
   "outputs": [
    {
     "data": {
      "text/plain": [
       "[1, 2, 3, 'p', 'y', 't', 'h', 'o', 'n']"
      ]
     },
     "execution_count": 76,
     "metadata": {},
     "output_type": "execute_result"
    }
   ],
   "source": [
    "list1"
   ]
  },
  {
   "cell_type": "code",
   "execution_count": 77,
   "id": "13d11162",
   "metadata": {},
   "outputs": [
    {
     "data": {
      "text/plain": [
       "'t'"
      ]
     },
     "execution_count": 77,
     "metadata": {},
     "output_type": "execute_result"
    }
   ],
   "source": [
    "list1\n",
    "list1.pop(5)\n",
    "\n",
    "\n",
    "# list1.pop(list1.index('t'))\n",
    "# in side bracket default aragument is there  index=-1\n",
    "# -1 means last value\n",
    "# if you not provide any value \n",
    "# it will remove last value\n",
    "# if i provide any index, it will reove that element \n",
    "# it is also returning , which element it is removing"
   ]
  },
  {
   "cell_type": "code",
   "execution_count": 78,
   "id": "6f7fcf03",
   "metadata": {},
   "outputs": [
    {
     "data": {
      "text/plain": [
       "[1, 2, 3, 'p', 'y', 'h', 'o', 'n']"
      ]
     },
     "execution_count": 78,
     "metadata": {},
     "output_type": "execute_result"
    }
   ],
   "source": [
    "list1"
   ]
  },
  {
   "cell_type": "markdown",
   "id": "e7df1201",
   "metadata": {},
   "source": [
    "### remove"
   ]
  },
  {
   "cell_type": "code",
   "execution_count": 79,
   "id": "8e91bec8",
   "metadata": {},
   "outputs": [
    {
     "data": {
      "text/plain": [
       "[200, 100, 300]"
      ]
     },
     "execution_count": 79,
     "metadata": {},
     "output_type": "execute_result"
    }
   ],
   "source": [
    "list1=[100,200,100,300]\n",
    "list1.remove(100)       # first occurence will gone\n",
    "list1                   # it will not return any value"
   ]
  },
  {
   "cell_type": "markdown",
   "id": "73f05c62",
   "metadata": {},
   "source": [
    "### index"
   ]
  },
  {
   "cell_type": "code",
   "execution_count": 80,
   "id": "dd38cbe8",
   "metadata": {},
   "outputs": [
    {
     "data": {
      "text/plain": [
       "4"
      ]
     },
     "execution_count": 80,
     "metadata": {},
     "output_type": "execute_result"
    }
   ],
   "source": [
    "list1=[1,2,3,4,2,6]\n",
    "f_i=list1.index(2)\n",
    "list1.index(2,f_i+1)"
   ]
  },
  {
   "cell_type": "markdown",
   "id": "085f14e7",
   "metadata": {},
   "source": [
    "### insert\n",
    "\n",
    "Adds an element at the specified position"
   ]
  },
  {
   "cell_type": "code",
   "execution_count": 92,
   "id": "6fb1a27a",
   "metadata": {},
   "outputs": [
    {
     "data": {
      "text/plain": [
       "[1, 2, 3, 4, 2, 'A', 6]"
      ]
     },
     "execution_count": 92,
     "metadata": {},
     "output_type": "execute_result"
    }
   ],
   "source": [
    "list1=[1,2,3,4,2,6]\n",
    "list1.insert(5,'A')\n",
    "list1"
   ]
  },
  {
   "cell_type": "code",
   "execution_count": 93,
   "id": "3f64c041",
   "metadata": {},
   "outputs": [
    {
     "data": {
      "text/plain": [
       "['apple', 'orange', 'banana', 'cherry']"
      ]
     },
     "execution_count": 93,
     "metadata": {},
     "output_type": "execute_result"
    }
   ],
   "source": [
    "#  Insert the value \"orange\" as the second element of the fruit list:\n",
    "\n",
    "fruits=['apple','banana','cherry']\n",
    "fruits.insert(1,\"orange\")\n",
    "fruits"
   ]
  },
  {
   "cell_type": "markdown",
   "id": "edd72733",
   "metadata": {},
   "source": [
    "### 𝑧𝑖𝑝 "
   ]
  },
  {
   "cell_type": "code",
   "execution_count": 81,
   "id": "0586fb6f",
   "metadata": {},
   "outputs": [
    {
     "data": {
      "text/plain": [
       "[125, 230, 335]"
      ]
     },
     "execution_count": 81,
     "metadata": {},
     "output_type": "execute_result"
    }
   ],
   "source": [
    "list1=[100,200,300]\n",
    "list2=[25,30,35]\n",
    "\n",
    "output=[i+j for i,j in zip(list1,list2)]\n",
    "output"
   ]
  },
  {
   "cell_type": "markdown",
   "id": "e96b2a8a",
   "metadata": {},
   "source": [
    "### sort\n",
    "\n",
    "List objects have a sort() method that will sort the list alphanumerically, ascending, by default."
   ]
  },
  {
   "cell_type": "code",
   "execution_count": 84,
   "id": "148c5d1d",
   "metadata": {},
   "outputs": [
    {
     "name": "stdout",
     "output_type": "stream",
     "text": [
      "['banana', 'kiwi', 'mango', 'orange', 'pineapple']\n"
     ]
    }
   ],
   "source": [
    "list1 = [\"orange\", \"mango\", \"kiwi\", \"pineapple\", \"banana\"]       # alphabetically\n",
    "list1.sort()\n",
    "print(list1)"
   ]
  },
  {
   "cell_type": "code",
   "execution_count": 85,
   "id": "06960e2d",
   "metadata": {},
   "outputs": [
    {
     "name": "stdout",
     "output_type": "stream",
     "text": [
      "[23, 50, 65, 82, 100]\n"
     ]
    }
   ],
   "source": [
    "thislist = [100, 50, 65, 82, 23]         # numerically\n",
    "thislist.sort()\n",
    "print(thislist)"
   ]
  },
  {
   "cell_type": "markdown",
   "id": "b2126ee4",
   "metadata": {},
   "source": [
    "- To sort descending, use the keyword argument reverse = True"
   ]
  },
  {
   "cell_type": "code",
   "execution_count": 86,
   "id": "29f7e96b",
   "metadata": {},
   "outputs": [
    {
     "name": "stdout",
     "output_type": "stream",
     "text": [
      "['pineapple', 'orange', 'mango', 'kiwi', 'banana']\n"
     ]
    }
   ],
   "source": [
    "thislist = [\"orange\", \"mango\", \"kiwi\", \"pineapple\", \"banana\"]\n",
    "thislist.sort(reverse = True)\n",
    "print(thislist)"
   ]
  },
  {
   "cell_type": "code",
   "execution_count": 87,
   "id": "96752bf1",
   "metadata": {},
   "outputs": [
    {
     "name": "stdout",
     "output_type": "stream",
     "text": [
      "[100, 82, 65, 50, 23]\n"
     ]
    }
   ],
   "source": [
    "list2 = [100, 50, 65, 82, 23]\n",
    "list2.sort(reverse = True)\n",
    "print(list2)"
   ]
  },
  {
   "cell_type": "markdown",
   "id": "a7aaa929",
   "metadata": {},
   "source": [
    "#### reverse"
   ]
  },
  {
   "cell_type": "code",
   "execution_count": 88,
   "id": "ee023e24",
   "metadata": {},
   "outputs": [
    {
     "name": "stdout",
     "output_type": "stream",
     "text": [
      "['cherry', 'Kiwi', 'Orange', 'banana']\n"
     ]
    }
   ],
   "source": [
    "list3 = [\"banana\", \"Orange\", \"Kiwi\", \"cherry\"]\n",
    "list3.reverse()\n",
    "print(list3)"
   ]
  },
  {
   "cell_type": "code",
   "execution_count": null,
   "id": "1ca958ac",
   "metadata": {},
   "outputs": [],
   "source": []
  }
 ],
 "metadata": {
  "kernelspec": {
   "display_name": "Python 3 (ipykernel)",
   "language": "python",
   "name": "python3"
  },
  "language_info": {
   "codemirror_mode": {
    "name": "ipython",
    "version": 3
   },
   "file_extension": ".py",
   "mimetype": "text/x-python",
   "name": "python",
   "nbconvert_exporter": "python",
   "pygments_lexer": "ipython3",
   "version": "3.11.5"
  }
 },
 "nbformat": 4,
 "nbformat_minor": 5
}
