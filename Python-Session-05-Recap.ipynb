{
 "cells": [
  {
   "cell_type": "code",
   "execution_count": 1,
   "id": "8b10f06e",
   "metadata": {},
   "outputs": [
    {
     "name": "stdout",
     "output_type": "stream",
     "text": [
      "enter a basic salary:10000\n",
      "enter DA amount:1000\n",
      "enter HRA amount1500\n",
      "the total salary is: 12500\n"
     ]
    }
   ],
   "source": [
    "# WAP ask the user enter a basic_salary\n",
    "#     ask the user enter DA amount\n",
    "#     ask the user enter HRA amount\n",
    "#Calculate total pay = basic_Salary+DA+HRA\n",
    "\n",
    "\n",
    "# step-1: \n",
    "\n",
    "basic_salary=eval(input(\"enter a basic salary:\"))\n",
    "DA=eval(input(\"enter DA amount:\"))\n",
    "HRA=eval(input(\"enter HRA amount\"))\n",
    "total_pay=basic_salary+DA+HRA\n",
    "print(\"the total salary is:\",total_pay)"
   ]
  },
  {
   "cell_type": "code",
   "execution_count": 2,
   "id": "f72e19dd",
   "metadata": {},
   "outputs": [
    {
     "data": {
      "text/plain": [
       "10000"
      ]
     },
     "execution_count": 2,
     "metadata": {},
     "output_type": "execute_result"
    }
   ],
   "source": [
    "basic_salary"
   ]
  },
  {
   "cell_type": "code",
   "execution_count": 3,
   "id": "a93fe413",
   "metadata": {},
   "outputs": [
    {
     "name": "stdout",
     "output_type": "stream",
     "text": [
      "Enter your salary: 15432\n",
      "Enter your tax percentage: 6\n",
      "Total tax is 925.92\n"
     ]
    }
   ],
   "source": [
    "# WAP ask the user enter salary\n",
    "#     ask the user tax percentage\n",
    "#calculate how much tax user need to pay\n",
    "\n",
    "salary=eval(input(\"Enter your salary: \"))\n",
    "tax_percent=eval(input(\"Enter your tax percentage: \"))\n",
    "tax_amount=(salary*tax_percent)/100\n",
    "print(\"Total tax is\",tax_amount)\n",
    "\n"
   ]
  },
  {
   "cell_type": "raw",
   "id": "eb06186f",
   "metadata": {},
   "source": [
    "- what if we use int(input()) inplace of eval()\n",
    "\n",
    "- in this case only integer value receive "
   ]
  },
  {
   "cell_type": "code",
   "execution_count": 4,
   "id": "0d6a7641",
   "metadata": {},
   "outputs": [
    {
     "data": {
      "text/plain": [
       "'100.5'"
      ]
     },
     "execution_count": 4,
     "metadata": {},
     "output_type": "execute_result"
    }
   ],
   "source": [
    "('100.5')"
   ]
  },
  {
   "cell_type": "code",
   "execution_count": 5,
   "id": "106ca0d8",
   "metadata": {},
   "outputs": [
    {
     "data": {
      "text/plain": [
       "100.5"
      ]
     },
     "execution_count": 5,
     "metadata": {},
     "output_type": "execute_result"
    }
   ],
   "source": [
    "float('100.5')"
   ]
  },
  {
   "cell_type": "code",
   "execution_count": 6,
   "id": "aad85a4c",
   "metadata": {},
   "outputs": [],
   "source": [
    "# WAP ask the user get a random value between 1 and 100\n",
    "# perform the square of the number\n",
    "\n",
    "# package name:  random\n",
    "# method name:   randint"
   ]
  },
  {
   "cell_type": "code",
   "execution_count": 7,
   "id": "e10cb55c",
   "metadata": {},
   "outputs": [
    {
     "name": "stdout",
     "output_type": "stream",
     "text": [
      "enter a number2345\n"
     ]
    },
    {
     "data": {
      "text/plain": [
       "2345"
      ]
     },
     "execution_count": 7,
     "metadata": {},
     "output_type": "execute_result"
    }
   ],
   "source": [
    "eval(input(\"enter a number\"))"
   ]
  },
  {
   "cell_type": "code",
   "execution_count": 8,
   "id": "1a21747d",
   "metadata": {},
   "outputs": [
    {
     "name": "stdout",
     "output_type": "stream",
     "text": [
      "the square of 60 is 3600\n"
     ]
    }
   ],
   "source": [
    "import random\n",
    "number=random.randint(1,100)\n",
    "square=number*number\n",
    "print(\"the square of {} is {}\".format(number,square))"
   ]
  },
  {
   "cell_type": "raw",
   "id": "23f95eab",
   "metadata": {},
   "source": [
    "NOTE:\n",
    "\n",
    "NameError                                 Traceback (most recent call last)\n",
    "Cell In[10], line 3\n",
    "      1 Salary=eval(input(\"Enter a enter salary:\"))\n",
    "      2 tax_percentage=eval(input(\"Enter a tax percentage:\"))\n",
    "----> 3 tax_amount=(salary*tax_percent)/100\n",
    "      4 print(\"Total tax is\",tax_amount)\n",
    "\n",
    "NameError: name 'salary' is not defined"
   ]
  },
  {
   "cell_type": "code",
   "execution_count": null,
   "id": "438e5cc2",
   "metadata": {},
   "outputs": [],
   "source": []
  },
  {
   "cell_type": "code",
   "execution_count": 9,
   "id": "fdcc59f4",
   "metadata": {},
   "outputs": [
    {
     "name": "stdout",
     "output_type": "stream",
     "text": [
      "the square of 100 is 10000\n"
     ]
    }
   ],
   "source": [
    "number=100    # 100 is saved in a variable 'number'\n",
    "square=number*number # 100*100\n",
    "print(\"the square of {} is {}\".format(number,square))"
   ]
  },
  {
   "cell_type": "code",
   "execution_count": 10,
   "id": "2abfac82",
   "metadata": {},
   "outputs": [
    {
     "name": "stdout",
     "output_type": "stream",
     "text": [
      "enter a number234.5\n",
      "the square of 234.5 is 54990.25\n"
     ]
    }
   ],
   "source": [
    "number=eval(input('enter a number'))    \n",
    "square=number*number \n",
    "print(\"the square of {} is {}\".format(number,square))"
   ]
  },
  {
   "cell_type": "code",
   "execution_count": 11,
   "id": "12718c72",
   "metadata": {},
   "outputs": [
    {
     "name": "stdout",
     "output_type": "stream",
     "text": [
      "the square of 331 is 109561\n"
     ]
    }
   ],
   "source": [
    "import random\n",
    "number=random.randint(1,400) # computer will generate a random number\n",
    "# between 1 to 100 , that will save in number \n",
    "square=number*number \n",
    "print(\"the square of {} is {}\".format(number,square))"
   ]
  },
  {
   "cell_type": "raw",
   "id": "402a72fc",
   "metadata": {},
   "source": [
    "What is the use of random.randint function in practical?\n",
    "statistics\n",
    "\n",
    "can we strictly accept 2 digit number only when user gives input....is the  program possible??\n",
    "\n",
    "directly it is not possibile\n",
    "222"
   ]
  },
  {
   "cell_type": "code",
   "execution_count": 12,
   "id": "d9d1c080",
   "metadata": {},
   "outputs": [
    {
     "name": "stdout",
     "output_type": "stream",
     "text": [
      "578.7\n"
     ]
    },
    {
     "data": {
      "text/plain": [
       "578.7"
      ]
     },
     "execution_count": 12,
     "metadata": {},
     "output_type": "execute_result"
    }
   ],
   "source": [
    "eval(input())"
   ]
  },
  {
   "cell_type": "code",
   "execution_count": 13,
   "id": "336b041f",
   "metadata": {},
   "outputs": [
    {
     "name": "stdout",
     "output_type": "stream",
     "text": [
      "enter distance in km:45\n",
      "enter rate per km:5\n",
      "For 45 km the charge is 225 rs\n"
     ]
    }
   ],
   "source": [
    "# WAP ask the user enter a distance=20km\n",
    "#     ask the user enter a rate per km= 2\n",
    "#calculate total charge=20*2=40rs\n",
    "\n",
    "distance=eval(input(\"enter distance in km:\"))\n",
    "rate=eval(input(\"enter rate per km:\"))\n",
    "charge=distance*rate\n",
    "print(\"For {} km the charge is {} rs\".format(distance,charge))"
   ]
  },
  {
   "cell_type": "raw",
   "id": "ba31d083",
   "metadata": {},
   "source": [
    "# ask the user enter total bill in dollars : 100\n",
    "# manger: the dollars are not accepted\n",
    "# user: what will accepted\n",
    "# manager: only indian rupees\n",
    "# ask the user enter one dollar is equal to how many rupeers: 80\n",
    "# total bill= 100*80\n",
    "# manger: Thank you!"
   ]
  },
  {
   "cell_type": "code",
   "execution_count": 14,
   "id": "3536dfeb",
   "metadata": {},
   "outputs": [
    {
     "name": "stdout",
     "output_type": "stream",
     "text": [
      "enter total bill in dolars50\n",
      "One dollar equal to:82\n",
      "4100\n"
     ]
    }
   ],
   "source": [
    "bill=eval(input(\"enter total bill in dolars\"))\n",
    "conversion_rate=eval(input('One dollar equal to:'))\n",
    "total_amount=bill*conversion_rate\n",
    "print(total_amount)"
   ]
  },
  {
   "cell_type": "code",
   "execution_count": 15,
   "id": "90f1e8b0",
   "metadata": {},
   "outputs": [
    {
     "name": "stdout",
     "output_type": "stream",
     "text": [
      "enter total bill in dollars:50\n",
      "manager: the dollars are not accepted\n",
      "user: what will be accepted?\n",
      "manager: only indian rupees \n",
      "enter one dollar is equals to :82\n",
      "total amount in rs is 4100 \n"
     ]
    }
   ],
   "source": [
    "a = eval(input(\"enter total bill in dollars:\"))\n",
    "print(\"manager: the dollars are not accepted\")\n",
    "print(\"user: what will be accepted?\")\n",
    "print(\"manager: only indian rupees \")\n",
    "b=eval(input(\"enter one dollar is equals to :\"))\n",
    "c = a*b\n",
    "print(\"total amount in rs is {} \".format(c))"
   ]
  },
  {
   "cell_type": "code",
   "execution_count": 16,
   "id": "27115b7f",
   "metadata": {},
   "outputs": [
    {
     "name": "stdout",
     "output_type": "stream",
     "text": [
      "Enter total bill in dollars: 50\n",
      "Manager: Dollars are not accepted.\n",
      "User: Which currency will be accepted?\n",
      "Manager: Only Indian rupee\n",
      "User: May I know 1 dollar equals how much in rupees?82\n",
      "For your bill of 50 dollars, you need to pay 4100 rs.\n"
     ]
    }
   ],
   "source": [
    "bill=eval(input(\"Enter total bill in dollars: \"))\n",
    "print(\"Manager: Dollars are not accepted.\")\n",
    "print(\"User: Which currency will be accepted?\")\n",
    "print(\"Manager: Only Indian rupee\")\n",
    "convrsn_rate=eval(input(\"User: May I know 1 dollar equals how much in rupees?\"))\n",
    "print(\"For your bill of {} dollars, you need to pay {} rs.\".format(bill,bill*convrsn_rate))"
   ]
  },
  {
   "cell_type": "code",
   "execution_count": 17,
   "id": "09161c6c",
   "metadata": {},
   "outputs": [
    {
     "name": "stdout",
     "output_type": "stream",
     "text": [
      "Enter total bill:50\n",
      "Manger: Cant accept the biill in dollers:\n",
      "customer:the how much the one doller is in rupees:\n",
      "one doller value in rupees is?:82\n",
      "the total bill ammount in rupees is:4100\n"
     ]
    }
   ],
   "source": [
    "bill=eval(input(\"Enter total bill:\"))\n",
    "print(\"Manger: Cant accept the biill in dollers:\")\n",
    "print(\"customer:the how much the one doller is in rupees:\")\n",
    "convert=eval(input(\"one doller value in rupees is?:\"))\n",
    "total_bill=bill*convert\n",
    "print(\"the total bill ammount in rupees is:{}\" .format(total_bill))"
   ]
  },
  {
   "cell_type": "code",
   "execution_count": 18,
   "id": "9c92ce06",
   "metadata": {},
   "outputs": [
    {
     "name": "stdout",
     "output_type": "stream",
     "text": [
      "enter toatal bill in dollers50\n",
      "manager:the dollers are not accepted\n",
      "user:what will accepted\n",
      "manager:only in indian rupees\n",
      "one doller equal to82\n",
      "the totalbill 4100 is\n",
      "manager:thank you\n"
     ]
    }
   ],
   "source": [
    "bill=eval(input(\"enter toatal bill in dollers\"))\n",
    "print(\"manager:the dollers are not accepted\")\n",
    "print(\"user:what will accepted\")\n",
    "print(\"manager:only in indian rupees\")\n",
    "doll=eval(input(\"one doller equal to\"))\n",
    "totalbill=bill*doll\n",
    "print(\"the totalbill {} is\".format(totalbill))\n",
    "print(\"manager:thank you\")"
   ]
  },
  {
   "cell_type": "code",
   "execution_count": 19,
   "id": "51ebd37d",
   "metadata": {},
   "outputs": [
    {
     "name": "stdout",
     "output_type": "stream",
     "text": [
      "Enter total bill in dollars50\n",
      "manager:The dollars are not accepted\n",
      "user:What will be accepted\n",
      "manager:only indian ruppes\n",
      "One dollar equal to: 82\n",
      "4100\n"
     ]
    }
   ],
   "source": [
    "bill=eval(input(\"Enter total bill in dollars\"))\n",
    "print(\"manager:The dollars are not accepted\")\n",
    "print(\"user:What will be accepted\")\n",
    "print(\"manager:only indian ruppes\")\n",
    "conversion_rate=eval(input(\"One dollar equal to: \"))\n",
    "total_amount=bill*conversion_rate\n",
    "print(total_amount)"
   ]
  },
  {
   "cell_type": "code",
   "execution_count": 20,
   "id": "a8bfffc2",
   "metadata": {},
   "outputs": [
    {
     "name": "stdout",
     "output_type": "stream",
     "text": [
      "Enter total bill in dollars: 100\n",
      "Manager: Dollars are not accepted.\n",
      "User: Which currency will be accepted?\n",
      "Manager: Only Indian rupee\n",
      "User: May I know 1 dollar equals how much in rupees?83\n",
      "For your bill of 100 dollars, you need to pay 8300 rs.\n"
     ]
    }
   ],
   "source": [
    "import time\n",
    "bill=eval(input(\"Enter total bill in dollars: \"))\n",
    "time.sleep(2)\n",
    "print(\"Manager: Dollars are not accepted.\")\n",
    "time.sleep(2)\n",
    "print(\"User: Which currency will be accepted?\")\n",
    "time.sleep(2)\n",
    "print(\"Manager: Only Indian rupee\")\n",
    "time.sleep(2)\n",
    "convrsn_rate=eval(input(\"User: May I know 1 dollar equals how much in rupees?\"))\n",
    "print(\"For your bill of {} dollars, you need to pay {} rs.\".format(bill,bill*convrsn_rate))"
   ]
  },
  {
   "cell_type": "code",
   "execution_count": 22,
   "id": "af577470",
   "metadata": {},
   "outputs": [
    {
     "name": "stdout",
     "output_type": "stream",
     "text": [
      "Manager:Enter the total bill in dollars:100\n",
      "Manager Reponse:Dollars are not accepted.\n",
      "User Response:Which currency will be accepted?\n",
      "Manger Response:Only Indian rupee\n",
      "Dollar conversion:83\n",
      "The total amount is: 8300\n"
     ]
    }
   ],
   "source": [
    "Bill=eval(input(\"Manager:Enter the total bill in dollars:\"))\n",
    "input('Manager Reponse:')\n",
    "input(\"User Response:\")\n",
    "input('Manger Response:')\n",
    "CR=eval(input(\"Dollar conversion:\"))\n",
    "Total= Bill*CR\n",
    "print(\"The total amount is:\",Total)\n"
   ]
  },
  {
   "cell_type": "code",
   "execution_count": 23,
   "id": "e93796f9",
   "metadata": {},
   "outputs": [
    {
     "name": "stdout",
     "output_type": "stream",
     "text": [
      "enter a number10\n"
     ]
    },
    {
     "data": {
      "text/plain": [
       "'10'"
      ]
     },
     "execution_count": 23,
     "metadata": {},
     "output_type": "execute_result"
    }
   ],
   "source": [
    "input('enter a number')"
   ]
  },
  {
   "cell_type": "raw",
   "id": "87c849a0",
   "metadata": {},
   "source": [
    "# Father and Son/D\n",
    "# Father: which course you wants to do\n",
    "# S/D   : I want to pursue DS course\n",
    "# Father: Oh! That is very Nice!\n",
    "# Father: May I know your JEE rank\n",
    "# Son:  20000 =========================== user input\n",
    "# Father: Then how can you purse\n",
    "# Son:   Payment seat\n",
    "# Father: Which college is offer\n",
    "# Son:  Naresh IT======================== user input\n",
    "# Father: How much is the fee\n",
    "# Son:  20000 ========================== user input\n",
    "# Father: How many sem\n",
    "# Son: 4 =============================== user input\n",
    "# Father:  how much total cost\n",
    "# 4*20000 ============================ calculation"
   ]
  },
  {
   "cell_type": "code",
   "execution_count": 25,
   "id": "c163c6dc",
   "metadata": {},
   "outputs": [
    {
     "name": "stdout",
     "output_type": "stream",
     "text": [
      " Father : Which course you want to do\n",
      "Daughter: I want to persue Data Science Course\n",
      "Father:Oh! That is very Nice\n",
      "Father: May I know your JEE rank\n",
      "Son: 121\n",
      "Than how can you persue\n",
      "Payment seat\n",
      "Which college offers it\n",
      "Son: Naresh IT\n",
      "Father: What is the fees\n",
      "Son: Fees is 20000\n",
      "Father: How many semesters\n",
      "Son : No of semesters is 4\n",
      "Father : What is the total cost\n",
      "Total cost is  80000\n"
     ]
    }
   ],
   "source": [
    "print(\" Father : Which course you want to do\")\n",
    "print(\"Daughter: I want to persue Data Science Course\")\n",
    "print(\"Father:Oh! That is very Nice\")\n",
    "print(\"Father: May I know your JEE rank\")\n",
    "eval(input(\"Son: \"))\n",
    "print(\"Than how can you persue\")\n",
    "print(\"Payment seat\")\n",
    "print(\"Which college offers it\")\n",
    "input(\"Son: \")\n",
    "print(\"Father: What is the fees\")\n",
    "fee=eval(input(\"Son: Fees is \"))\n",
    "print(\"Father: How many semesters\")\n",
    "sem_no=eval(input(\"Son : No of semesters is \"))\n",
    "print(\"Father : What is the total cost\")\n",
    "print(\"Total cost is \",fee*sem_no)"
   ]
  },
  {
   "cell_type": "code",
   "execution_count": 26,
   "id": "68041f8c",
   "metadata": {},
   "outputs": [
    {
     "name": "stdout",
     "output_type": "stream",
     "text": [
      "Father: Which course you want to do?\n",
      "Son: I want to pursue DataScience\n",
      "Father: Oh! Thats nice son\n",
      "Father: May I know your JEE rank?\n",
      "Son: Its 2lk+\n",
      "Father: How can you pursue?\n",
      "Son: payment seat\n",
      "Father: Who is offering?\n",
      "Son: NARESH IT\n",
      "Father: How much is the fee per sem?\n",
      "Son: 10000\n",
      "Father: How many sems?\n",
      "Son: 4\n",
      "Father: So total cost for 4 sems will be 40000.\n"
     ]
    }
   ],
   "source": [
    "import time\n",
    "print(\"Father: Which course you want to do?\")\n",
    "time.sleep(1)\n",
    "print(\"Son: I want to pursue DataScience\")\n",
    "time.sleep(1)\n",
    "print(\"Father: Oh! Thats nice son\")\n",
    "time.sleep(1)\n",
    "print(\"Father: May I know your JEE rank?\")\n",
    "print(\"Son: Its 2lk+\")\n",
    "time.sleep(1)\n",
    "print(\"Father: How can you pursue?\")\n",
    "print(\"Son: payment seat\")\n",
    "print(\"Father: Who is offering?\")\n",
    "time.sleep(1)\n",
    "input(\"Son: \")\n",
    "print(\"Father: How much is the fee per sem?\")\n",
    "sem_cost=eval(input(\"Son: \"))\n",
    "print(\"Father: How many sems?\")\n",
    "sems=eval(input(\"Son: \"))\n",
    "time.sleep(1)\n",
    "print(\"Father: So total cost for {} sems will be {}.\".format(sems,sems*sem_cost))"
   ]
  },
  {
   "cell_type": "code",
   "execution_count": 27,
   "id": "beebda66",
   "metadata": {},
   "outputs": [
    {
     "name": "stdout",
     "output_type": "stream",
     "text": [
      "Son:hi dad i want to do some course instead of some post grad\n",
      "Father:Which course you want to do?\n",
      "son:DATA SCIENCE\n",
      "Father: Oh thats nice then\n",
      "Father: Can i aknow the JEE rank of yours?\n",
      "son:'the rank is:'2220\n",
      "Father:Then how you pursue further\n",
      "son: Payment seat i am thinking of\n",
      "Father:Ok,  Which college is offering this course on payment\n",
      "son:NARESH IT\n",
      "Father:How much the fees?\n",
      "son:'the fees is:'20000\n",
      "father:'how much total?'\n",
      "son:total fees is 80000\n"
     ]
    }
   ],
   "source": [
    "import time\n",
    "print(\"Son:hi dad i want to do some course instead of some post grad\")\n",
    "time.sleep(2)\n",
    "print(\"Father:Which course you want to do?\")\n",
    "time.sleep(2)\n",
    "print(\"son:DATA SCIENCE\")\n",
    "time.sleep(2)\n",
    "print(\"Father: Oh thats nice then\")\n",
    "time.sleep(2)\n",
    "print(\"Father: Can i aknow the JEE rank of yours?\")\n",
    "time.sleep(2)\n",
    "rank=eval(input(\"son:'the rank is:'\"))\n",
    "time.sleep(2)\n",
    "print(\"Father:Then how you pursue further\")\n",
    "time.sleep(2)\n",
    "print(\"son: Payment seat i am thinking of\")\n",
    "time.sleep(2)\n",
    "print(\"Father:Ok,  Which college is offering this course on payment\")\n",
    "time.sleep(2)\n",
    "input(\"son:\")\n",
    "print(\"Father:How much the fees?\")\n",
    "time.sleep(2)\n",
    "rank=eval(input(\"son:'the fees is:'\"))\n",
    "time.sleep(2)\n",
    "print(\"father:'how much total?'\")\n",
    "time.sleep(2)\n",
    "calculate=rank*4\n",
    "time.sleep(2)\n",
    "print(\"son:total fees is {}\" .format(calculate))"
   ]
  },
  {
   "cell_type": "code",
   "execution_count": 28,
   "id": "58c3e6b7",
   "metadata": {},
   "outputs": [
    {
     "name": "stdout",
     "output_type": "stream",
     "text": [
      "fatherWhich course you want to do?\n",
      "daughterDATA SCIENCE\n",
      "father Oh thats nice then\n",
      "fatherCan i aknow the JEE rank of yours?\n",
      "jee rank2256\n",
      "father:Then how you pursue further\n",
      "daughter:Payment seat i am thinking of\n",
      "fatherOk,  Which college is offering this course on payment\n",
      "college nameNARESH IT\n",
      "father:How much the fees?\n",
      "fee is20000\n",
      "father:'how much total?'\n",
      "sems are4\n",
      "father:how many semis\n",
      "total amont is80000: \n"
     ]
    }
   ],
   "source": [
    "input(\"father\")\n",
    "input(\"daughter\")\n",
    "input(\"father\")\n",
    "input(\"father\")\n",
    "rank=eval(input(\"jee rank\"))\n",
    "input(\"father:\")\n",
    "input(\"daughter:\")\n",
    "input(\"father\")\n",
    "college=str(input(\"college name\"))\n",
    "input(\"father:\")\n",
    "fee=eval(input(\"fee is\"))\n",
    "input(\"father:\")\n",
    "sem=eval(input(\"sems are\"))\n",
    "input(\"father:\")\n",
    "totalamont=fee*sem\n",
    "print(\"total amont is{}: \".format(totalamont))"
   ]
  },
  {
   "cell_type": "code",
   "execution_count": null,
   "id": "19c59cec",
   "metadata": {},
   "outputs": [],
   "source": []
  },
  {
   "cell_type": "code",
   "execution_count": null,
   "id": "9ab944ed",
   "metadata": {},
   "outputs": [],
   "source": []
  },
  {
   "cell_type": "code",
   "execution_count": null,
   "id": "7ca03841",
   "metadata": {},
   "outputs": [],
   "source": []
  }
 ],
 "metadata": {
  "kernelspec": {
   "display_name": "Python 3 (ipykernel)",
   "language": "python",
   "name": "python3"
  },
  "language_info": {
   "codemirror_mode": {
    "name": "ipython",
    "version": 3
   },
   "file_extension": ".py",
   "mimetype": "text/x-python",
   "name": "python",
   "nbconvert_exporter": "python",
   "pygments_lexer": "ipython3",
   "version": "3.11.5"
  }
 },
 "nbformat": 4,
 "nbformat_minor": 5
}
