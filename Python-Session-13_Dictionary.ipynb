{
 "cells": [
  {
   "cell_type": "code",
   "execution_count": 1,
   "id": "25f12505",
   "metadata": {},
   "outputs": [],
   "source": [
    "list1=['Ram','Raheem','Robert']\n",
    "\n",
    "list2=[25,30,35]"
   ]
  },
  {
   "cell_type": "code",
   "execution_count": 2,
   "id": "96b8d8c2",
   "metadata": {},
   "outputs": [
    {
     "data": {
      "text/plain": [
       "'Robert has age 35'"
      ]
     },
     "execution_count": 2,
     "metadata": {},
     "output_type": "execute_result"
    }
   ],
   "source": [
    "'Ram has age 25'\n",
    "'Raheem has age 30'\n",
    "'Robert has age 35'"
   ]
  },
  {
   "cell_type": "code",
   "execution_count": 3,
   "id": "40030e53",
   "metadata": {},
   "outputs": [
    {
     "name": "stdout",
     "output_type": "stream",
     "text": [
      "Ram 25\n",
      "Raheem 30\n",
      "Robert 35\n"
     ]
    }
   ],
   "source": [
    "for i,j in zip(list1,list2):\n",
    "    print(i,j)"
   ]
  },
  {
   "cell_type": "raw",
   "id": "e4c15d72",
   "metadata": {},
   "source": [
    "#{key:value}"
   ]
  },
  {
   "cell_type": "code",
   "execution_count": 4,
   "id": "294342c3",
   "metadata": {},
   "outputs": [
    {
     "data": {
      "text/plain": [
       "{'Ram': 25, 'Raheem': 30, 'Robert': 35}"
      ]
     },
     "execution_count": 4,
     "metadata": {},
     "output_type": "execute_result"
    }
   ],
   "source": [
    "d1={'Ram':25,\n",
    " 'Raheem':30,\n",
    " 'Robert':35}\n",
    "\n",
    "d1\n",
    "\n",
    "#keys= 'Ram','Raheem','Robert'\n",
    "#values=25,30,35"
   ]
  },
  {
   "cell_type": "code",
   "execution_count": 5,
   "id": "6cb661a3",
   "metadata": {},
   "outputs": [
    {
     "data": {
      "text/plain": [
       "{25: 'Ram', 30: 'Raheem', 35: 'Robert'}"
      ]
     },
     "execution_count": 5,
     "metadata": {},
     "output_type": "execute_result"
    }
   ],
   "source": [
    "d2={25:'Ram',30:'Raheem',35:'Robert'}\n",
    "d2\n",
    "\n",
    "#keys: 25,30,35\n",
    "#values: 'Ram','Raheem','Robert'"
   ]
  },
  {
   "cell_type": "code",
   "execution_count": 6,
   "id": "b2dcdcb5",
   "metadata": {},
   "outputs": [
    {
     "data": {
      "text/plain": [
       "{'even': [2, 4, 6], 'odd': [3, 5, 7]}"
      ]
     },
     "execution_count": 6,
     "metadata": {},
     "output_type": "execute_result"
    }
   ],
   "source": [
    "d3={'even':[2,4,6],\n",
    "   'odd':[3,5,7]}\n",
    "\n",
    "d3"
   ]
  },
  {
   "cell_type": "code",
   "execution_count": 7,
   "id": "6c1fb6b8",
   "metadata": {},
   "outputs": [
    {
     "ename": "TypeError",
     "evalue": "unhashable type: 'list'",
     "output_type": "error",
     "traceback": [
      "\u001b[1;31m---------------------------------------------------------------------------\u001b[0m",
      "\u001b[1;31mTypeError\u001b[0m                                 Traceback (most recent call last)",
      "Cell \u001b[1;32mIn[7], line 1\u001b[0m\n\u001b[1;32m----> 1\u001b[0m d4\u001b[38;5;241m=\u001b[39m{[\u001b[38;5;241m2\u001b[39m,\u001b[38;5;241m4\u001b[39m,\u001b[38;5;241m6\u001b[39m]:\u001b[38;5;124m'\u001b[39m\u001b[38;5;124meven\u001b[39m\u001b[38;5;124m'\u001b[39m,\n\u001b[0;32m      2\u001b[0m    [\u001b[38;5;241m3\u001b[39m,\u001b[38;5;241m5\u001b[39m,\u001b[38;5;241m7\u001b[39m]:\u001b[38;5;124m'\u001b[39m\u001b[38;5;124modd\u001b[39m\u001b[38;5;124m'\u001b[39m}\n",
      "\u001b[1;31mTypeError\u001b[0m: unhashable type: 'list'"
     ]
    }
   ],
   "source": [
    "d4={[2,4,6]:'even',\n",
    "   [3,5,7]:'odd'}      # fail"
   ]
  },
  {
   "cell_type": "code",
   "execution_count": 8,
   "id": "889378b8",
   "metadata": {},
   "outputs": [
    {
     "data": {
      "text/plain": [
       "{(2, 4, 6): 'even', (3, 5, 7): 'odd'}"
      ]
     },
     "execution_count": 8,
     "metadata": {},
     "output_type": "execute_result"
    }
   ],
   "source": [
    "d4={(2,4,6):'even',\n",
    "   (3,5,7):'odd'}\n",
    "\n",
    "d4"
   ]
  },
  {
   "cell_type": "code",
   "execution_count": 9,
   "id": "62bbbc16",
   "metadata": {},
   "outputs": [
    {
     "data": {
      "text/plain": [
       "{'item_list': {'fruiits': 'Apple'}}"
      ]
     },
     "execution_count": 9,
     "metadata": {},
     "output_type": "execute_result"
    }
   ],
   "source": [
    "# {'key':<{}>}\n",
    "d5={'item_list':{'fruiits':'Apple'}}\n",
    "d5"
   ]
  },
  {
   "cell_type": "code",
   "execution_count": 10,
   "id": "4a439414",
   "metadata": {},
   "outputs": [
    {
     "ename": "TypeError",
     "evalue": "unhashable type: 'dict'",
     "output_type": "error",
     "traceback": [
      "\u001b[1;31m---------------------------------------------------------------------------\u001b[0m",
      "\u001b[1;31mTypeError\u001b[0m                                 Traceback (most recent call last)",
      "Cell \u001b[1;32mIn[10], line 1\u001b[0m\n\u001b[1;32m----> 1\u001b[0m d6\u001b[38;5;241m=\u001b[39m{{\u001b[38;5;124m'\u001b[39m\u001b[38;5;124mfruiits\u001b[39m\u001b[38;5;124m'\u001b[39m:\u001b[38;5;124m'\u001b[39m\u001b[38;5;124mApple\u001b[39m\u001b[38;5;124m'\u001b[39m}:\u001b[38;5;124m'\u001b[39m\u001b[38;5;124mitem_list\u001b[39m\u001b[38;5;124m'\u001b[39m}\n\u001b[0;32m      2\u001b[0m d6\n",
      "\u001b[1;31mTypeError\u001b[0m: unhashable type: 'dict'"
     ]
    }
   ],
   "source": [
    "d6={{'fruiits':'Apple'}:'item_list'}\n",
    "d6"
   ]
  },
  {
   "cell_type": "code",
   "execution_count": 11,
   "id": "8cc16ed0",
   "metadata": {},
   "outputs": [],
   "source": [
    "a=[1,2]\n",
    "b=(1,2)"
   ]
  },
  {
   "cell_type": "code",
   "execution_count": 12,
   "id": "2acbab12",
   "metadata": {},
   "outputs": [
    {
     "data": {
      "text/plain": [
       "2"
      ]
     },
     "execution_count": 12,
     "metadata": {},
     "output_type": "execute_result"
    }
   ],
   "source": [
    "a,b=[1,2]\n",
    "c,d=(1,2)\n",
    "d"
   ]
  },
  {
   "cell_type": "code",
   "execution_count": 13,
   "id": "7ccdb33f",
   "metadata": {},
   "outputs": [
    {
     "data": {
      "text/plain": [
       "(1, 2)"
      ]
     },
     "execution_count": 13,
     "metadata": {},
     "output_type": "execute_result"
    }
   ],
   "source": [
    "a=1,2\n",
    "a"
   ]
  },
  {
   "cell_type": "code",
   "execution_count": 14,
   "id": "4e015037",
   "metadata": {},
   "outputs": [
    {
     "data": {
      "text/plain": [
       "{'A': 1, 'B': 2}"
      ]
     },
     "execution_count": 14,
     "metadata": {},
     "output_type": "execute_result"
    }
   ],
   "source": [
    "d1={'A':1,'B':2,'A':1}\n",
    "d1"
   ]
  },
  {
   "cell_type": "code",
   "execution_count": 15,
   "id": "6c163610",
   "metadata": {},
   "outputs": [
    {
     "data": {
      "text/plain": [
       "{'A': 3, 'B': 2}"
      ]
     },
     "execution_count": 15,
     "metadata": {},
     "output_type": "execute_result"
    }
   ],
   "source": [
    "d1={'A':1,'B':2,'A':3}\n",
    "d1"
   ]
  },
  {
   "cell_type": "markdown",
   "id": "692b71e4",
   "metadata": {},
   "source": [
    "- Dictionary is a key:value pair \n",
    "\n",
    "- at values postition you can take any data type\n",
    "\n",
    "- at keys postion list and dictionary will fail\n",
    "\n",
    "- Duplicates are not allowed\n",
    "\n",
    "- If you will update a key value, latest value it will take"
   ]
  },
  {
   "cell_type": "markdown",
   "id": "857f2d6d",
   "metadata": {},
   "source": [
    "$type$"
   ]
  },
  {
   "cell_type": "code",
   "execution_count": 16,
   "id": "777553a1",
   "metadata": {},
   "outputs": [
    {
     "data": {
      "text/plain": [
       "dict"
      ]
     },
     "execution_count": 16,
     "metadata": {},
     "output_type": "execute_result"
    }
   ],
   "source": [
    "type(d1)"
   ]
  },
  {
   "cell_type": "markdown",
   "id": "f5ebd8ba",
   "metadata": {},
   "source": [
    "- str\n",
    "\n",
    "- list\n",
    "\n",
    "- dict\n",
    "\n",
    "- int\n",
    "\n",
    "- float\n",
    "\n",
    "- bool\n",
    "\n",
    "- complex\n",
    "\n",
    "- tuple\n",
    "\n",
    "- set"
   ]
  },
  {
   "cell_type": "code",
   "execution_count": 17,
   "id": "1c645dba",
   "metadata": {},
   "outputs": [
    {
     "data": {
      "text/plain": [
       "'Robert'"
      ]
     },
     "execution_count": 17,
     "metadata": {},
     "output_type": "execute_result"
    }
   ],
   "source": [
    "d1={'Ram':25,\n",
    " 'Raheem':30,\n",
    " 'Robert':35}\n",
    "\n",
    "max(d1)\n",
    "\n",
    "# this maximum we are getting based on key or value"
   ]
  },
  {
   "cell_type": "code",
   "execution_count": 18,
   "id": "0a70fb43",
   "metadata": {},
   "outputs": [
    {
     "data": {
      "text/plain": [
       "'Robert'"
      ]
     },
     "execution_count": 18,
     "metadata": {},
     "output_type": "execute_result"
    }
   ],
   "source": [
    "d1={'Ram':25,\n",
    " 'Raheem':30,\n",
    " 'Robert':3}\n",
    "\n",
    "max(d1)"
   ]
  },
  {
   "cell_type": "markdown",
   "id": "5c9d61f9",
   "metadata": {},
   "source": [
    "- Maximum and minimum value based on key only"
   ]
  },
  {
   "cell_type": "code",
   "execution_count": 19,
   "id": "456e6408",
   "metadata": {},
   "outputs": [
    {
     "data": {
      "text/plain": [
       "'Robert'"
      ]
     },
     "execution_count": 19,
     "metadata": {},
     "output_type": "execute_result"
    }
   ],
   "source": [
    "min(d1)\n",
    "\n",
    "'Ram',     ord('m')\n",
    "'Raheem',  ord('h')\n",
    "'Robert'"
   ]
  },
  {
   "cell_type": "code",
   "execution_count": 20,
   "id": "790085f3",
   "metadata": {},
   "outputs": [
    {
     "data": {
      "text/plain": [
       "3"
      ]
     },
     "execution_count": 20,
     "metadata": {},
     "output_type": "execute_result"
    }
   ],
   "source": [
    "len(d1)"
   ]
  },
  {
   "cell_type": "code",
   "execution_count": 21,
   "id": "8add7fab",
   "metadata": {},
   "outputs": [
    {
     "data": {
      "text/plain": [
       "{'Ram': 25, 'Raheem': 30, 'Robert': 3}"
      ]
     },
     "execution_count": 21,
     "metadata": {},
     "output_type": "execute_result"
    }
   ],
   "source": [
    "d1"
   ]
  },
  {
   "cell_type": "code",
   "execution_count": 22,
   "id": "3d0c3775",
   "metadata": {},
   "outputs": [
    {
     "ename": "TypeError",
     "evalue": "unsupported operand type(s) for +: 'int' and 'str'",
     "output_type": "error",
     "traceback": [
      "\u001b[1;31m---------------------------------------------------------------------------\u001b[0m",
      "\u001b[1;31mTypeError\u001b[0m                                 Traceback (most recent call last)",
      "Cell \u001b[1;32mIn[22], line 1\u001b[0m\n\u001b[1;32m----> 1\u001b[0m \u001b[38;5;28msum\u001b[39m(d1)\n",
      "\u001b[1;31mTypeError\u001b[0m: unsupported operand type(s) for +: 'int' and 'str'"
     ]
    }
   ],
   "source": [
    "sum(d1)"
   ]
  },
  {
   "cell_type": "code",
   "execution_count": 23,
   "id": "0d831b6b",
   "metadata": {},
   "outputs": [
    {
     "data": {
      "text/plain": [
       "400"
      ]
     },
     "execution_count": 23,
     "metadata": {},
     "output_type": "execute_result"
    }
   ],
   "source": [
    "d2={100:'2',300:'4'}\n",
    "sum(d2)"
   ]
  },
  {
   "cell_type": "markdown",
   "id": "15098c67",
   "metadata": {},
   "source": [
    "- if keys has numeric then we can do sum"
   ]
  },
  {
   "cell_type": "code",
   "execution_count": 24,
   "id": "409748c7",
   "metadata": {},
   "outputs": [
    {
     "ename": "TypeError",
     "evalue": "can't multiply sequence by non-int of type 'str'",
     "output_type": "error",
     "traceback": [
      "\u001b[1;31m---------------------------------------------------------------------------\u001b[0m",
      "\u001b[1;31mTypeError\u001b[0m                                 Traceback (most recent call last)",
      "Cell \u001b[1;32mIn[24], line 1\u001b[0m\n\u001b[1;32m----> 1\u001b[0m \u001b[38;5;124m'\u001b[39m\u001b[38;5;124ma\u001b[39m\u001b[38;5;124m'\u001b[39m\u001b[38;5;241m*\u001b[39m\u001b[38;5;124m'\u001b[39m\u001b[38;5;124mb\u001b[39m\u001b[38;5;124m'\u001b[39m\n",
      "\u001b[1;31mTypeError\u001b[0m: can't multiply sequence by non-int of type 'str'"
     ]
    }
   ],
   "source": [
    "'a'*'b'"
   ]
  },
  {
   "cell_type": "markdown",
   "id": "ec7ec1e5",
   "metadata": {},
   "source": [
    "- type\n",
    "\n",
    "- len\n",
    "\n",
    "- max\n",
    "\n",
    "- min\n",
    "\n",
    "- sum"
   ]
  },
  {
   "cell_type": "markdown",
   "id": "4af9bd7c",
   "metadata": {},
   "source": [
    "$in$"
   ]
  },
  {
   "cell_type": "code",
   "execution_count": 25,
   "id": "e873e297",
   "metadata": {},
   "outputs": [
    {
     "data": {
      "text/plain": [
       "True"
      ]
     },
     "execution_count": 25,
     "metadata": {},
     "output_type": "execute_result"
    }
   ],
   "source": [
    "d1={'Ram':25,\n",
    " 'Raheem':30,\n",
    " 'Robert':35}\n",
    "\n",
    "\n",
    "#'Ram':25  in d1  fail\n",
    "    \n",
    "'Ram'  in d1   # works\n",
    "\n",
    "#25  in d1    # Fails"
   ]
  },
  {
   "cell_type": "code",
   "execution_count": 26,
   "id": "27909e4d",
   "metadata": {},
   "outputs": [
    {
     "name": "stdout",
     "output_type": "stream",
     "text": [
      "Ram\n",
      "Raheem\n",
      "Robert\n"
     ]
    }
   ],
   "source": [
    "for i in d1:\n",
    "    print(i)"
   ]
  },
  {
   "cell_type": "code",
   "execution_count": 27,
   "id": "be396548",
   "metadata": {},
   "outputs": [
    {
     "name": "stdout",
     "output_type": "stream",
     "text": [
      "1\n",
      "2\n",
      "3\n"
     ]
    }
   ],
   "source": [
    "str1='apple'\n",
    "'a' in str1\n",
    "\n",
    "l1=[1,2,3]\n",
    "1 in l1\n",
    "\n",
    "for i in l1:\n",
    "    print(i)"
   ]
  },
  {
   "cell_type": "markdown",
   "id": "3497c3a4",
   "metadata": {},
   "source": [
    "$index$"
   ]
  },
  {
   "cell_type": "code",
   "execution_count": 28,
   "id": "26d133df",
   "metadata": {},
   "outputs": [
    {
     "data": {
      "text/plain": [
       "'a'"
      ]
     },
     "execution_count": 28,
     "metadata": {},
     "output_type": "execute_result"
    }
   ],
   "source": [
    "l1=[10,20,30,40]\n",
    "l1[0]\n",
    "\n",
    "str1='apple'\n",
    "str1[0]"
   ]
  },
  {
   "cell_type": "code",
   "execution_count": 29,
   "id": "d2c208f0",
   "metadata": {},
   "outputs": [
    {
     "data": {
      "text/plain": [
       "25"
      ]
     },
     "execution_count": 29,
     "metadata": {},
     "output_type": "execute_result"
    }
   ],
   "source": [
    "d1={'Ram':25,\n",
    " 'Raheem':30,\n",
    " 'Robert':35}\n",
    "\n",
    "d1['Ram']\n",
    "\n",
    "# can we get values using for loop"
   ]
  },
  {
   "cell_type": "code",
   "execution_count": 30,
   "id": "0f6da84f",
   "metadata": {},
   "outputs": [
    {
     "name": "stdout",
     "output_type": "stream",
     "text": [
      "The age of Ram is 25\n",
      "The age of Raheem is 30\n",
      "The age of Robert is 35\n"
     ]
    }
   ],
   "source": [
    "for key in d1:\n",
    "    print(\"The age of {} is {}\".format(key,d1[key]))"
   ]
  },
  {
   "cell_type": "code",
   "execution_count": 31,
   "id": "947507cf",
   "metadata": {},
   "outputs": [
    {
     "name": "stdout",
     "output_type": "stream",
     "text": [
      "0 10\n",
      "1 20\n",
      "2 30\n",
      "3 40\n"
     ]
    }
   ],
   "source": [
    "for i in range(len(l1)):\n",
    "    print(i,l1[i])"
   ]
  },
  {
   "cell_type": "code",
   "execution_count": 32,
   "id": "3ff381b0",
   "metadata": {},
   "outputs": [
    {
     "name": "stdout",
     "output_type": "stream",
     "text": [
      "0\n",
      "1\n",
      "2\n"
     ]
    }
   ],
   "source": [
    "for key in range(len(d1)):\n",
    "    print(key)\n",
    "    #print(\"The age of {} is {}\".format(key,d1[key]))  # possibile / not possible"
   ]
  },
  {
   "cell_type": "markdown",
   "id": "43376fb6",
   "metadata": {},
   "source": [
    "**Creating a empty dictionary and update**"
   ]
  },
  {
   "cell_type": "code",
   "execution_count": 33,
   "id": "b31bab13",
   "metadata": {},
   "outputs": [
    {
     "name": "stdout",
     "output_type": "stream",
     "text": [
      "apple\n"
     ]
    }
   ],
   "source": [
    "s=''\n",
    "\n",
    "for i in 'apple':\n",
    "    s=s+i\n",
    "    \n",
    "print(s)"
   ]
  },
  {
   "cell_type": "code",
   "execution_count": 34,
   "id": "a4f047f7",
   "metadata": {},
   "outputs": [
    {
     "data": {
      "text/plain": [
       "[0, 1, 2, 3, 4, 5, 6, 7, 8, 9]"
      ]
     },
     "execution_count": 34,
     "metadata": {},
     "output_type": "execute_result"
    }
   ],
   "source": [
    "l=[i for i in range(10)]\n",
    "\n",
    "l=[]\n",
    "for i in range(10):\n",
    "    l.append(i)\n",
    "    \n",
    "l"
   ]
  },
  {
   "cell_type": "code",
   "execution_count": 35,
   "id": "c3918531",
   "metadata": {},
   "outputs": [
    {
     "data": {
      "text/plain": [
       "{'fruite': 'Apple'}"
      ]
     },
     "execution_count": 35,
     "metadata": {},
     "output_type": "execute_result"
    }
   ],
   "source": [
    "d1={}\n",
    "d1['fruite']='Apple'\n",
    "d1"
   ]
  },
  {
   "cell_type": "code",
   "execution_count": 36,
   "id": "33e2b22c",
   "metadata": {},
   "outputs": [
    {
     "data": {
      "text/plain": [
       "{'First name': 'Nikita',\n",
       " 'sir name': 'Parolekar',\n",
       " 'Nativeplace': 'Dhule',\n",
       " 'State': 'Maharashtra'}"
      ]
     },
     "execution_count": 36,
     "metadata": {},
     "output_type": "execute_result"
    }
   ],
   "source": [
    "d1={}\n",
    "d1[\"First name\"]=\"Nikita\"\n",
    "d1[\"sir name\"]=\"Parolekar\"\n",
    "d1[\"Nativeplace\"]=\"Dhule\"\n",
    "d1[\"State\"]=\"Maharashtra\"\n",
    "d1"
   ]
  },
  {
   "cell_type": "code",
   "execution_count": 37,
   "id": "7d91d2cf",
   "metadata": {},
   "outputs": [],
   "source": [
    "# WAP create a dictionary based on two lists\n",
    "# names=['Ram','Raheem','Robert']\n",
    "# age=[25,30,35]\n",
    "# d1={'Ram':25,'Raheem':30,'Robert':35}\n",
    "\n",
    "names=['Ram','Raheem','Robert']\n",
    "age=[25,30,35]"
   ]
  },
  {
   "cell_type": "code",
   "execution_count": 38,
   "id": "caa5deb7",
   "metadata": {},
   "outputs": [],
   "source": [
    "names=['Ram','Raheem','Robert']\n",
    "age=[35,25,30]\n",
    "dict1={}\n",
    "for i,j in zip(names,age):\n",
    "    dict1[i]=j\n",
    "dict1\n",
    "\n",
    "############################################################\n",
    "dict1={name:age for name,age in zip(names,age)}"
   ]
  },
  {
   "cell_type": "code",
   "execution_count": 39,
   "id": "9dc28ca7",
   "metadata": {},
   "outputs": [],
   "source": [
    "dict1={}\n",
    "for i in range(len(names)):\n",
    "    dict1[names[i]]=age[i]\n",
    "    \n",
    "#######################################################################\n",
    "dict1={names[i]:age[i] for i in range(len(names))}\n"
   ]
  },
  {
   "cell_type": "code",
   "execution_count": 40,
   "id": "983aa834",
   "metadata": {},
   "outputs": [
    {
     "data": {
      "text/plain": [
       "[0, 1, 2]"
      ]
     },
     "execution_count": 40,
     "metadata": {},
     "output_type": "execute_result"
    }
   ],
   "source": [
    "list1=[]\n",
    "for i in range(len(names)):\n",
    "    list1.append(i)\n",
    "    \n",
    "list1=[i for i in range(len(names))]\n",
    "list1"
   ]
  },
  {
   "cell_type": "raw",
   "id": "af9a1083",
   "metadata": {},
   "source": [
    "#WAP take 5 random numbers\n",
    "# and create a dictionary with even and odd\n",
    "\n",
    "# Output: {'even':[20,22],'odd':[19,21,23]}\n",
    "\n",
    "# step-1: take empty dictionary\n",
    "# step-2: take two even and odd list\n",
    "# step-3: import random\n",
    "# step-4: for i in range(5):\n",
    "# step-5:     num=random.randint(a,b)\n",
    "# step-6:     if <even>:\n",
    "# step-7:        append the values in even list\n",
    "# step-8:    else:\n",
    "# step-9:        append the values in odd list\n",
    "# step-10: create dictinary"
   ]
  },
  {
   "cell_type": "code",
   "execution_count": 41,
   "id": "b574591e",
   "metadata": {},
   "outputs": [],
   "source": [
    "import os"
   ]
  },
  {
   "cell_type": "code",
   "execution_count": 42,
   "id": "9e76544c",
   "metadata": {},
   "outputs": [
    {
     "data": {
      "text/plain": [
       "'C:\\\\Users\\\\jayan\\\\OneDrive\\\\DATA_SCIENCE\\\\NARESH IT DS (OMKAR SIR)\\\\Python\\\\Python_01'"
      ]
     },
     "execution_count": 42,
     "metadata": {},
     "output_type": "execute_result"
    }
   ],
   "source": [
    "os.getcwd()"
   ]
  },
  {
   "cell_type": "markdown",
   "id": "34bf09a8",
   "metadata": {},
   "source": [
    "**dictionary methods**"
   ]
  },
  {
   "cell_type": "code",
   "execution_count": 43,
   "id": "b1defffc",
   "metadata": {},
   "outputs": [
    {
     "data": {
      "text/plain": [
       "['__class__',\n",
       " '__class_getitem__',\n",
       " '__contains__',\n",
       " '__delattr__',\n",
       " '__delitem__',\n",
       " '__dir__',\n",
       " '__doc__',\n",
       " '__eq__',\n",
       " '__format__',\n",
       " '__ge__',\n",
       " '__getattribute__',\n",
       " '__getitem__',\n",
       " '__getstate__',\n",
       " '__gt__',\n",
       " '__hash__',\n",
       " '__init__',\n",
       " '__init_subclass__',\n",
       " '__ior__',\n",
       " '__iter__',\n",
       " '__le__',\n",
       " '__len__',\n",
       " '__lt__',\n",
       " '__ne__',\n",
       " '__new__',\n",
       " '__or__',\n",
       " '__reduce__',\n",
       " '__reduce_ex__',\n",
       " '__repr__',\n",
       " '__reversed__',\n",
       " '__ror__',\n",
       " '__setattr__',\n",
       " '__setitem__',\n",
       " '__sizeof__',\n",
       " '__str__',\n",
       " '__subclasshook__',\n",
       " 'clear',\n",
       " 'copy',\n",
       " 'fromkeys',\n",
       " 'get',\n",
       " 'items',\n",
       " 'keys',\n",
       " 'pop',\n",
       " 'popitem',\n",
       " 'setdefault',\n",
       " 'update',\n",
       " 'values']"
      ]
     },
     "execution_count": 43,
     "metadata": {},
     "output_type": "execute_result"
    }
   ],
   "source": [
    "dir({})\n",
    "\n",
    "# str=''\n",
    "# list=[]\n",
    "# dict={}"
   ]
  },
  {
   "cell_type": "markdown",
   "id": "b079edd3",
   "metadata": {},
   "source": [
    "$items-keys-values$"
   ]
  },
  {
   "cell_type": "code",
   "execution_count": 44,
   "id": "2cedfc31",
   "metadata": {},
   "outputs": [
    {
     "data": {
      "text/plain": [
       "{'Ram': 25, 'Raheem': 30, 'Robert': 35}"
      ]
     },
     "execution_count": 44,
     "metadata": {},
     "output_type": "execute_result"
    }
   ],
   "source": [
    "d1={'Ram':25,\n",
    " 'Raheem':30,\n",
    " 'Robert':35}\n",
    "\n",
    "d1"
   ]
  },
  {
   "cell_type": "code",
   "execution_count": 45,
   "id": "3b0c4e66",
   "metadata": {},
   "outputs": [
    {
     "data": {
      "text/plain": [
       "dict_items([('Ram', 25), ('Raheem', 30), ('Robert', 35)])"
      ]
     },
     "execution_count": 45,
     "metadata": {},
     "output_type": "execute_result"
    }
   ],
   "source": [
    "#items\n",
    "items=d1.items()\n",
    "items"
   ]
  },
  {
   "cell_type": "code",
   "execution_count": 46,
   "id": "6541ce4a",
   "metadata": {},
   "outputs": [
    {
     "data": {
      "text/plain": [
       "dict_items"
      ]
     },
     "execution_count": 46,
     "metadata": {},
     "output_type": "execute_result"
    }
   ],
   "source": [
    "type(items)   "
   ]
  },
  {
   "cell_type": "code",
   "execution_count": 47,
   "id": "07d86728",
   "metadata": {},
   "outputs": [
    {
     "data": {
      "text/plain": [
       "dict_keys(['Ram', 'Raheem', 'Robert'])"
      ]
     },
     "execution_count": 47,
     "metadata": {},
     "output_type": "execute_result"
    }
   ],
   "source": [
    "#keys\n",
    "keys=d1.keys()\n",
    "keys"
   ]
  },
  {
   "cell_type": "code",
   "execution_count": 48,
   "id": "bcd26c6a",
   "metadata": {},
   "outputs": [
    {
     "data": {
      "text/plain": [
       "dict_keys"
      ]
     },
     "execution_count": 48,
     "metadata": {},
     "output_type": "execute_result"
    }
   ],
   "source": [
    "type(keys)"
   ]
  },
  {
   "cell_type": "code",
   "execution_count": 49,
   "id": "838aa334",
   "metadata": {},
   "outputs": [
    {
     "data": {
      "text/plain": [
       "dict_values([25, 30, 35])"
      ]
     },
     "execution_count": 49,
     "metadata": {},
     "output_type": "execute_result"
    }
   ],
   "source": [
    "# values\n",
    "values=d1.values()\n",
    "values"
   ]
  },
  {
   "cell_type": "code",
   "execution_count": 50,
   "id": "1d412fa8",
   "metadata": {},
   "outputs": [
    {
     "data": {
      "text/plain": [
       "dict_values"
      ]
     },
     "execution_count": 50,
     "metadata": {},
     "output_type": "execute_result"
    }
   ],
   "source": [
    "type(values)"
   ]
  },
  {
   "cell_type": "code",
   "execution_count": 51,
   "id": "b583980c",
   "metadata": {},
   "outputs": [
    {
     "data": {
      "text/plain": [
       "[25, 30, 35, 400]"
      ]
     },
     "execution_count": 51,
     "metadata": {},
     "output_type": "execute_result"
    }
   ],
   "source": [
    "l1=[25,30,35]\n",
    "l1.append(400)\n",
    "l1"
   ]
  },
  {
   "cell_type": "code",
   "execution_count": 52,
   "id": "43c34b4f",
   "metadata": {},
   "outputs": [
    {
     "data": {
      "text/plain": [
       "[25, 30, 35]"
      ]
     },
     "execution_count": 52,
     "metadata": {},
     "output_type": "execute_result"
    }
   ],
   "source": [
    "values    # I want to convert into a list\n",
    "values_list=list(values) # then you can apply list methods\n",
    "values_list"
   ]
  },
  {
   "cell_type": "code",
   "execution_count": 53,
   "id": "068801d1",
   "metadata": {},
   "outputs": [
    {
     "data": {
      "text/plain": [
       "['Ram', 'Raheem', 'Robert']"
      ]
     },
     "execution_count": 53,
     "metadata": {},
     "output_type": "execute_result"
    }
   ],
   "source": [
    "keys_list=list(keys)\n",
    "keys_list"
   ]
  },
  {
   "cell_type": "raw",
   "id": "31f72330",
   "metadata": {},
   "source": [
    "# I will give the dictionary\n",
    "# can you extract keys ans values in a list\n",
    "\n",
    "\n",
    "\n",
    "# I will give two list  keys and values\n",
    "# can you create a dictionary"
   ]
  },
  {
   "cell_type": "code",
   "execution_count": 54,
   "id": "cba98cd7",
   "metadata": {},
   "outputs": [],
   "source": [
    "d1={'Ram':25,\n",
    " 'Raheem':30,\n",
    " 'Robert':35}\n",
    "\n",
    "keys=list(d1.keys())\n",
    "values=list(d1.values())"
   ]
  },
  {
   "cell_type": "code",
   "execution_count": 55,
   "id": "204f6133",
   "metadata": {},
   "outputs": [
    {
     "data": {
      "text/plain": [
       "(['Ram', 'Raheem', 'Robert'], [25, 30, 35])"
      ]
     },
     "execution_count": 55,
     "metadata": {},
     "output_type": "execute_result"
    }
   ],
   "source": [
    "keys,values"
   ]
  },
  {
   "cell_type": "code",
   "execution_count": 56,
   "id": "f501ea1c",
   "metadata": {},
   "outputs": [
    {
     "data": {
      "text/plain": [
       "{'Ram': 25, 'Raheem': 30, 'Robert': 35}"
      ]
     },
     "execution_count": 56,
     "metadata": {},
     "output_type": "execute_result"
    }
   ],
   "source": [
    "{i:j for i,j in zip(keys,values)}"
   ]
  },
  {
   "cell_type": "code",
   "execution_count": 57,
   "id": "474c2e1c",
   "metadata": {},
   "outputs": [
    {
     "data": {
      "text/plain": [
       "{'Ram': 25, 'Raheem': 30, 'Robert': 35}"
      ]
     },
     "execution_count": 57,
     "metadata": {},
     "output_type": "execute_result"
    }
   ],
   "source": [
    "d1={}\n",
    "for i in range(len(keys)):\n",
    "    d1[keys[i]]=values[i]   # d1[keys[0]]=values[0]   d1['Ram']=25\n",
    "    \n",
    "d1"
   ]
  },
  {
   "cell_type": "code",
   "execution_count": 58,
   "id": "d64d171a",
   "metadata": {},
   "outputs": [
    {
     "data": {
      "text/plain": [
       "{'Ram': 25, 'Raheem': 30, 'Robert': 35}"
      ]
     },
     "execution_count": 58,
     "metadata": {},
     "output_type": "execute_result"
    }
   ],
   "source": [
    "dict(zip(keys,values))"
   ]
  },
  {
   "cell_type": "code",
   "execution_count": 59,
   "id": "6538f1b9",
   "metadata": {},
   "outputs": [],
   "source": [
    "s1='virat.kohli@blr.com,Rohit.sharma@mumbai.com,kl.rahul@lucknow.com'\n",
    "\n",
    "# {'first_name':['virat','Rohit','KL'],\n",
    "#   'second_name':['kohli','sharma','rahul'],\n",
    "#   'company':['blr','mumbai','lucknow']}"
   ]
  },
  {
   "cell_type": "code",
   "execution_count": 60,
   "id": "47e92a90",
   "metadata": {},
   "outputs": [
    {
     "data": {
      "text/plain": [
       "['virat.kohli@blr.com', 'Rohit.sharma@mumbai.com', 'kl.rahul@lucknow.com']"
      ]
     },
     "execution_count": 60,
     "metadata": {},
     "output_type": "execute_result"
    }
   ],
   "source": [
    "s1.split(',')"
   ]
  },
  {
   "cell_type": "code",
   "execution_count": 61,
   "id": "96354b07",
   "metadata": {},
   "outputs": [
    {
     "data": {
      "text/plain": [
       "{'first_name': ['virat', 'Rohit', 'kl'],\n",
       " 'second_name': ['kohli', 'sharma', 'rahul'],\n",
       " 'company_name': ['blr', 'mumbai', 'lucknow']}"
      ]
     },
     "execution_count": 61,
     "metadata": {},
     "output_type": "execute_result"
    }
   ],
   "source": [
    "str1='virat.kohli@blr.com'\n",
    "d1={}\n",
    "f_name=[str1[:str1.find('.')] for str1 in s1.split(',')]\n",
    "s_name=[str1[str1.find('.')+1:str1.find('@')] for str1 in s1.split(',')]\n",
    "c_name=[str1[str1.find('@')+1:str1.find('.',str1.find('.')+1)] for str1 in s1.split(',')]\n",
    "f_name,s_name,c_name\n",
    "\n",
    "d1['first_name']=f_name\n",
    "d1['second_name']=s_name\n",
    "d1['company_name']=c_name\n",
    "\n",
    "d1"
   ]
  },
  {
   "cell_type": "code",
   "execution_count": 62,
   "id": "a1b3d692",
   "metadata": {},
   "outputs": [
    {
     "data": {
      "text/plain": [
       "{'first_name': ['virat', 'rohit', 'kl'],\n",
       " 'second_name': ['kohli', 'sharma', 'rahul'],\n",
       " 'company': ['blr', 'mumbai', 'lucknow']}"
      ]
     },
     "execution_count": 62,
     "metadata": {},
     "output_type": "execute_result"
    }
   ],
   "source": [
    "s1='virat.kohli@blr.com,rohit.sharma@mumbai.com,kl.rahul@lucknow.com'\n",
    "l1=s1.split(',')\n",
    "first_name=[]\n",
    "second_name=[]\n",
    "company=[]\n",
    "d2={}\n",
    "for i in l1:\n",
    "    #print(i)\n",
    "    first_name.append(i[0:i.find('.')])\n",
    "    second_name.append(i[i.find('.')+1:i.find('@')])\n",
    "    company.append(i[i.find('@')+1:i.find('.',i.find('.')+1)])\n",
    "    \n",
    "d2['first_name']=first_name\n",
    "d2['second_name']=second_name\n",
    "d2['company']=company\n",
    "d2"
   ]
  },
  {
   "cell_type": "markdown",
   "id": "538d6fcc",
   "metadata": {},
   "source": [
    "$words$-$frequency$"
   ]
  },
  {
   "cell_type": "code",
   "execution_count": 63,
   "id": "e2e7a069",
   "metadata": {},
   "outputs": [],
   "source": [
    "str1='can can you canner can you able to can canner'\n",
    "\n",
    "#{'can':4,'you':2,'canner':2,'able':1,'to':1}\n",
    "\n",
    "# d={}\n",
    "# step-1: split the str1 ======= > you will get a list\n",
    "# step-2: iterate through loop ==== > each word will print\n",
    "# step-3: list1.count(<word>): number\n",
    "# step-4: make the dictionary"
   ]
  },
  {
   "cell_type": "code",
   "execution_count": 64,
   "id": "dbe77060",
   "metadata": {},
   "outputs": [
    {
     "data": {
      "text/plain": [
       "{'can': 4, 'you': 2, 'canner': 1, 'able': 1, 'to': 1, 'canner.': 1}"
      ]
     },
     "execution_count": 64,
     "metadata": {},
     "output_type": "execute_result"
    }
   ],
   "source": [
    "str1='can can you canner can you able to can canner.'\n",
    "l1=str1.split(' ')  # step-1\n",
    "d1={}\n",
    "\n",
    "for i in l1:       # step-2\n",
    "    d1[i]=l1.count(i) # step-3\n",
    "    \n",
    "    \n",
    "d1"
   ]
  },
  {
   "cell_type": "code",
   "execution_count": 65,
   "id": "3a3cc1d0",
   "metadata": {},
   "outputs": [
    {
     "data": {
      "text/plain": [
       "['can', 'can', 'you', 'canner', 'can', 'you', 'able', 'to', 'can', 'canner.']"
      ]
     },
     "execution_count": 65,
     "metadata": {},
     "output_type": "execute_result"
    }
   ],
   "source": [
    "str1='can can you canner can you able to can canner.'\n",
    "str1.split()"
   ]
  },
  {
   "cell_type": "code",
   "execution_count": 66,
   "id": "1f88193b",
   "metadata": {},
   "outputs": [],
   "source": [
    "keys=list(d1.keys())"
   ]
  },
  {
   "cell_type": "code",
   "execution_count": 67,
   "id": "1a597866",
   "metadata": {},
   "outputs": [],
   "source": [
    "values=list(d1.values())"
   ]
  },
  {
   "cell_type": "code",
   "execution_count": 68,
   "id": "80e1a36f",
   "metadata": {},
   "outputs": [
    {
     "data": {
      "text/plain": [
       "(['can', 'you', 'canner', 'able', 'to', 'canner.'], [4, 2, 1, 1, 1, 1])"
      ]
     },
     "execution_count": 68,
     "metadata": {},
     "output_type": "execute_result"
    }
   ],
   "source": [
    "keys,values"
   ]
  },
  {
   "cell_type": "code",
   "execution_count": 69,
   "id": "620e5353",
   "metadata": {},
   "outputs": [],
   "source": [
    "i=max(values)"
   ]
  },
  {
   "cell_type": "code",
   "execution_count": 70,
   "id": "2b844f68",
   "metadata": {},
   "outputs": [
    {
     "data": {
      "text/plain": [
       "0"
      ]
     },
     "execution_count": 70,
     "metadata": {},
     "output_type": "execute_result"
    }
   ],
   "source": [
    "values.index(i)"
   ]
  },
  {
   "cell_type": "code",
   "execution_count": 71,
   "id": "27e146c3",
   "metadata": {},
   "outputs": [
    {
     "data": {
      "text/plain": [
       "'can'"
      ]
     },
     "execution_count": 71,
     "metadata": {},
     "output_type": "execute_result"
    }
   ],
   "source": [
    "keys[values.index(max(values))]"
   ]
  },
  {
   "cell_type": "code",
   "execution_count": 72,
   "id": "9fc5776b",
   "metadata": {},
   "outputs": [],
   "source": [
    "d1={'a':20,'b':30,'c':40}\n",
    "d2={'a':50,'b':100,'c':200}\n",
    "\n",
    "# o/p={'a':70,'b':130,'c':240}"
   ]
  },
  {
   "cell_type": "code",
   "execution_count": 73,
   "id": "0385b011",
   "metadata": {},
   "outputs": [],
   "source": [
    "d1={'a':20,'b':30,'c':40,'d':500}\n",
    "d2={'a':50,'b':100,'c':200}\n",
    "\n",
    "# o/p={'a':70,'b':130,'c':240,'d':500}"
   ]
  },
  {
   "cell_type": "code",
   "execution_count": 74,
   "id": "818a02c6",
   "metadata": {},
   "outputs": [
    {
     "data": {
      "text/plain": [
       "{'a': 70, 'b': 130, 'c': 240, 'd': 500}"
      ]
     },
     "execution_count": 74,
     "metadata": {},
     "output_type": "execute_result"
    }
   ],
   "source": [
    "d1 = {'a':20,'b':30,'c':40,'d':500}\n",
    "d2 = {'a':50,'b':100,'c':200}\n",
    "for i in d2:\n",
    "    d1[i]+=d2[i]\n",
    "d1"
   ]
  },
  {
   "cell_type": "code",
   "execution_count": 75,
   "id": "a7cf6b07",
   "metadata": {},
   "outputs": [
    {
     "data": {
      "text/plain": [
       "{'a': 70, 'b': 130, 'c': 240}"
      ]
     },
     "execution_count": 75,
     "metadata": {},
     "output_type": "execute_result"
    }
   ],
   "source": [
    "d1 = {'a':20,'b':30,'c':40}\n",
    "d2 = {'a':50,'b':100,'c':200}\n",
    "for i in d1:\n",
    "    d1[i]+=d2[i]\n",
    "d1"
   ]
  },
  {
   "cell_type": "code",
   "execution_count": 76,
   "id": "0f84e627",
   "metadata": {},
   "outputs": [
    {
     "data": {
      "text/plain": [
       "{'a': 70, 'b': 130, 'c': 240}"
      ]
     },
     "execution_count": 76,
     "metadata": {},
     "output_type": "execute_result"
    }
   ],
   "source": [
    "d1={'a':20,'b':30,'c':40}\n",
    "d2={'a':50,'b':100,'c':200}\n",
    "\n",
    "d3={}\n",
    "if len(d1)==len(d2):\n",
    "    for i in d1:\n",
    "        d3[i]=d1[i]+d2[i]\n",
    "        # d3['a']=d1['a']+d2['a']\n",
    "        \n",
    "d3\n",
    "\n",
    "# which ever is max length iterate through that dictionary"
   ]
  },
  {
   "cell_type": "code",
   "execution_count": 77,
   "id": "60edb7cd",
   "metadata": {},
   "outputs": [
    {
     "data": {
      "text/plain": [
       "{'a': 70, 'b': 130, 'c': 240}"
      ]
     },
     "execution_count": 77,
     "metadata": {},
     "output_type": "execute_result"
    }
   ],
   "source": [
    "for i in range(min(len(d1),len(d2))):\n",
    "    d1[list(d1.keys())[i]]+=d2[list(d2.keys())[i]]\n",
    "d1"
   ]
  },
  {
   "cell_type": "code",
   "execution_count": 78,
   "id": "1cfaa638",
   "metadata": {},
   "outputs": [
    {
     "data": {
      "text/plain": [
       "{'a': 70, 'b': 130, 'c': 240, 'd': 500}"
      ]
     },
     "execution_count": 78,
     "metadata": {},
     "output_type": "execute_result"
    }
   ],
   "source": [
    "d1 = {'a':20,'b':30,'c':40,'d':500}\n",
    "d2 = {'a':50,'b':100,'c':200}\n",
    "for i in range(min(len(d1),len(d2))):\n",
    "    d1[list(d1.keys())[i]]+=d2[list(d2.keys())[i]]\n",
    "d1"
   ]
  },
  {
   "cell_type": "code",
   "execution_count": 79,
   "id": "3e7dac9a",
   "metadata": {},
   "outputs": [],
   "source": [
    "# strings /list/dictionary \n",
    "# Python developer "
   ]
  },
  {
   "cell_type": "code",
   "execution_count": 80,
   "id": "dec4c5e2",
   "metadata": {},
   "outputs": [],
   "source": [
    "# this week finish python\n",
    "# statistics will start (10days)\n",
    "# EDA with python"
   ]
  },
  {
   "cell_type": "code",
   "execution_count": null,
   "id": "b9fe8c1f",
   "metadata": {},
   "outputs": [],
   "source": []
  },
  {
   "cell_type": "code",
   "execution_count": 81,
   "id": "200baeb1",
   "metadata": {},
   "outputs": [],
   "source": [
    "d1 = {'a':20,'b':30,'c':40,'d':500}\n",
    "d1['a']=200"
   ]
  },
  {
   "cell_type": "code",
   "execution_count": 82,
   "id": "29de6ee0",
   "metadata": {},
   "outputs": [
    {
     "data": {
      "text/plain": [
       "{'a': 200, 'b': 30, 'c': 40, 'd': 500}"
      ]
     },
     "execution_count": 82,
     "metadata": {},
     "output_type": "execute_result"
    }
   ],
   "source": [
    "d1"
   ]
  },
  {
   "cell_type": "code",
   "execution_count": 83,
   "id": "c5224335",
   "metadata": {},
   "outputs": [
    {
     "data": {
      "text/plain": [
       "'321'"
      ]
     },
     "execution_count": 83,
     "metadata": {},
     "output_type": "execute_result"
    }
   ],
   "source": [
    "s=''\n",
    "for i in reversed('123'):\n",
    "    s+=i\n",
    "    \n",
    "s"
   ]
  },
  {
   "cell_type": "code",
   "execution_count": 84,
   "id": "396a6094",
   "metadata": {},
   "outputs": [
    {
     "data": {
      "text/plain": [
       "321"
      ]
     },
     "execution_count": 84,
     "metadata": {},
     "output_type": "execute_result"
    }
   ],
   "source": [
    "int(s)"
   ]
  },
  {
   "cell_type": "code",
   "execution_count": 85,
   "id": "2e6875a9",
   "metadata": {},
   "outputs": [
    {
     "data": {
      "text/plain": [
       "'Hai How  Kumar'"
      ]
     },
     "execution_count": 85,
     "metadata": {},
     "output_type": "execute_result"
    }
   ],
   "source": [
    "s1='hai how  kumar'\n",
    "l=s1.split(' ')\n",
    "l1=[]\n",
    "for i in l:\n",
    "    l1.append(i.capitalize())\n",
    "    \n",
    "' '.join(l1)"
   ]
  },
  {
   "cell_type": "code",
   "execution_count": 86,
   "id": "d11eb660",
   "metadata": {},
   "outputs": [
    {
     "data": {
      "text/plain": [
       "['__class__',\n",
       " '__class_getitem__',\n",
       " '__contains__',\n",
       " '__delattr__',\n",
       " '__delitem__',\n",
       " '__dir__',\n",
       " '__doc__',\n",
       " '__eq__',\n",
       " '__format__',\n",
       " '__ge__',\n",
       " '__getattribute__',\n",
       " '__getitem__',\n",
       " '__getstate__',\n",
       " '__gt__',\n",
       " '__hash__',\n",
       " '__init__',\n",
       " '__init_subclass__',\n",
       " '__ior__',\n",
       " '__iter__',\n",
       " '__le__',\n",
       " '__len__',\n",
       " '__lt__',\n",
       " '__ne__',\n",
       " '__new__',\n",
       " '__or__',\n",
       " '__reduce__',\n",
       " '__reduce_ex__',\n",
       " '__repr__',\n",
       " '__reversed__',\n",
       " '__ror__',\n",
       " '__setattr__',\n",
       " '__setitem__',\n",
       " '__sizeof__',\n",
       " '__str__',\n",
       " '__subclasshook__',\n",
       " 'clear',\n",
       " 'copy',\n",
       " 'fromkeys',\n",
       " 'get',\n",
       " 'items',\n",
       " 'keys',\n",
       " 'pop',\n",
       " 'popitem',\n",
       " 'setdefault',\n",
       " 'update',\n",
       " 'values']"
      ]
     },
     "execution_count": 86,
     "metadata": {},
     "output_type": "execute_result"
    }
   ],
   "source": [
    "dir({})"
   ]
  },
  {
   "cell_type": "markdown",
   "id": "32738462",
   "metadata": {},
   "source": [
    "$clear$-$copy$"
   ]
  },
  {
   "cell_type": "code",
   "execution_count": 87,
   "id": "b0fc6ae2",
   "metadata": {},
   "outputs": [
    {
     "name": "stdout",
     "output_type": "stream",
     "text": [
      "{}\n",
      "{'a': 20, 'b': 30, 'c': 40, 'd': 500}\n"
     ]
    }
   ],
   "source": [
    "# take one dictionary\n",
    "# take second dictionary\n",
    "# copy first dict into second\n",
    "# clear first dict\n",
    "# and print both\n",
    "\n",
    "d1 = {'a':20,'b':30,'c':40,'d':500} # \n",
    "d2=d1.copy()\n",
    "d1.clear()\n",
    "print(d1)  # {}\n",
    "print(d2)  # {'a':20,'b':30,'c':40,'d':500}"
   ]
  },
  {
   "cell_type": "markdown",
   "id": "0ff13e5c",
   "metadata": {},
   "source": [
    "$pop$-$popitem$-$del$"
   ]
  },
  {
   "cell_type": "markdown",
   "id": "c254367d",
   "metadata": {},
   "source": [
    "- what is pop\n",
    "\n",
    "     - pop will remove specify key\n",
    "     \n",
    "     - return value\n",
    "\n",
    "- what is popitem\n",
    "\n",
    "      -  remove the last value default\n",
    "      \n",
    "      -  return the pair\n",
    "\n",
    "- what is del\n",
    "\n",
    "       - del is a keyword\n",
    "       \n",
    "       - it can delete an item by providing specific key"
   ]
  },
  {
   "cell_type": "code",
   "execution_count": 88,
   "id": "5a4a0972",
   "metadata": {},
   "outputs": [
    {
     "data": {
      "text/plain": [
       "{'a': 20, 'b': 30, 'c': 40, 'd': 500}"
      ]
     },
     "execution_count": 88,
     "metadata": {},
     "output_type": "execute_result"
    }
   ],
   "source": [
    "d2"
   ]
  },
  {
   "cell_type": "code",
   "execution_count": 89,
   "id": "96eb47e4",
   "metadata": {},
   "outputs": [
    {
     "data": {
      "text/plain": [
       "20"
      ]
     },
     "execution_count": 89,
     "metadata": {},
     "output_type": "execute_result"
    }
   ],
   "source": [
    "d2.pop('a')"
   ]
  },
  {
   "cell_type": "code",
   "execution_count": 90,
   "id": "ae113326",
   "metadata": {},
   "outputs": [
    {
     "data": {
      "text/plain": [
       "('d', 500)"
      ]
     },
     "execution_count": 90,
     "metadata": {},
     "output_type": "execute_result"
    }
   ],
   "source": [
    "d2.popitem()"
   ]
  },
  {
   "cell_type": "code",
   "execution_count": 91,
   "id": "9a5130da",
   "metadata": {},
   "outputs": [],
   "source": [
    "#del is a keyword\n",
    "del d2['c']"
   ]
  },
  {
   "cell_type": "code",
   "execution_count": 92,
   "id": "3de29130",
   "metadata": {},
   "outputs": [
    {
     "data": {
      "text/plain": [
       "{'b': 30}"
      ]
     },
     "execution_count": 92,
     "metadata": {},
     "output_type": "execute_result"
    }
   ],
   "source": [
    "d2"
   ]
  },
  {
   "cell_type": "code",
   "execution_count": 93,
   "id": "35cb47e8",
   "metadata": {},
   "outputs": [],
   "source": [
    "l1=[10,20,30,40,50]\n",
    "del l1[1]  # list is access by index"
   ]
  },
  {
   "cell_type": "code",
   "execution_count": 94,
   "id": "4b817f1c",
   "metadata": {},
   "outputs": [
    {
     "data": {
      "text/plain": [
       "[10, 30, 40, 50]"
      ]
     },
     "execution_count": 94,
     "metadata": {},
     "output_type": "execute_result"
    }
   ],
   "source": [
    "l1"
   ]
  },
  {
   "cell_type": "code",
   "execution_count": 95,
   "id": "c27a15e0",
   "metadata": {},
   "outputs": [],
   "source": [
    "del(d2)"
   ]
  },
  {
   "cell_type": "code",
   "execution_count": 96,
   "id": "cf6873f1",
   "metadata": {},
   "outputs": [
    {
     "ename": "NameError",
     "evalue": "name 'd2' is not defined",
     "output_type": "error",
     "traceback": [
      "\u001b[1;31m---------------------------------------------------------------------------\u001b[0m",
      "\u001b[1;31mNameError\u001b[0m                                 Traceback (most recent call last)",
      "Cell \u001b[1;32mIn[96], line 1\u001b[0m\n\u001b[1;32m----> 1\u001b[0m d2\n",
      "\u001b[1;31mNameError\u001b[0m: name 'd2' is not defined"
     ]
    }
   ],
   "source": [
    "d2"
   ]
  },
  {
   "cell_type": "code",
   "execution_count": 97,
   "id": "57b8a116",
   "metadata": {},
   "outputs": [
    {
     "ename": "KeyError",
     "evalue": "'c'",
     "output_type": "error",
     "traceback": [
      "\u001b[1;31m---------------------------------------------------------------------------\u001b[0m",
      "\u001b[1;31mKeyError\u001b[0m                                  Traceback (most recent call last)",
      "Cell \u001b[1;32mIn[97], line 5\u001b[0m\n\u001b[0;32m      2\u001b[0m \u001b[38;5;66;03m################################\u001b[39;00m\n\u001b[0;32m      3\u001b[0m \u001b[38;5;28;01mdel\u001b[39;00m d1[\u001b[38;5;124m'\u001b[39m\u001b[38;5;124mc\u001b[39m\u001b[38;5;124m'\u001b[39m]\n\u001b[1;32m----> 5\u001b[0m d1\u001b[38;5;241m.\u001b[39mpop(\u001b[38;5;124m'\u001b[39m\u001b[38;5;124mc\u001b[39m\u001b[38;5;124m'\u001b[39m)\n\u001b[0;32m      7\u001b[0m d1\u001b[38;5;241m.\u001b[39mpopitem()  \u001b[38;5;66;03m# LIFO\u001b[39;00m\n\u001b[0;32m      8\u001b[0m \u001b[38;5;66;03m########################################\u001b[39;00m\n",
      "\u001b[1;31mKeyError\u001b[0m: 'c'"
     ]
    }
   ],
   "source": [
    "d1={'a':1,'b':2,'c':3}\n",
    "################################\n",
    "del d1['c']\n",
    "\n",
    "d1.pop('c')\n",
    "\n",
    "d1.popitem()  # LIFO\n",
    "########################################\n",
    "del (d1)"
   ]
  },
  {
   "cell_type": "markdown",
   "id": "d554a3a6",
   "metadata": {},
   "source": [
    "- items/values/keys\n",
    "\n",
    "- if i provide two list you know how to make dict\n",
    "\n",
    "- if i provide dict , you know how to genertae list\n",
    "\n",
    "- create an empty string/list/dictionary\n",
    "\n",
    "- counter\n",
    "\n",
    "- summ \n",
    "\n",
    "- function\n",
    "\n",
    "- pop/popitem/del\n",
    "\n",
    "- copy/clear"
   ]
  },
  {
   "cell_type": "markdown",
   "id": "d2fdb2fe",
   "metadata": {},
   "source": [
    "$fromkeys$-$get$"
   ]
  },
  {
   "cell_type": "code",
   "execution_count": 98,
   "id": "da97b10e",
   "metadata": {},
   "outputs": [
    {
     "data": {
      "text/plain": [
       "30"
      ]
     },
     "execution_count": 98,
     "metadata": {},
     "output_type": "execute_result"
    }
   ],
   "source": [
    "d1 = {'a':20,'b':30,'c':40,'d':500}\n",
    "\n",
    "d1['b']"
   ]
  },
  {
   "cell_type": "code",
   "execution_count": 99,
   "id": "9c8c703e",
   "metadata": {},
   "outputs": [
    {
     "data": {
      "text/plain": [
       "30"
      ]
     },
     "execution_count": 99,
     "metadata": {},
     "output_type": "execute_result"
    }
   ],
   "source": [
    "d1.get('b')"
   ]
  },
  {
   "cell_type": "code",
   "execution_count": 100,
   "id": "1e78e733",
   "metadata": {},
   "outputs": [],
   "source": [
    "d1.get('z')"
   ]
  },
  {
   "cell_type": "code",
   "execution_count": 101,
   "id": "ddd631ef",
   "metadata": {},
   "outputs": [
    {
     "ename": "KeyError",
     "evalue": "'z'",
     "output_type": "error",
     "traceback": [
      "\u001b[1;31m---------------------------------------------------------------------------\u001b[0m",
      "\u001b[1;31mKeyError\u001b[0m                                  Traceback (most recent call last)",
      "Cell \u001b[1;32mIn[101], line 1\u001b[0m\n\u001b[1;32m----> 1\u001b[0m d1[\u001b[38;5;124m'\u001b[39m\u001b[38;5;124mz\u001b[39m\u001b[38;5;124m'\u001b[39m]\n",
      "\u001b[1;31mKeyError\u001b[0m: 'z'"
     ]
    }
   ],
   "source": [
    "d1['z']"
   ]
  },
  {
   "cell_type": "markdown",
   "id": "7ef7e6dc",
   "metadata": {},
   "source": [
    "- how many ways we can do\n",
    "\n",
    "- what output it is returning\n",
    "\n",
    "- what is the difference\n",
    "\n",
    "- we can access the values by providing key as index and key in get method\n",
    "\n",
    "- but if the key is not present in dictionary , key as index will give key error\n",
    "\n",
    "- get method will not retutrn anything and no error"
   ]
  },
  {
   "cell_type": "raw",
   "id": "f89e3d66",
   "metadata": {},
   "source": [
    "# it creates a new dictionary\n",
    "\n",
    "# create a new dictionary from the given sequence of elements\n",
    "\n",
    "# create new dictionary with irerable key"
   ]
  },
  {
   "cell_type": "code",
   "execution_count": 102,
   "id": "30b419ba",
   "metadata": {},
   "outputs": [
    {
     "data": {
      "text/plain": [
       "{'R': 25, 'a': 25, 'h': 25, 'e': 25, 'm': 25}"
      ]
     },
     "execution_count": 102,
     "metadata": {},
     "output_type": "execute_result"
    }
   ],
   "source": [
    "d2={}.fromkeys('Raheem',25)\n",
    "d2"
   ]
  },
  {
   "cell_type": "code",
   "execution_count": 103,
   "id": "e3ce13a6",
   "metadata": {},
   "outputs": [
    {
     "data": {
      "text/plain": [
       "{'a': 20, 'b': 30, 'c': 40, 'd': 500}"
      ]
     },
     "execution_count": 103,
     "metadata": {},
     "output_type": "execute_result"
    }
   ],
   "source": [
    "d1"
   ]
  },
  {
   "cell_type": "code",
   "execution_count": 104,
   "id": "30475e3f",
   "metadata": {},
   "outputs": [],
   "source": [
    "name='sourav'\n",
    "new=name.capitalize()"
   ]
  },
  {
   "cell_type": "code",
   "execution_count": 105,
   "id": "ee8f9674",
   "metadata": {},
   "outputs": [
    {
     "data": {
      "text/plain": [
       "('sourav', 'Sourav')"
      ]
     },
     "execution_count": 105,
     "metadata": {},
     "output_type": "execute_result"
    }
   ],
   "source": [
    "name,new"
   ]
  },
  {
   "cell_type": "code",
   "execution_count": 106,
   "id": "3903f1c1",
   "metadata": {},
   "outputs": [
    {
     "data": {
      "text/plain": [
       "{1: 'odd', 3: 'odd', 5: 'odd'}"
      ]
     },
     "execution_count": 106,
     "metadata": {},
     "output_type": "execute_result"
    }
   ],
   "source": [
    "d3={}.fromkeys([1,3,5],'odd')\n",
    "d3"
   ]
  },
  {
   "cell_type": "code",
   "execution_count": 107,
   "id": "db605aaf",
   "metadata": {},
   "outputs": [
    {
     "name": "stdout",
     "output_type": "stream",
     "text": [
      "1\n",
      "3\n",
      "5\n"
     ]
    }
   ],
   "source": [
    "for i in [1,3,5]:\n",
    "    print(i)"
   ]
  },
  {
   "cell_type": "markdown",
   "id": "3b11f28a",
   "metadata": {},
   "source": [
    "$set$ $as$ $default$"
   ]
  },
  {
   "cell_type": "raw",
   "id": "93d5fce4",
   "metadata": {},
   "source": [
    "returns value of the key \n",
    "if key is not present returns default"
   ]
  },
  {
   "cell_type": "code",
   "execution_count": 109,
   "id": "168035c0",
   "metadata": {},
   "outputs": [
    {
     "data": {
      "text/plain": [
       "{'nareshit': ['DS', 'MLops', 'DE'], 'city': None}"
      ]
     },
     "execution_count": 109,
     "metadata": {},
     "output_type": "execute_result"
    }
   ],
   "source": [
    "d1={}\n",
    "d1.setdefault('nareshit','Ds')\n",
    "d1.setdefault('city')\n",
    "d1.setdefault('nareshit',['DS','MLops','DE'])\n",
    "d1['nareshit']=['DS','MLops','DE']\n",
    "d1.setdefault('city','hyd')\n",
    "d1"
   ]
  },
  {
   "cell_type": "code",
   "execution_count": 110,
   "id": "db644cb1",
   "metadata": {
    "scrolled": true
   },
   "outputs": [
    {
     "ename": "KeyError",
     "evalue": "'city'",
     "output_type": "error",
     "traceback": [
      "\u001b[1;31m---------------------------------------------------------------------------\u001b[0m",
      "\u001b[1;31mKeyError\u001b[0m                                  Traceback (most recent call last)",
      "Cell \u001b[1;32mIn[110], line 3\u001b[0m\n\u001b[0;32m      1\u001b[0m d2\u001b[38;5;241m=\u001b[39m{}\n\u001b[0;32m      2\u001b[0m d2[\u001b[38;5;124m'\u001b[39m\u001b[38;5;124mnareshit\u001b[39m\u001b[38;5;124m'\u001b[39m]\u001b[38;5;241m=\u001b[39m\u001b[38;5;124m'\u001b[39m\u001b[38;5;124mDS\u001b[39m\u001b[38;5;124m'\u001b[39m\n\u001b[1;32m----> 3\u001b[0m d2[\u001b[38;5;124m'\u001b[39m\u001b[38;5;124mcity\u001b[39m\u001b[38;5;124m'\u001b[39m]\n",
      "\u001b[1;31mKeyError\u001b[0m: 'city'"
     ]
    }
   ],
   "source": [
    "d2={}\n",
    "d2['nareshit']='DS'\n",
    "d2['city']       # "
   ]
  },
  {
   "cell_type": "markdown",
   "id": "af7d06ac",
   "metadata": {},
   "source": [
    "$update$"
   ]
  },
  {
   "cell_type": "raw",
   "id": "c9e54dd8",
   "metadata": {},
   "source": [
    "# it inserts the particular items to the dictionary"
   ]
  },
  {
   "cell_type": "code",
   "execution_count": 111,
   "id": "dda66c09",
   "metadata": {},
   "outputs": [
    {
     "name": "stdout",
     "output_type": "stream",
     "text": [
      "{'a': 1, 'b': 7, 'c': 5, 'd': 9}\n"
     ]
    },
    {
     "data": {
      "text/plain": [
       "{'a': 1, 'b': 7, 'c': 5, 'd': 9}"
      ]
     },
     "execution_count": 111,
     "metadata": {},
     "output_type": "execute_result"
    }
   ],
   "source": [
    "d1 = {'a': 1, 'b': 4, 'c': 5}\n",
    "d2 = {'b': 7, 'd': 9}\n",
    "d1.update(d2)\n",
    "print(d1)\n",
    "\n",
    "{'a': 1, 'b': 7, 'c': 5, 'd': 9}"
   ]
  },
  {
   "cell_type": "code",
   "execution_count": 112,
   "id": "17deab5c",
   "metadata": {},
   "outputs": [
    {
     "name": "stdout",
     "output_type": "stream",
     "text": [
      "{'b': 4, 'd': 9, 'a': 1, 'c': 5}\n"
     ]
    }
   ],
   "source": [
    "d1 = {'a': 1, 'b': 4, 'c': 5}\n",
    "d2 = {'b': 7, 'd': 9}\n",
    "d2.update(d1)\n",
    "print(d2) # b:4   d:9  a:1  c:5"
   ]
  },
  {
   "cell_type": "code",
   "execution_count": 113,
   "id": "e6d1c2b1",
   "metadata": {},
   "outputs": [
    {
     "data": {
      "text/plain": [
       "[1, 4, 5, 4, 9]"
      ]
     },
     "execution_count": 113,
     "metadata": {},
     "output_type": "execute_result"
    }
   ],
   "source": [
    "l1=[1,4,5]\n",
    "l2=[4,9]\n",
    "l1.extend(l2)\n",
    "l1"
   ]
  },
  {
   "cell_type": "markdown",
   "id": "8ca2312f",
   "metadata": {},
   "source": [
    "Update method will update a dictionary with elements from another dictionary.  \n",
    "It modifies the dictionary. \n",
    "\n"
   ]
  },
  {
   "cell_type": "code",
   "execution_count": 114,
   "id": "ef376ea3",
   "metadata": {},
   "outputs": [
    {
     "data": {
      "text/plain": [
       "{1: 2, 2: 3}"
      ]
     },
     "execution_count": 114,
     "metadata": {},
     "output_type": "execute_result"
    }
   ],
   "source": [
    "t1=[(1,2),(2,3)]  #dict/iterable\n",
    "d1={}\n",
    "d1.update(t1)\n",
    "d1"
   ]
  },
  {
   "cell_type": "raw",
   "id": "7930b872",
   "metadata": {},
   "source": [
    "- strings\n",
    "\n",
    "- list\n",
    "\n",
    "- dictionary\n",
    "\n",
    "if else\n",
    "\n",
    "for  \n",
    "\n",
    "print\n",
    "\n",
    "append  = []"
   ]
  },
  {
   "cell_type": "raw",
   "id": "46e033c6",
   "metadata": {},
   "source": [
    "- tuple \n",
    "\n",
    "write an article on tupe"
   ]
  },
  {
   "cell_type": "raw",
   "id": "17a3ae2d",
   "metadata": {},
   "source": [
    "- how to read\n",
    "\n",
    "- type/max/min/len/sum\n",
    "\n",
    "- index /mutable\n",
    "\n",
    "- in /for \n",
    "\n",
    "- slice\n",
    "\n",
    "- methods"
   ]
  },
  {
   "cell_type": "code",
   "execution_count": null,
   "id": "c7df69f5",
   "metadata": {},
   "outputs": [],
   "source": []
  },
  {
   "cell_type": "code",
   "execution_count": null,
   "id": "6b8637a2",
   "metadata": {},
   "outputs": [],
   "source": []
  },
  {
   "cell_type": "code",
   "execution_count": null,
   "id": "a5525de2",
   "metadata": {},
   "outputs": [],
   "source": []
  },
  {
   "cell_type": "code",
   "execution_count": null,
   "id": "fa5ace98",
   "metadata": {},
   "outputs": [],
   "source": []
  },
  {
   "cell_type": "code",
   "execution_count": null,
   "id": "ffa0bf2c",
   "metadata": {},
   "outputs": [],
   "source": []
  }
 ],
 "metadata": {
  "kernelspec": {
   "display_name": "Python 3 (ipykernel)",
   "language": "python",
   "name": "python3"
  },
  "language_info": {
   "codemirror_mode": {
    "name": "ipython",
    "version": 3
   },
   "file_extension": ".py",
   "mimetype": "text/x-python",
   "name": "python",
   "nbconvert_exporter": "python",
   "pygments_lexer": "ipython3",
   "version": "3.11.5"
  }
 },
 "nbformat": 4,
 "nbformat_minor": 5
}
