{
 "cells": [
  {
   "cell_type": "markdown",
   "id": "7eee2215",
   "metadata": {},
   "source": [
    "# STRING"
   ]
  },
  {
   "cell_type": "markdown",
   "id": "a88a2e6d",
   "metadata": {},
   "source": [
    "Strings in python are written by either single quotation marks, or double quotation marks.\n",
    "\n",
    "'hello' is the same as \"hello\".\n",
    "\n",
    "You can display a string literal with the print() function:\n",
    "\n",
    "Example\n",
    "\n",
    "print(\"Hello\")      op-'Hello'\n",
    "\n",
    "print('Hello')      op-'Hello'"
   ]
  },
  {
   "cell_type": "code",
   "execution_count": 1,
   "id": "8ad0d8d5",
   "metadata": {},
   "outputs": [
    {
     "data": {
      "text/plain": [
       "'Hello'"
      ]
     },
     "execution_count": 1,
     "metadata": {},
     "output_type": "execute_result"
    }
   ],
   "source": [
    "'Hello'"
   ]
  },
  {
   "cell_type": "code",
   "execution_count": 2,
   "id": "cccdc789",
   "metadata": {},
   "outputs": [
    {
     "data": {
      "text/plain": [
       "'Hello'"
      ]
     },
     "execution_count": 2,
     "metadata": {},
     "output_type": "execute_result"
    }
   ],
   "source": [
    "\"Hello\""
   ]
  },
  {
   "cell_type": "code",
   "execution_count": 3,
   "id": "d47edf69",
   "metadata": {},
   "outputs": [
    {
     "name": "stdout",
     "output_type": "stream",
     "text": [
      "hello\n"
     ]
    }
   ],
   "source": [
    "print('hello')"
   ]
  },
  {
   "cell_type": "code",
   "execution_count": 4,
   "id": "638fefe4",
   "metadata": {
    "scrolled": true
   },
   "outputs": [
    {
     "name": "stdout",
     "output_type": "stream",
     "text": [
      "hello python\n"
     ]
    }
   ],
   "source": [
    "print(\"hello python\")"
   ]
  },
  {
   "cell_type": "markdown",
   "id": "c596b32f",
   "metadata": {},
   "source": [
    "## Assign String to a Variable\n",
    "\n",
    "Assigning a string to a variable is done with the variable name followed by an equal sign and the string:\n",
    "    \n",
    "Example\n",
    "\n",
    "a=\"Hello\"\n",
    "\n",
    "print(a)"
   ]
  },
  {
   "cell_type": "code",
   "execution_count": 5,
   "id": "c6e16aca",
   "metadata": {},
   "outputs": [
    {
     "name": "stdout",
     "output_type": "stream",
     "text": [
      "Hello\n"
     ]
    }
   ],
   "source": [
    "a = \"Hello\"\n",
    "print(a)"
   ]
  },
  {
   "cell_type": "markdown",
   "id": "f7eae00d",
   "metadata": {},
   "source": [
    "Suppose there is a string, if you want to highlight some letters or words you also use quotation mark inside the string. \n",
    "\n",
    "NOTE:\n",
    "    If string in single quotation mark there is no single quotation mark use to highlight the strings and viceversa.\n"
   ]
  },
  {
   "cell_type": "code",
   "execution_count": 6,
   "id": "b95e7529",
   "metadata": {},
   "outputs": [
    {
     "data": {
      "text/plain": [
       "'python \"hello\"'"
      ]
     },
     "execution_count": 6,
     "metadata": {},
     "output_type": "execute_result"
    }
   ],
   "source": [
    "str1='python \"hello\"'\n",
    "str1"
   ]
  },
  {
   "cell_type": "code",
   "execution_count": 7,
   "id": "79d6fb51",
   "metadata": {},
   "outputs": [
    {
     "data": {
      "text/plain": [
       "'python \"hello\"'"
      ]
     },
     "execution_count": 7,
     "metadata": {},
     "output_type": "execute_result"
    }
   ],
   "source": [
    "str2='python \"hello\"'\n",
    "str2"
   ]
  },
  {
   "cell_type": "code",
   "execution_count": null,
   "id": "da41de04",
   "metadata": {},
   "outputs": [],
   "source": []
  },
  {
   "cell_type": "markdown",
   "id": "3ed651b9",
   "metadata": {},
   "source": [
    "# Multiline Strings    or  Doc strings\n",
    "\n",
    "You can assign a multiline string to a variable by using three quotes.\n",
    "\n",
    "Note: in the result, the line breaks are inserted at the same position as in the code.\n",
    "\n",
    "Example:\n",
    "\n",
    "\"\"\"\n",
    "\n",
    "    i am \n",
    "    \n",
    "        creating \n",
    "    \n",
    "    a hello function\n",
    "    \n",
    "                    \"\"\"\n",
    "                    \n",
    "- Doc string is used to say some information about your python code."
   ]
  },
  {
   "cell_type": "code",
   "execution_count": 10,
   "id": "e8e8b86f",
   "metadata": {},
   "outputs": [
    {
     "data": {
      "text/plain": [
       "'\\n    i am \\n        creating \\n    a hello function\\n                    '"
      ]
     },
     "execution_count": 10,
     "metadata": {},
     "output_type": "execute_result"
    }
   ],
   "source": [
    "\"\"\"\n",
    "    i am \n",
    "        creating \n",
    "    a hello function\n",
    "                    \"\"\""
   ]
  },
  {
   "cell_type": "code",
   "execution_count": null,
   "id": "10604808",
   "metadata": {},
   "outputs": [],
   "source": []
  },
  {
   "cell_type": "code",
   "execution_count": 12,
   "id": "2cf33210",
   "metadata": {},
   "outputs": [
    {
     "name": "stdout",
     "output_type": "stream",
     "text": [
      "good moring\n"
     ]
    }
   ],
   "source": [
    "\"\"\"\n",
    "    im creating a hello function\n",
    "    arguments: None\n",
    "    return:   None\n",
    "                    \"\"\"\n",
    "def hello():\n",
    "    print(\"good moring\")\n",
    "hello()\n"
   ]
  },
  {
   "cell_type": "markdown",
   "id": "e06e3ab3",
   "metadata": {},
   "source": [
    "## Type"
   ]
  },
  {
   "cell_type": "markdown",
   "id": "2de1ae34",
   "metadata": {},
   "source": [
    "To get the type of a string, use the type() function.\n",
    "\n",
    "Example:\n",
    "    \n",
    "str3=\"Hello, python\"\n",
    "\n",
    "print(type(str3))"
   ]
  },
  {
   "cell_type": "code",
   "execution_count": 14,
   "id": "1c99d120",
   "metadata": {
    "scrolled": true
   },
   "outputs": [
    {
     "data": {
      "text/plain": [
       "str"
      ]
     },
     "execution_count": 14,
     "metadata": {},
     "output_type": "execute_result"
    }
   ],
   "source": [
    "str3=\"Hello, python\"\n",
    "type(str3)"
   ]
  },
  {
   "cell_type": "code",
   "execution_count": 18,
   "id": "a5aa4256",
   "metadata": {},
   "outputs": [
    {
     "data": {
      "text/plain": [
       "str"
      ]
     },
     "execution_count": 18,
     "metadata": {},
     "output_type": "execute_result"
    }
   ],
   "source": [
    "str4='1,2,3,4,5'\n",
    "type(str4)"
   ]
  },
  {
   "cell_type": "markdown",
   "id": "c9205983",
   "metadata": {},
   "source": [
    "## String Length"
   ]
  },
  {
   "cell_type": "markdown",
   "id": "fa395190",
   "metadata": {},
   "source": [
    "To get the length of a string, use the len() function.\n",
    "    \n",
    "The len() function returns the length of a string.\n",
    "\n",
    "Example:\n",
    "\n",
    "str3=\"Hello, python\"\n",
    "\n",
    "print(len(str3))"
   ]
  },
  {
   "cell_type": "code",
   "execution_count": 15,
   "id": "5a198e3e",
   "metadata": {},
   "outputs": [
    {
     "data": {
      "text/plain": [
       "13"
      ]
     },
     "execution_count": 15,
     "metadata": {},
     "output_type": "execute_result"
    }
   ],
   "source": [
    "str3=\"Hello, python\"\n",
    "len(str3)"
   ]
  },
  {
   "cell_type": "code",
   "execution_count": 16,
   "id": "168b4626",
   "metadata": {},
   "outputs": [
    {
     "name": "stdout",
     "output_type": "stream",
     "text": [
      "13\n"
     ]
    }
   ],
   "source": [
    "str3=\"Hello, python\"\n",
    "print(len(str3))"
   ]
  },
  {
   "cell_type": "code",
   "execution_count": 19,
   "id": "2c262ca8",
   "metadata": {},
   "outputs": [
    {
     "data": {
      "text/plain": [
       "16"
      ]
     },
     "execution_count": 19,
     "metadata": {},
     "output_type": "execute_result"
    }
   ],
   "source": [
    "str4='1,2,3,4,5,15,a,b'\n",
    "len(str4)"
   ]
  },
  {
   "cell_type": "code",
   "execution_count": 20,
   "id": "da8bbbf0",
   "metadata": {},
   "outputs": [
    {
     "data": {
      "text/plain": [
       "11"
      ]
     },
     "execution_count": 20,
     "metadata": {},
     "output_type": "execute_result"
    }
   ],
   "source": [
    "str5='123bg4515AF'\n",
    "len(str5)"
   ]
  },
  {
   "cell_type": "markdown",
   "id": "b89bdb6f",
   "metadata": {},
   "source": [
    "Example:\n",
    "    \n",
    "Get the character at position 1 (remember that the first character has the position 0):\n",
    "\n",
    "string=\"Hello, python\"\n",
    "\n",
    "string[1]\n"
   ]
  },
  {
   "cell_type": "code",
   "execution_count": 21,
   "id": "edd0bf04",
   "metadata": {},
   "outputs": [
    {
     "data": {
      "text/plain": [
       "'e'"
      ]
     },
     "execution_count": 21,
     "metadata": {},
     "output_type": "execute_result"
    }
   ],
   "source": [
    "string=\"Hello, python\"\n",
    "string[1]"
   ]
  },
  {
   "cell_type": "code",
   "execution_count": 22,
   "id": "ff70db08",
   "metadata": {},
   "outputs": [
    {
     "data": {
      "text/plain": [
       "' '"
      ]
     },
     "execution_count": 22,
     "metadata": {},
     "output_type": "execute_result"
    }
   ],
   "source": [
    "string[6]"
   ]
  },
  {
   "cell_type": "code",
   "execution_count": 23,
   "id": "797c87e3",
   "metadata": {},
   "outputs": [
    {
     "data": {
      "text/plain": [
       "'h'"
      ]
     },
     "execution_count": 23,
     "metadata": {},
     "output_type": "execute_result"
    }
   ],
   "source": [
    "string[10]"
   ]
  },
  {
   "cell_type": "code",
   "execution_count": 24,
   "id": "62610543",
   "metadata": {},
   "outputs": [
    {
     "data": {
      "text/plain": [
       "'H'"
      ]
     },
     "execution_count": 24,
     "metadata": {},
     "output_type": "execute_result"
    }
   ],
   "source": [
    "string[0]"
   ]
  },
  {
   "cell_type": "markdown",
   "id": "36937e33",
   "metadata": {},
   "source": [
    "## Looping through a String"
   ]
  },
  {
   "cell_type": "markdown",
   "id": "56c283eb",
   "metadata": {},
   "source": [
    "Since strings are arrays, we can loop through the characters in a string, with a for loop.\n",
    "\n",
    "Example:\n",
    "    \n",
    "str1=\"banana\"\n",
    "\n",
    "for i in str1:\n",
    "    \n",
    "    print(i)\n"
   ]
  },
  {
   "cell_type": "code",
   "execution_count": 25,
   "id": "3be7648c",
   "metadata": {
    "scrolled": true
   },
   "outputs": [
    {
     "name": "stdout",
     "output_type": "stream",
     "text": [
      "b\n",
      "a\n",
      "n\n",
      "a\n",
      "n\n",
      "a\n"
     ]
    }
   ],
   "source": [
    "str1=\"banana\"\n",
    "for i in str1:\n",
    "    print(i)"
   ]
  },
  {
   "cell_type": "markdown",
   "id": "d6b50788",
   "metadata": {},
   "source": [
    "#### index()\n",
    "\n",
    "Searches the string for a specified value and returns the position of where it was found."
   ]
  },
  {
   "cell_type": "code",
   "execution_count": 33,
   "id": "097ca6a9",
   "metadata": {},
   "outputs": [
    {
     "data": {
      "text/plain": [
       "3"
      ]
     },
     "execution_count": 33,
     "metadata": {},
     "output_type": "execute_result"
    }
   ],
   "source": [
    "string1='welcome python'\n",
    "string1.index('c')"
   ]
  },
  {
   "cell_type": "code",
   "execution_count": 34,
   "id": "0ba1e453",
   "metadata": {},
   "outputs": [
    {
     "name": "stdout",
     "output_type": "stream",
     "text": [
      "0\n",
      "1\n",
      "2\n",
      "3\n",
      "4\n",
      "5\n",
      "6\n",
      "7\n",
      "8\n",
      "9\n",
      "10\n",
      "11\n",
      "12\n"
     ]
    }
   ],
   "source": [
    "# index value\n",
    "string=\"Hello, python\"\n",
    "for i in range(len(string)):\n",
    "    print(i)"
   ]
  },
  {
   "cell_type": "code",
   "execution_count": 66,
   "id": "195549b2",
   "metadata": {},
   "outputs": [
    {
     "data": {
      "text/plain": [
       "0"
      ]
     },
     "execution_count": 66,
     "metadata": {},
     "output_type": "execute_result"
    }
   ],
   "source": [
    "string1='hai how are you'\n",
    "string1.index('h')"
   ]
  },
  {
   "cell_type": "code",
   "execution_count": 67,
   "id": "f7c8270d",
   "metadata": {},
   "outputs": [
    {
     "data": {
      "text/plain": [
       "6"
      ]
     },
     "execution_count": 67,
     "metadata": {},
     "output_type": "execute_result"
    }
   ],
   "source": [
    "string1='hai how are you'\n",
    "string1.index('w')"
   ]
  },
  {
   "cell_type": "code",
   "execution_count": 35,
   "id": "d504ff8d",
   "metadata": {},
   "outputs": [
    {
     "name": "stdout",
     "output_type": "stream",
     "text": [
      "0 H\n",
      "1 e\n",
      "2 l\n",
      "3 l\n",
      "4 o\n",
      "5 ,\n",
      "6  \n",
      "7 p\n",
      "8 y\n",
      "9 t\n",
      "10 h\n",
      "11 o\n",
      "12 n\n"
     ]
    }
   ],
   "source": [
    "string=\"Hello, python\"\n",
    "for i in range(len(string)):\n",
    "    print(i,string[i])"
   ]
  },
  {
   "cell_type": "markdown",
   "id": "3b2626bb",
   "metadata": {},
   "source": [
    "## IN"
   ]
  },
  {
   "cell_type": "markdown",
   "id": "ae61f3d8",
   "metadata": {},
   "source": [
    "To check if a certain phrase or character is present in a string, we can use the keyword in.\n",
    "\n",
    "Example\n",
    "\n",
    "Check if \"life\" is present in the following string\n",
    "\n",
    "string1=\"The best things in life is enjoy every moment\"\n",
    "\n",
    "if \"free\" in string1:\n",
    "    \n",
    "    print(\"life is present in the string1.\")"
   ]
  },
  {
   "cell_type": "markdown",
   "id": "04d870f7",
   "metadata": {},
   "source": [
    "range() : you need to provide number inside the range\n",
    "\n",
    "in : is used only for strings\n",
    "\n",
    "if you want print the letters using for loop go for in operator"
   ]
  },
  {
   "cell_type": "code",
   "execution_count": 29,
   "id": "efe5603f",
   "metadata": {},
   "outputs": [
    {
     "name": "stdout",
     "output_type": "stream",
     "text": [
      "'life' is present in the string1.\n"
     ]
    }
   ],
   "source": [
    "string1=\"The best things in life is enjoy every moment\"\n",
    "if \"life\" in string1:\n",
    "    print(\"'life' is present in the string1.\")"
   ]
  },
  {
   "cell_type": "markdown",
   "id": "263ef3e5",
   "metadata": {},
   "source": [
    "To check if a certain phrase or character is NOT present in a string, we can use the keyword not in.\n",
    "\n",
    "Example\n",
    "\n",
    "string2=\"The best things in life is enjoy every moment\"\n",
    "\n",
    "if \"tension\" not in string2:\n",
    "    \n",
    "    print(\"'tension' is not present in string2.\")"
   ]
  },
  {
   "cell_type": "code",
   "execution_count": 30,
   "id": "69705cc2",
   "metadata": {},
   "outputs": [
    {
     "name": "stdout",
     "output_type": "stream",
     "text": [
      "'tension' is not present in string2.\n"
     ]
    }
   ],
   "source": [
    "string2=\"The best things in life is enjoy every moment\"\n",
    "if \"tension\" not in string2:\n",
    "    print(\"'tension' is not present in string2.\")"
   ]
  },
  {
   "cell_type": "code",
   "execution_count": 34,
   "id": "512bd81c",
   "metadata": {},
   "outputs": [
    {
     "name": "stdout",
     "output_type": "stream",
     "text": [
      "1\n",
      "8\n",
      "16\n"
     ]
    }
   ],
   "source": [
    "string1='hai how are you and'\n",
    "for i in range(len(string1)):\n",
    "    if string1[i]=='a':\n",
    "        print(i)"
   ]
  },
  {
   "cell_type": "markdown",
   "id": "c3970ada",
   "metadata": {},
   "source": [
    "## Slicing"
   ]
  },
  {
   "cell_type": "markdown",
   "id": "17a0be78",
   "metadata": {},
   "source": [
    "You can return a range of characters by using the slice syntax.\n",
    "\n",
    "Specify the start index and the end index, separated by a colon, to return a part of the string.\n",
    "\n",
    "Note: The first character has index 0.\n",
    "    \n",
    "Example:\n",
    "    \n",
    "Get the characters from position 2 to position 5\n",
    "\n",
    "str11=\"Python is easy.\"\n",
    "\n",
    "str11[2:5]"
   ]
  },
  {
   "cell_type": "code",
   "execution_count": 31,
   "id": "3f5d3aed",
   "metadata": {},
   "outputs": [
    {
     "data": {
      "text/plain": [
       "'tho'"
      ]
     },
     "execution_count": 31,
     "metadata": {},
     "output_type": "execute_result"
    }
   ],
   "source": [
    "str11=\"Python is easy.\"\n",
    "str11[2:5]"
   ]
  },
  {
   "cell_type": "markdown",
   "id": "b6d785b0",
   "metadata": {},
   "source": [
    "#### Slice from the Start"
   ]
  },
  {
   "cell_type": "markdown",
   "id": "5bad6e2a",
   "metadata": {},
   "source": [
    "By leaving out the start index, the range will start at the first character.\n",
    "\n",
    "Example:\n",
    "    \n",
    "Get the characters from the start to position 5.\n",
    "\n",
    "str11=\"Python is easy.\"\n",
    "\n",
    "str11[:5]"
   ]
  },
  {
   "cell_type": "code",
   "execution_count": 32,
   "id": "3fc3134b",
   "metadata": {},
   "outputs": [
    {
     "data": {
      "text/plain": [
       "'Pytho'"
      ]
     },
     "execution_count": 32,
     "metadata": {},
     "output_type": "execute_result"
    }
   ],
   "source": [
    "str11=\"Python is easy.\"\n",
    "str11[:5]"
   ]
  },
  {
   "cell_type": "markdown",
   "id": "862bac88",
   "metadata": {},
   "source": [
    "#### Slice To the End"
   ]
  },
  {
   "cell_type": "markdown",
   "id": "df78a745",
   "metadata": {},
   "source": [
    "By leaving out the end index, the range will go to the end.\n",
    "\n",
    "Example:\n",
    "    \n",
    "Get the characters from position 2 to the end:\n",
    "\n",
    "str11=\"Python is easy.\"\n",
    "\n",
    "str11[2:]"
   ]
  },
  {
   "cell_type": "code",
   "execution_count": 33,
   "id": "016695f8",
   "metadata": {},
   "outputs": [
    {
     "data": {
      "text/plain": [
       "'thon is easy.'"
      ]
     },
     "execution_count": 33,
     "metadata": {},
     "output_type": "execute_result"
    }
   ],
   "source": [
    "str11=\"Python is easy.\"\n",
    "str11[2:]"
   ]
  },
  {
   "cell_type": "markdown",
   "id": "0e92a6ee",
   "metadata": {},
   "source": [
    "#### Negative Indexing"
   ]
  },
  {
   "cell_type": "markdown",
   "id": "4fac0d27",
   "metadata": {},
   "source": [
    "Use negative indexes to start the slice from the end of the string.\n",
    "\n",
    "Example:\n",
    "    \n",
    "str11=\"Python is easy.\"\n",
    "\n",
    "str11[-12:-1]\n",
    "\n",
    "    "
   ]
  },
  {
   "cell_type": "code",
   "execution_count": 5,
   "id": "15fa0872",
   "metadata": {},
   "outputs": [
    {
     "data": {
      "text/plain": [
       "'.ysae si nohtyP'"
      ]
     },
     "execution_count": 5,
     "metadata": {},
     "output_type": "execute_result"
    }
   ],
   "source": [
    "str11=\"Python is easy.\"\n",
    "str11[15::-1]"
   ]
  },
  {
   "cell_type": "code",
   "execution_count": 37,
   "id": "c708add4",
   "metadata": {},
   "outputs": [
    {
     "data": {
      "text/plain": [
       "'hon is easy'"
      ]
     },
     "execution_count": 37,
     "metadata": {},
     "output_type": "execute_result"
    }
   ],
   "source": [
    "str11=\"Python is easy.\"\n",
    "str11[-12:-1]"
   ]
  },
  {
   "cell_type": "code",
   "execution_count": 40,
   "id": "c2f290c8",
   "metadata": {},
   "outputs": [
    {
     "data": {
      "text/plain": [
       "'Python is easy'"
      ]
     },
     "execution_count": 40,
     "metadata": {},
     "output_type": "execute_result"
    }
   ],
   "source": [
    "str11=\"Python is easy.\"\n",
    "str11[-(len(str11)):-1]"
   ]
  },
  {
   "cell_type": "code",
   "execution_count": 3,
   "id": "26e58fa8",
   "metadata": {},
   "outputs": [
    {
     "data": {
      "text/plain": [
       "'.ysae si nohtyP'"
      ]
     },
     "execution_count": 3,
     "metadata": {},
     "output_type": "execute_result"
    }
   ],
   "source": [
    "str11=\"Python is easy.\"\n",
    "str11[-1:-16:-1]"
   ]
  },
  {
   "cell_type": "code",
   "execution_count": null,
   "id": "0136a13a",
   "metadata": {},
   "outputs": [],
   "source": []
  },
  {
   "cell_type": "markdown",
   "id": "a57e5407",
   "metadata": {},
   "source": [
    "## Modify Strings"
   ]
  },
  {
   "cell_type": "markdown",
   "id": "91993a92",
   "metadata": {},
   "source": [
    "#### Upper_Case\n",
    "\n",
    "The upper() method returns the string in upper case:\n",
    "\n",
    "Example:"
   ]
  },
  {
   "cell_type": "code",
   "execution_count": 44,
   "id": "c1d84a07",
   "metadata": {},
   "outputs": [
    {
     "data": {
      "text/plain": [
       "'PYTHON IS EASY'"
      ]
     },
     "execution_count": 44,
     "metadata": {},
     "output_type": "execute_result"
    }
   ],
   "source": [
    "str12=\"python is easy\"\n",
    "str12.upper()"
   ]
  },
  {
   "cell_type": "markdown",
   "id": "7c11ef0d",
   "metadata": {},
   "source": [
    "#### Lower_Case\n",
    "\n",
    "The lower() method returns the string in lower case.\n",
    "\n",
    "Example:"
   ]
  },
  {
   "cell_type": "code",
   "execution_count": 46,
   "id": "fdde3f19",
   "metadata": {},
   "outputs": [
    {
     "data": {
      "text/plain": [
       "'python is easy'"
      ]
     },
     "execution_count": 46,
     "metadata": {},
     "output_type": "execute_result"
    }
   ],
   "source": [
    "str13=\"pyTHOn is eAsY\"\n",
    "str13.lower()"
   ]
  },
  {
   "cell_type": "markdown",
   "id": "dbdd7297",
   "metadata": {},
   "source": [
    "#### strip method  (Remove Whitespace )\n",
    "\n",
    "Whitespace is the space before and/or after the actual text, and very often you want to remove this space.\n",
    "\n",
    "The strip() method removes any whitespace from the beginning or the end.\n",
    "\n",
    "Example:"
   ]
  },
  {
   "cell_type": "code",
   "execution_count": 47,
   "id": "16decb57",
   "metadata": {},
   "outputs": [
    {
     "data": {
      "text/plain": [
       "'pyTHOn is eAsY'"
      ]
     },
     "execution_count": 47,
     "metadata": {},
     "output_type": "execute_result"
    }
   ],
   "source": [
    "str14=\" pyTHOn is eAsY \"\n",
    "str14.strip()"
   ]
  },
  {
   "cell_type": "markdown",
   "id": "090e4387",
   "metadata": {},
   "source": [
    "#### lstrip()\n",
    "\n",
    "Returns a left trim version of the string."
   ]
  },
  {
   "cell_type": "code",
   "execution_count": 1,
   "id": "a5875926",
   "metadata": {},
   "outputs": [
    {
     "data": {
      "text/plain": [
       "'pyTHOn is eAsY '"
      ]
     },
     "execution_count": 1,
     "metadata": {},
     "output_type": "execute_result"
    }
   ],
   "source": [
    "str14=\" pyTHOn is eAsY \"\n",
    "str14.lstrip()"
   ]
  },
  {
   "cell_type": "markdown",
   "id": "ce273fe9",
   "metadata": {},
   "source": [
    "#### rstrip()\n",
    "\n",
    "Returns a right trim version of the string."
   ]
  },
  {
   "cell_type": "code",
   "execution_count": 2,
   "id": "94eede43",
   "metadata": {},
   "outputs": [
    {
     "data": {
      "text/plain": [
       "' pyTHOn is eAsY'"
      ]
     },
     "execution_count": 2,
     "metadata": {},
     "output_type": "execute_result"
    }
   ],
   "source": [
    "str14=\" pyTHOn is eAsY \"\n",
    "str14.rstrip()"
   ]
  },
  {
   "cell_type": "markdown",
   "id": "d4c99801",
   "metadata": {},
   "source": [
    "#### Replace_String\n",
    "\n",
    "The replace() method replaces a string with another string.\n",
    "\n",
    "Example:"
   ]
  },
  {
   "cell_type": "code",
   "execution_count": 48,
   "id": "a9bb1e44",
   "metadata": {},
   "outputs": [
    {
     "data": {
      "text/plain": [
       "' pyTHOn is eMsY '"
      ]
     },
     "execution_count": 48,
     "metadata": {},
     "output_type": "execute_result"
    }
   ],
   "source": [
    "str14=\" pyTHOn is eAsY \"\n",
    "str14.replace(\"A\",\"M\")"
   ]
  },
  {
   "cell_type": "code",
   "execution_count": 49,
   "id": "b0af08b4",
   "metadata": {},
   "outputs": [
    {
     "data": {
      "text/plain": [
       "' pyTHOn is eAsY '"
      ]
     },
     "execution_count": 49,
     "metadata": {},
     "output_type": "execute_result"
    }
   ],
   "source": [
    "str14"
   ]
  },
  {
   "cell_type": "code",
   "execution_count": 50,
   "id": "53e71e81",
   "metadata": {},
   "outputs": [
    {
     "data": {
      "text/plain": [
       "' pyTHOn is easy '"
      ]
     },
     "execution_count": 50,
     "metadata": {},
     "output_type": "execute_result"
    }
   ],
   "source": [
    "str14.replace(\"eAsY\",\"easy\")"
   ]
  },
  {
   "cell_type": "markdown",
   "id": "f36d9845",
   "metadata": {},
   "source": [
    "#### Split_String\n",
    "\n",
    "The split() method returns a list where the text between the specified separator becomes the list items.\n",
    "\n",
    "The split() method splits the string into substrings if it finds instances of the separator.\n",
    "\n",
    "Example"
   ]
  },
  {
   "cell_type": "code",
   "execution_count": 51,
   "id": "8c94b5bc",
   "metadata": {},
   "outputs": [
    {
     "data": {
      "text/plain": [
       "['hai', ' how are you?']"
      ]
     },
     "execution_count": 51,
     "metadata": {},
     "output_type": "execute_result"
    }
   ],
   "source": [
    "str15=\"hai, how are you?\"\n",
    "str15.split(\",\")"
   ]
  },
  {
   "cell_type": "markdown",
   "id": "051074f8",
   "metadata": {},
   "source": [
    "## Concatenation\n",
    "\n",
    "To concatenate or combine two strings you can use the + operator."
   ]
  },
  {
   "cell_type": "code",
   "execution_count": 52,
   "id": "71084c8a",
   "metadata": {},
   "outputs": [
    {
     "data": {
      "text/plain": [
       "'haihow'"
      ]
     },
     "execution_count": 52,
     "metadata": {},
     "output_type": "execute_result"
    }
   ],
   "source": [
    "str1='hai'\n",
    "str2='how'\n",
    "str1+str2"
   ]
  },
  {
   "cell_type": "code",
   "execution_count": 53,
   "id": "044c3863",
   "metadata": {},
   "outputs": [],
   "source": [
    "str1='hai'\n",
    "str2='how'"
   ]
  },
  {
   "cell_type": "code",
   "execution_count": 54,
   "id": "50b8f22f",
   "metadata": {},
   "outputs": [
    {
     "ename": "TypeError",
     "evalue": "unsupported operand type(s) for -: 'str' and 'str'",
     "output_type": "error",
     "traceback": [
      "\u001b[1;31m---------------------------------------------------------------------------\u001b[0m",
      "\u001b[1;31mTypeError\u001b[0m                                 Traceback (most recent call last)",
      "Cell \u001b[1;32mIn[54], line 1\u001b[0m\n\u001b[1;32m----> 1\u001b[0m str1\u001b[38;5;241m-\u001b[39mstr2\n",
      "\u001b[1;31mTypeError\u001b[0m: unsupported operand type(s) for -: 'str' and 'str'"
     ]
    }
   ],
   "source": [
    "str1-str2"
   ]
  },
  {
   "cell_type": "code",
   "execution_count": 55,
   "id": "3c3dac75",
   "metadata": {},
   "outputs": [
    {
     "ename": "TypeError",
     "evalue": "unsupported operand type(s) for /: 'str' and 'str'",
     "output_type": "error",
     "traceback": [
      "\u001b[1;31m---------------------------------------------------------------------------\u001b[0m",
      "\u001b[1;31mTypeError\u001b[0m                                 Traceback (most recent call last)",
      "Cell \u001b[1;32mIn[55], line 1\u001b[0m\n\u001b[1;32m----> 1\u001b[0m str1\u001b[38;5;241m/\u001b[39mstr2\n",
      "\u001b[1;31mTypeError\u001b[0m: unsupported operand type(s) for /: 'str' and 'str'"
     ]
    }
   ],
   "source": [
    "str1/str2"
   ]
  },
  {
   "cell_type": "code",
   "execution_count": 56,
   "id": "1882bb01",
   "metadata": {},
   "outputs": [
    {
     "ename": "TypeError",
     "evalue": "can't multiply sequence by non-int of type 'str'",
     "output_type": "error",
     "traceback": [
      "\u001b[1;31m---------------------------------------------------------------------------\u001b[0m",
      "\u001b[1;31mTypeError\u001b[0m                                 Traceback (most recent call last)",
      "Cell \u001b[1;32mIn[56], line 1\u001b[0m\n\u001b[1;32m----> 1\u001b[0m str1\u001b[38;5;241m*\u001b[39mstr2\n",
      "\u001b[1;31mTypeError\u001b[0m: can't multiply sequence by non-int of type 'str'"
     ]
    }
   ],
   "source": [
    "str1*str2"
   ]
  },
  {
   "cell_type": "code",
   "execution_count": 57,
   "id": "c6369f90",
   "metadata": {},
   "outputs": [
    {
     "data": {
      "text/plain": [
       "'haihaihaihaihai'"
      ]
     },
     "execution_count": 57,
     "metadata": {},
     "output_type": "execute_result"
    }
   ],
   "source": [
    "str1*5"
   ]
  },
  {
   "cell_type": "markdown",
   "id": "2aecf56d",
   "metadata": {},
   "source": [
    "#### capitalize()\n",
    "\n",
    "Converts the first character to upper case."
   ]
  },
  {
   "cell_type": "code",
   "execution_count": 59,
   "id": "9655b64e",
   "metadata": {},
   "outputs": [
    {
     "data": {
      "text/plain": [
       "'Python is easy'"
      ]
     },
     "execution_count": 59,
     "metadata": {},
     "output_type": "execute_result"
    }
   ],
   "source": [
    "strg1=\"pyTHOn is eAsY\"\n",
    "strg1.capitalize()"
   ]
  },
  {
   "cell_type": "markdown",
   "id": "c57800cb",
   "metadata": {},
   "source": [
    "#### casefold()\n",
    "\n",
    "Converts string into lower case."
   ]
  },
  {
   "cell_type": "code",
   "execution_count": 60,
   "id": "7c9976eb",
   "metadata": {},
   "outputs": [
    {
     "data": {
      "text/plain": [
       "'python is easy'"
      ]
     },
     "execution_count": 60,
     "metadata": {},
     "output_type": "execute_result"
    }
   ],
   "source": [
    "strg1=\"pyTHOn is eAsY\"\n",
    "strg1.casefold()"
   ]
  },
  {
   "cell_type": "markdown",
   "id": "326fcf12",
   "metadata": {},
   "source": [
    "#### count()\n",
    "\n",
    "Returns the number of times a specified value occurs in a string."
   ]
  },
  {
   "cell_type": "code",
   "execution_count": 62,
   "id": "6b3bd1c2",
   "metadata": {},
   "outputs": [
    {
     "name": "stdout",
     "output_type": "stream",
     "text": [
      "2\n"
     ]
    }
   ],
   "source": [
    "string1='hai how are you'\n",
    "count=0\n",
    "for i in range(len(string1)):\n",
    "    if string1[i]=='a':\n",
    "        count+=1\n",
    "print(count)"
   ]
  },
  {
   "cell_type": "code",
   "execution_count": 11,
   "id": "5f7e6e95",
   "metadata": {},
   "outputs": [
    {
     "name": "stdout",
     "output_type": "stream",
     "text": [
      "7\n"
     ]
    }
   ],
   "source": [
    "string='hai how are you'\n",
    "str1=''\n",
    "count=0\n",
    "for i in string:\n",
    "    if i in 'aeiou':\n",
    "        count=count+1\n",
    "        \n",
    "print(count)"
   ]
  },
  {
   "cell_type": "code",
   "execution_count": null,
   "id": "75c4457e",
   "metadata": {},
   "outputs": [],
   "source": []
  },
  {
   "cell_type": "code",
   "execution_count": null,
   "id": "763d1f29",
   "metadata": {},
   "outputs": [],
   "source": []
  },
  {
   "cell_type": "markdown",
   "id": "7efcc541",
   "metadata": {},
   "source": [
    "#### find()\n",
    "\n",
    "Searches the string for a specified value and returns the position of where it was found."
   ]
  },
  {
   "cell_type": "code",
   "execution_count": 64,
   "id": "138de26d",
   "metadata": {},
   "outputs": [
    {
     "data": {
      "text/plain": [
       "0"
      ]
     },
     "execution_count": 64,
     "metadata": {},
     "output_type": "execute_result"
    }
   ],
   "source": [
    "string1='hai how are you'\n",
    "string1.find('h')"
   ]
  },
  {
   "cell_type": "code",
   "execution_count": 65,
   "id": "a2bfd25b",
   "metadata": {
    "scrolled": true
   },
   "outputs": [
    {
     "data": {
      "text/plain": [
       "6"
      ]
     },
     "execution_count": 65,
     "metadata": {},
     "output_type": "execute_result"
    }
   ],
   "source": [
    "string1='hai how are you'\n",
    "string1.find('w')"
   ]
  },
  {
   "cell_type": "code",
   "execution_count": 25,
   "id": "1cd6424e",
   "metadata": {},
   "outputs": [
    {
     "name": "stdout",
     "output_type": "stream",
     "text": [
      "jay\n",
      "sahu\n",
      "gmail\n"
     ]
    }
   ],
   "source": [
    "str1='jay.sahu@gmail.com'\n",
    "\n",
    "num1=str1.find('.')\n",
    "f_name=str1[:num1]\n",
    "print(f_name)\n",
    "\n",
    "num2=str1.find('@')\n",
    "s_name=str1[num1+1:num2]\n",
    "print(s_name)\n",
    "\n",
    "num3=str1.find('.',str1.find('.')+1)\n",
    "c_name=str1[num2+1:num3]\n",
    "print(c_name)"
   ]
  },
  {
   "cell_type": "markdown",
   "id": "ab14f1c7",
   "metadata": {},
   "source": [
    "#### 𝑚𝑎𝑥 - 𝑚𝑖𝑛"
   ]
  },
  {
   "cell_type": "code",
   "execution_count": 1,
   "id": "dda8bbe9",
   "metadata": {},
   "outputs": [
    {
     "data": {
      "text/plain": [
       "'p'"
      ]
     },
     "execution_count": 1,
     "metadata": {},
     "output_type": "execute_result"
    }
   ],
   "source": [
    "string1='pP'\n",
    "max(string1)   # python\n",
    "# ASCII\n",
    "# 'A': 65    'a':97"
   ]
  },
  {
   "cell_type": "code",
   "execution_count": 2,
   "id": "94c629fa",
   "metadata": {},
   "outputs": [
    {
     "data": {
      "text/plain": [
       "'P'"
      ]
     },
     "execution_count": 2,
     "metadata": {},
     "output_type": "execute_result"
    }
   ],
   "source": [
    "string1='pP'\n",
    "min(string1)"
   ]
  },
  {
   "cell_type": "markdown",
   "id": "687c20ff",
   "metadata": {},
   "source": [
    "### 𝑜𝑟𝑑-𝑐ℎ𝑟"
   ]
  },
  {
   "cell_type": "code",
   "execution_count": 3,
   "id": "147daa8e",
   "metadata": {},
   "outputs": [
    {
     "data": {
      "text/plain": [
       "112"
      ]
     },
     "execution_count": 3,
     "metadata": {},
     "output_type": "execute_result"
    }
   ],
   "source": [
    "ord('p')  # It will provide ascii value of char"
   ]
  },
  {
   "cell_type": "code",
   "execution_count": 4,
   "id": "b5d0e5cc",
   "metadata": {},
   "outputs": [
    {
     "data": {
      "text/plain": [
       "80"
      ]
     },
     "execution_count": 4,
     "metadata": {},
     "output_type": "execute_result"
    }
   ],
   "source": [
    "ord('P')"
   ]
  },
  {
   "cell_type": "code",
   "execution_count": 5,
   "id": "c3d23c15",
   "metadata": {},
   "outputs": [
    {
     "data": {
      "text/plain": [
       "('y', 'h')"
      ]
     },
     "execution_count": 5,
     "metadata": {},
     "output_type": "execute_result"
    }
   ],
   "source": [
    "string1='python'\n",
    "max(string1),min(string1)"
   ]
  },
  {
   "cell_type": "code",
   "execution_count": 6,
   "id": "3231c0ff",
   "metadata": {},
   "outputs": [
    {
     "data": {
      "text/plain": [
       "(112, 121, 116, 104, 111, 110)"
      ]
     },
     "execution_count": 6,
     "metadata": {},
     "output_type": "execute_result"
    }
   ],
   "source": [
    "ord('p'),ord('y'),ord('t'),ord('h'),ord('o'),ord('n')"
   ]
  },
  {
   "cell_type": "code",
   "execution_count": 7,
   "id": "78a0c52b",
   "metadata": {},
   "outputs": [
    {
     "data": {
      "text/plain": [
       "('p', 'y', 't', 'h', 'o', 'n')"
      ]
     },
     "execution_count": 7,
     "metadata": {},
     "output_type": "execute_result"
    }
   ],
   "source": [
    "chr(112),chr(121),chr(116),chr(104),chr(111),chr(110)"
   ]
  },
  {
   "cell_type": "code",
   "execution_count": 12,
   "id": "97fd6d37",
   "metadata": {},
   "outputs": [
    {
     "name": "stdout",
     "output_type": "stream",
     "text": [
      "the postive index of p is 0\n",
      "the postive index of y is 1\n",
      "the postive index of t is 2\n",
      "the postive index of h is 3\n",
      "the postive index of o is 4\n",
      "the postive index of n is 5\n"
     ]
    }
   ],
   "source": [
    "string1='python'\n",
    "\n",
    "for i in range(-len(string1),0):  \n",
    "    print('the postive index of {} is {}'.format(string1[i],i+6))"
   ]
  },
  {
   "cell_type": "code",
   "execution_count": 13,
   "id": "d248e291",
   "metadata": {},
   "outputs": [
    {
     "name": "stdout",
     "output_type": "stream",
     "text": [
      "the negative index of p is -6\n",
      "the negative index of y is -5\n",
      "the negative index of t is -4\n",
      "the negative index of h is -3\n",
      "the negative index of o is -2\n",
      "the negative index of n is -1\n"
     ]
    }
   ],
   "source": [
    "for i in range(-len(string1),0):\n",
    "    print(\"the negative index of {} is {}\".format(string1[i],i))"
   ]
  },
  {
   "cell_type": "code",
   "execution_count": 14,
   "id": "e1f1aa4a",
   "metadata": {},
   "outputs": [
    {
     "name": "stdout",
     "output_type": "stream",
     "text": [
      "the postive index is 0 and negative index is p for -6\n",
      "the postive index is 1 and negative index is y for -5\n",
      "the postive index is 2 and negative index is t for -4\n",
      "the postive index is 3 and negative index is h for -3\n",
      "the postive index is 4 and negative index is o for -2\n",
      "the postive index is 5 and negative index is n for -1\n"
     ]
    }
   ],
   "source": [
    "for i in range(-len(string1),0):\n",
    "    print(\"the postive index is {} and negative index is {} for {}\".format(i+6,string1[i],i))"
   ]
  },
  {
   "cell_type": "code",
   "execution_count": 10,
   "id": "c26d6942",
   "metadata": {},
   "outputs": [
    {
     "name": "stdout",
     "output_type": "stream",
     "text": [
      "112\n",
      "121\n",
      "116\n",
      "104\n",
      "111\n",
      "110\n"
     ]
    }
   ],
   "source": [
    "print(ord('p'))\n",
    "print(ord('y'))\n",
    "print(ord('t'))\n",
    "print(ord('h'))\n",
    "print(ord('o'))\n",
    "print(ord('n'))"
   ]
  },
  {
   "cell_type": "code",
   "execution_count": null,
   "id": "d8114e0f",
   "metadata": {},
   "outputs": [],
   "source": []
  },
  {
   "cell_type": "code",
   "execution_count": 15,
   "id": "3405bb95",
   "metadata": {},
   "outputs": [
    {
     "name": "stdout",
     "output_type": "stream",
     "text": [
      "hello how are you\n",
      "hello how are you\n",
      "hello how are you\n"
     ]
    }
   ],
   "source": [
    "str1=' hello how are you '\n",
    "str2=\" hello how are you\"\n",
    "str3=\"hello how are you \"\n",
    "print(str1.strip())\n",
    "print(str2.lstrip())\n",
    "print(str3.rstrip())"
   ]
  },
  {
   "cell_type": "code",
   "execution_count": null,
   "id": "b53b4493",
   "metadata": {},
   "outputs": [],
   "source": []
  },
  {
   "cell_type": "markdown",
   "id": "0fe70191",
   "metadata": {},
   "source": [
    "#### split()\n",
    "\n",
    "Splits the string at the specified separator, and returns a list."
   ]
  },
  {
   "cell_type": "code",
   "execution_count": 20,
   "id": "b78c87e9",
   "metadata": {},
   "outputs": [
    {
     "data": {
      "text/plain": [
       "['hai', 'howw', 'are', 'you']"
      ]
     },
     "execution_count": 20,
     "metadata": {},
     "output_type": "execute_result"
    }
   ],
   "source": [
    "str1='hai howw are you'\n",
    "str1.split()"
   ]
  },
  {
   "cell_type": "code",
   "execution_count": 21,
   "id": "c1b6c443",
   "metadata": {},
   "outputs": [
    {
     "data": {
      "text/plain": [
       "['hai how', 'are you']"
      ]
     },
     "execution_count": 21,
     "metadata": {},
     "output_type": "execute_result"
    }
   ],
   "source": [
    "str1='hai how,are you'\n",
    "str1.split(',')"
   ]
  },
  {
   "cell_type": "code",
   "execution_count": 22,
   "id": "9276af68",
   "metadata": {},
   "outputs": [
    {
     "data": {
      "text/plain": [
       "['h', 'i how,', 're you']"
      ]
     },
     "execution_count": 22,
     "metadata": {},
     "output_type": "execute_result"
    }
   ],
   "source": [
    "str1='hai how,are you'\n",
    "str1.split('a')"
   ]
  },
  {
   "cell_type": "code",
   "execution_count": 23,
   "id": "91ec24b1",
   "metadata": {},
   "outputs": [
    {
     "data": {
      "text/plain": [
       "'hello'"
      ]
     },
     "execution_count": 23,
     "metadata": {},
     "output_type": "execute_result"
    }
   ],
   "source": [
    "str1='%%%hello%%%%'\n",
    "str1.strip('%')"
   ]
  },
  {
   "cell_type": "code",
   "execution_count": null,
   "id": "437ec53c",
   "metadata": {},
   "outputs": [],
   "source": []
  },
  {
   "cell_type": "markdown",
   "id": "15f0af62",
   "metadata": {},
   "source": [
    "#### startswith() and endswith()\n",
    "\n",
    "Returns true if the string starts with the specified value.\n",
    "\n",
    "Returns true if the string ends with the specified value."
   ]
  },
  {
   "cell_type": "code",
   "execution_count": 16,
   "id": "fcfde33e",
   "metadata": {},
   "outputs": [
    {
     "data": {
      "text/plain": [
       "True"
      ]
     },
     "execution_count": 16,
     "metadata": {},
     "output_type": "execute_result"
    }
   ],
   "source": [
    "str1='hai how are you'\n",
    "str1.startswith('hai how are you')"
   ]
  },
  {
   "cell_type": "code",
   "execution_count": 17,
   "id": "6077f5da",
   "metadata": {},
   "outputs": [
    {
     "data": {
      "text/plain": [
       "True"
      ]
     },
     "execution_count": 17,
     "metadata": {},
     "output_type": "execute_result"
    }
   ],
   "source": [
    "str1.endswith('you')"
   ]
  },
  {
   "cell_type": "code",
   "execution_count": 18,
   "id": "3a710339",
   "metadata": {},
   "outputs": [
    {
     "data": {
      "text/plain": [
       "True"
      ]
     },
     "execution_count": 18,
     "metadata": {},
     "output_type": "execute_result"
    }
   ],
   "source": [
    "str1.startswith(str1)"
   ]
  },
  {
   "cell_type": "code",
   "execution_count": 19,
   "id": "605dbb4b",
   "metadata": {},
   "outputs": [
    {
     "data": {
      "text/plain": [
       "True"
      ]
     },
     "execution_count": 19,
     "metadata": {},
     "output_type": "execute_result"
    }
   ],
   "source": [
    "str1.endswith(str1)"
   ]
  },
  {
   "cell_type": "markdown",
   "id": "217c382c",
   "metadata": {},
   "source": [
    "#### isalpha()\n",
    "\n",
    "Returns True if all characters in the string are in the alphabet."
   ]
  },
  {
   "cell_type": "code",
   "execution_count": 28,
   "id": "17099a75",
   "metadata": {},
   "outputs": [
    {
     "data": {
      "text/plain": [
       "False"
      ]
     },
     "execution_count": 28,
     "metadata": {},
     "output_type": "execute_result"
    }
   ],
   "source": [
    "str1='90haihello8888howareyou'\n",
    "str1.isalpha()"
   ]
  },
  {
   "cell_type": "markdown",
   "id": "12ed1f38",
   "metadata": {},
   "source": [
    "#### isalnum()\n",
    "\n",
    "Returns True if all characters in the string are alphanumeric."
   ]
  },
  {
   "cell_type": "code",
   "execution_count": 24,
   "id": "dfaff0ec",
   "metadata": {},
   "outputs": [
    {
     "data": {
      "text/plain": [
       "False"
      ]
     },
     "execution_count": 24,
     "metadata": {},
     "output_type": "execute_result"
    }
   ],
   "source": [
    "str1='90hai hello 8 888how are you'\n",
    "str1.isalnum()"
   ]
  },
  {
   "cell_type": "code",
   "execution_count": 27,
   "id": "d5661acb",
   "metadata": {},
   "outputs": [
    {
     "data": {
      "text/plain": [
       "True"
      ]
     },
     "execution_count": 27,
     "metadata": {},
     "output_type": "execute_result"
    }
   ],
   "source": [
    "str1='90haihello8888howareyou'\n",
    "str1.isalnum()"
   ]
  },
  {
   "cell_type": "markdown",
   "id": "a3a9227c",
   "metadata": {},
   "source": [
    "#### isnumeric()\n",
    "\n",
    "Returns True if all characters in the string are numeric."
   ]
  },
  {
   "cell_type": "code",
   "execution_count": 29,
   "id": "a05ef221",
   "metadata": {},
   "outputs": [
    {
     "data": {
      "text/plain": [
       "False"
      ]
     },
     "execution_count": 29,
     "metadata": {},
     "output_type": "execute_result"
    }
   ],
   "source": [
    "str1='90haihello8888howareyou'\n",
    "str1.isnumeric()"
   ]
  },
  {
   "cell_type": "markdown",
   "id": "c9696197",
   "metadata": {},
   "source": [
    "#### isascii()\n",
    "\n",
    "Returns True if all characters in the string are ascii characters."
   ]
  },
  {
   "cell_type": "code",
   "execution_count": 30,
   "id": "295cbde1",
   "metadata": {},
   "outputs": [
    {
     "data": {
      "text/plain": [
       "True"
      ]
     },
     "execution_count": 30,
     "metadata": {},
     "output_type": "execute_result"
    }
   ],
   "source": [
    "str1='90haihello8888howareyou'\n",
    "str1.isascii()"
   ]
  },
  {
   "cell_type": "code",
   "execution_count": 31,
   "id": "c1bc0e1c",
   "metadata": {},
   "outputs": [
    {
     "data": {
      "text/plain": [
       "True"
      ]
     },
     "execution_count": 31,
     "metadata": {},
     "output_type": "execute_result"
    }
   ],
   "source": [
    "str1='8888'\n",
    "str1.isascii()"
   ]
  },
  {
   "cell_type": "code",
   "execution_count": 32,
   "id": "d1f0a722",
   "metadata": {},
   "outputs": [
    {
     "data": {
      "text/plain": [
       "True"
      ]
     },
     "execution_count": 32,
     "metadata": {},
     "output_type": "execute_result"
    }
   ],
   "source": [
    "str1='abc'\n",
    "str1.isascii()"
   ]
  },
  {
   "cell_type": "code",
   "execution_count": 2,
   "id": "3f63b70b",
   "metadata": {},
   "outputs": [
    {
     "data": {
      "text/plain": [
       "['__add__',\n",
       " '__class__',\n",
       " '__contains__',\n",
       " '__delattr__',\n",
       " '__dir__',\n",
       " '__doc__',\n",
       " '__eq__',\n",
       " '__format__',\n",
       " '__ge__',\n",
       " '__getattribute__',\n",
       " '__getitem__',\n",
       " '__getnewargs__',\n",
       " '__getstate__',\n",
       " '__gt__',\n",
       " '__hash__',\n",
       " '__init__',\n",
       " '__init_subclass__',\n",
       " '__iter__',\n",
       " '__le__',\n",
       " '__len__',\n",
       " '__lt__',\n",
       " '__mod__',\n",
       " '__mul__',\n",
       " '__ne__',\n",
       " '__new__',\n",
       " '__reduce__',\n",
       " '__reduce_ex__',\n",
       " '__repr__',\n",
       " '__rmod__',\n",
       " '__rmul__',\n",
       " '__setattr__',\n",
       " '__sizeof__',\n",
       " '__str__',\n",
       " '__subclasshook__',\n",
       " 'capitalize',\n",
       " 'casefold',\n",
       " 'center',\n",
       " 'count',\n",
       " 'encode',\n",
       " 'endswith',\n",
       " 'expandtabs',\n",
       " 'find',\n",
       " 'format',\n",
       " 'format_map',\n",
       " 'index',\n",
       " 'isalnum',\n",
       " 'isalpha',\n",
       " 'isascii',\n",
       " 'isdecimal',\n",
       " 'isdigit',\n",
       " 'isidentifier',\n",
       " 'islower',\n",
       " 'isnumeric',\n",
       " 'isprintable',\n",
       " 'isspace',\n",
       " 'istitle',\n",
       " 'isupper',\n",
       " 'join',\n",
       " 'ljust',\n",
       " 'lower',\n",
       " 'lstrip',\n",
       " 'maketrans',\n",
       " 'partition',\n",
       " 'removeprefix',\n",
       " 'removesuffix',\n",
       " 'replace',\n",
       " 'rfind',\n",
       " 'rindex',\n",
       " 'rjust',\n",
       " 'rpartition',\n",
       " 'rsplit',\n",
       " 'rstrip',\n",
       " 'split',\n",
       " 'splitlines',\n",
       " 'startswith',\n",
       " 'strip',\n",
       " 'swapcase',\n",
       " 'title',\n",
       " 'translate',\n",
       " 'upper',\n",
       " 'zfill']"
      ]
     },
     "execution_count": 2,
     "metadata": {},
     "output_type": "execute_result"
    }
   ],
   "source": [
    "dir(str)"
   ]
  },
  {
   "cell_type": "code",
   "execution_count": null,
   "id": "a545a8f7",
   "metadata": {},
   "outputs": [],
   "source": []
  }
 ],
 "metadata": {
  "kernelspec": {
   "display_name": "Python 3 (ipykernel)",
   "language": "python",
   "name": "python3"
  },
  "language_info": {
   "codemirror_mode": {
    "name": "ipython",
    "version": 3
   },
   "file_extension": ".py",
   "mimetype": "text/x-python",
   "name": "python",
   "nbconvert_exporter": "python",
   "pygments_lexer": "ipython3",
   "version": "3.11.5"
  }
 },
 "nbformat": 4,
 "nbformat_minor": 5
}
